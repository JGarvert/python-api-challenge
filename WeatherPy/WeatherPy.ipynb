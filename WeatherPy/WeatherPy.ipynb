{
 "cells": [
  {
   "cell_type": "markdown",
   "metadata": {},
   "source": [
    "# WeatherPy\n",
    "----\n",
    "\n",
    "#### Note\n",
    "* Instructions have been included for each segment. You do not have to follow them exactly, but they are included to help you think through the steps."
   ]
  },
  {
   "cell_type": "code",
   "execution_count": 1,
   "metadata": {
    "scrolled": true
   },
   "outputs": [],
   "source": [
    "# Dependencies and Setup\n",
    "import matplotlib.pyplot as plt\n",
    "import pandas as pd\n",
    "import numpy as np\n",
    "import requests\n",
    "import time\n",
    "import json\n",
    "from scipy.stats import linregress\n",
    "\n",
    "# Import API key\n",
    "from config import weather_api_key\n",
    "\n",
    "# Incorporated citipy to determine city based on latitude and longitude\n",
    "from citipy import citipy\n",
    "\n",
    "# Output File (CSV)\n",
    "output_data_file = \"output_data/cities.csv\"\n",
    "\n",
    "# Range of latitudes and longitudes\n",
    "lat_range = (-90, 90)\n",
    "lng_range = (-180, 180)"
   ]
  },
  {
   "cell_type": "markdown",
   "metadata": {},
   "source": [
    "## Generate Cities List"
   ]
  },
  {
   "cell_type": "code",
   "execution_count": 2,
   "metadata": {},
   "outputs": [
    {
     "data": {
      "text/plain": [
       "595"
      ]
     },
     "execution_count": 2,
     "metadata": {},
     "output_type": "execute_result"
    }
   ],
   "source": [
    "# List for holding lat_lngs and cities\n",
    "lat_lngs = []\n",
    "cities = []\n",
    "\n",
    "# Create a set of random lat and lng combinations\n",
    "lats = np.random.uniform(lat_range[0], lat_range[1], size=1500)\n",
    "lngs = np.random.uniform(lng_range[0], lng_range[1], size=1500)\n",
    "lat_lngs = zip(lats, lngs)\n",
    "\n",
    "# Identify nearest city for each lat, lng combination\n",
    "for lat_lng in lat_lngs:\n",
    "    city = citipy.nearest_city(lat_lng[0], lat_lng[1]).city_name\n",
    "    \n",
    "    # If the city is unique, then add it to a our cities list\n",
    "    if city not in cities:\n",
    "        cities.append(city)\n",
    "\n",
    "# Print the city count to confirm sufficient count\n",
    "len(cities)"
   ]
  },
  {
   "cell_type": "code",
   "execution_count": 3,
   "metadata": {},
   "outputs": [
    {
     "data": {
      "text/plain": [
       "['hithadhoo', 'albany', 'taolanaro', 'rikitea', 'punta arenas']"
      ]
     },
     "execution_count": 3,
     "metadata": {},
     "output_type": "execute_result"
    }
   ],
   "source": [
    "cities[:5]"
   ]
  },
  {
   "cell_type": "markdown",
   "metadata": {},
   "source": [
    "### Perform API Calls\n",
    "* Perform a weather check on each city using a series of successive API calls.\n",
    "* Include a print log of each city as it's being processed (with the city number and city name).\n"
   ]
  },
  {
   "cell_type": "code",
   "execution_count": 4,
   "metadata": {},
   "outputs": [
    {
     "data": {
      "text/plain": [
       "'c8b9cf8e041808818c631648e43e7413'"
      ]
     },
     "execution_count": 4,
     "metadata": {},
     "output_type": "execute_result"
    }
   ],
   "source": [
    "weather_api_key"
   ]
  },
  {
   "cell_type": "code",
   "execution_count": 5,
   "metadata": {},
   "outputs": [],
   "source": [
    "# Save config information.\n",
    "url = \"http://api.openweathermap.org/data/2.5/weather?\"\n",
    "units = \"imperial\"\n",
    "\n",
    "# Build partial query URL\n",
    "query_url = f\"{url}appid={weather_api_key}&units={units}&q=\"\n",
    "\n",
    "# print(json.dumps(requests.get(query_url + cities[0]).json(), indent=3))\n",
    "\n",
    "data = requests.get(query_url + cities[0]).json()"
   ]
  },
  {
   "cell_type": "code",
   "execution_count": 6,
   "metadata": {},
   "outputs": [
    {
     "data": {
      "text/plain": [
       "dict_keys(['coord', 'weather', 'base', 'main', 'visibility', 'wind', 'clouds', 'dt', 'sys', 'timezone', 'id', 'name', 'cod'])"
      ]
     },
     "execution_count": 6,
     "metadata": {},
     "output_type": "execute_result"
    }
   ],
   "source": [
    "data.keys()\n",
    "# if curly brackets, use .keys to find the keys of interest"
   ]
  },
  {
   "cell_type": "code",
   "execution_count": 7,
   "metadata": {},
   "outputs": [
    {
     "data": {
      "text/plain": [
       "{'id': 800, 'main': 'Clear', 'description': 'clear sky', 'icon': '01d'}"
      ]
     },
     "execution_count": 7,
     "metadata": {},
     "output_type": "execute_result"
    }
   ],
   "source": [
    "data['weather'][0]"
   ]
  },
  {
   "cell_type": "code",
   "execution_count": 8,
   "metadata": {},
   "outputs": [
    {
     "name": "stdout",
     "output_type": "stream",
     "text": [
      "Beginning Data Retrieval\n",
      "----------------------------\n",
      "Processing Record 1 | hithadhoo\n",
      "Processing Record 2 | albany\n",
      "City not found. Skipping...\n",
      "Processing Record 3 | rikitea\n",
      "Processing Record 4 | punta arenas\n",
      "City not found. Skipping...\n",
      "Processing Record 5 | sampit\n",
      "Processing Record 6 | port alfred\n",
      "City not found. Skipping...\n",
      "Processing Record 7 | ushuaia\n",
      "Processing Record 8 | mataura\n",
      "Processing Record 9 | grindavik\n",
      "Processing Record 10 | ilulissat\n",
      "Processing Record 11 | ribeira grande\n",
      "Processing Record 12 | coahuayana\n",
      "Processing Record 13 | karpathos\n",
      "Processing Record 14 | nyurba\n",
      "Processing Record 15 | kapaa\n",
      "Processing Record 16 | hilo\n",
      "Processing Record 17 | riyadh\n",
      "Processing Record 18 | dikson\n",
      "Processing Record 19 | mogadishu\n",
      "Processing Record 20 | avarua\n",
      "City not found. Skipping...\n",
      "Processing Record 21 | mackenzie\n",
      "Processing Record 22 | new norfolk\n",
      "Processing Record 23 | bluff\n",
      "Processing Record 24 | amahai\n",
      "Processing Record 25 | xuddur\n",
      "Processing Record 26 | atuona\n",
      "Processing Record 27 | oktyabrskiy\n",
      "Processing Record 28 | lompoc\n",
      "Processing Record 29 | marystown\n",
      "Processing Record 30 | chililabombwe\n",
      "Processing Record 31 | preobrazheniye\n",
      "Processing Record 32 | barrow\n",
      "Processing Record 33 | chokurdakh\n",
      "Processing Record 34 | porto novo\n",
      "Processing Record 35 | puerto ayora\n",
      "Processing Record 36 | benghazi\n",
      "City not found. Skipping...\n",
      "Processing Record 37 | east london\n",
      "Processing Record 38 | tomigusuku\n",
      "Processing Record 39 | itacoatiara\n",
      "Processing Record 40 | padang\n",
      "City not found. Skipping...\n",
      "Processing Record 41 | taizhou\n",
      "Processing Record 42 | linguere\n",
      "Processing Record 43 | george\n",
      "City not found. Skipping...\n",
      "Processing Record 44 | fukue\n",
      "Processing Record 45 | tuktoyaktuk\n",
      "Processing Record 46 | cherskiy\n",
      "City not found. Skipping...\n",
      "Processing Record 47 | kudahuvadhoo\n",
      "Processing Record 48 | lata\n",
      "Processing Record 49 | hobart\n",
      "Processing Record 50 | phatthalung\n",
      "Processing Record 51 | dunedin\n",
      "Processing Record 52 | longyearbyen\n",
      "Processing Record 53 | dinar\n",
      "Processing Record 54 | saskylakh\n",
      "City not found. Skipping...\n",
      "Processing Record 55 | vaini\n",
      "Processing Record 56 | port elizabeth\n",
      "Processing Record 57 | bojonegoro\n",
      "Processing Record 58 | iwanai\n",
      "Processing Record 59 | itarema\n",
      "Processing Record 60 | nanakuli\n",
      "Processing Record 61 | hofn\n",
      "Processing Record 62 | hermanus\n",
      "Processing Record 63 | cape town\n",
      "City not found. Skipping...\n",
      "Processing Record 64 | vestmanna\n",
      "Processing Record 65 | port macquarie\n",
      "Processing Record 66 | sabang\n",
      "Processing Record 67 | narsaq\n",
      "Processing Record 68 | nogliki\n",
      "Processing Record 69 | thompson\n",
      "Processing Record 70 | marsa matruh\n",
      "Processing Record 71 | puerto ayacucho\n",
      "Processing Record 72 | lovozero\n",
      "Processing Record 73 | kuryk\n",
      "Processing Record 74 | cidreira\n",
      "Processing Record 75 | busselton\n",
      "Processing Record 76 | champerico\n",
      "Processing Record 77 | cabo san lucas\n",
      "Processing Record 78 | turkistan\n",
      "Processing Record 79 | komsomolskiy\n",
      "Processing Record 80 | codrington\n",
      "Processing Record 81 | tautira\n",
      "Processing Record 82 | faanui\n",
      "Processing Record 83 | torbay\n",
      "Processing Record 84 | partapur\n",
      "Processing Record 85 | misratah\n",
      "Processing Record 86 | college\n",
      "Processing Record 87 | cap malheureux\n",
      "Processing Record 88 | majene\n",
      "Processing Record 89 | yellowknife\n",
      "City not found. Skipping...\n",
      "Processing Record 90 | severo-kurilsk\n",
      "Processing Record 91 | saint george\n",
      "Processing Record 92 | souillac\n",
      "Processing Record 93 | dingle\n",
      "Processing Record 94 | murdochville\n",
      "Processing Record 95 | sitka\n",
      "Processing Record 96 | portland\n",
      "Processing Record 97 | gimli\n",
      "Processing Record 98 | srednekolymsk\n",
      "Processing Record 99 | hobyo\n",
      "Processing Record 100 | nanortalik\n",
      "Processing Record 101 | mayna\n",
      "Processing Record 102 | touros\n",
      "Processing Record 103 | isangel\n",
      "Processing Record 104 | upernavik\n",
      "Processing Record 105 | khatanga\n",
      "City not found. Skipping...\n",
      "Processing Record 106 | rio gallegos\n",
      "Processing Record 107 | corinth\n",
      "Processing Record 108 | da nang\n",
      "City not found. Skipping...\n",
      "Processing Record 109 | nikolskoye\n",
      "Processing Record 110 | tomatlan\n",
      "Processing Record 111 | mar del plata\n",
      "Processing Record 112 | totoral\n",
      "Processing Record 113 | klaksvik\n",
      "Processing Record 114 | brownwood\n",
      "Processing Record 115 | ghatanji\n",
      "Processing Record 116 | sibolga\n",
      "Processing Record 117 | jamestown\n",
      "Processing Record 118 | abu dhabi\n",
      "Processing Record 119 | altay\n",
      "Processing Record 120 | portsmouth\n",
      "Processing Record 121 | borzya\n",
      "Processing Record 122 | lubango\n",
      "Processing Record 123 | orlik\n",
      "Processing Record 124 | qaanaaq\n",
      "Processing Record 125 | vao\n",
      "Processing Record 126 | kualakapuas\n",
      "Processing Record 127 | alice springs\n",
      "Processing Record 128 | ixtapa\n",
      "Processing Record 129 | cuamba\n",
      "Processing Record 130 | port augusta\n",
      "Processing Record 131 | saldanha\n",
      "Processing Record 132 | saint-philippe\n",
      "Processing Record 133 | yanam\n",
      "City not found. Skipping...\n",
      "Processing Record 134 | butaritari\n",
      "Processing Record 135 | beringovskiy\n",
      "Processing Record 136 | cam ranh\n",
      "Processing Record 137 | norman wells\n",
      "Processing Record 138 | husavik\n",
      "Processing Record 139 | cayenne\n",
      "Processing Record 140 | palmer\n",
      "Processing Record 141 | sydney\n",
      "Processing Record 142 | bose\n",
      "Processing Record 143 | comodoro rivadavia\n",
      "Processing Record 144 | bethel\n",
      "Processing Record 145 | ancud\n",
      "Processing Record 146 | bodden town\n",
      "Processing Record 147 | brejo santo\n",
      "Processing Record 148 | dzaoudzi\n",
      "Processing Record 149 | bambous virieux\n",
      "Processing Record 150 | castro\n",
      "Processing Record 151 | port hedland\n",
      "Processing Record 152 | nemuro\n",
      "Processing Record 153 | rosignol\n",
      "Processing Record 154 | mehamn\n",
      "Processing Record 155 | tuatapere\n",
      "Processing Record 156 | geraldton\n",
      "City not found. Skipping...\n",
      "Processing Record 157 | sovetskiy\n",
      "Processing Record 158 | tasiilaq\n",
      "Processing Record 159 | causapscal\n",
      "Processing Record 160 | esperance\n",
      "City not found. Skipping...\n",
      "Processing Record 161 | mahebourg\n",
      "Processing Record 162 | berlevag\n",
      "Processing Record 163 | mecca\n",
      "Processing Record 164 | hede\n",
      "Processing Record 165 | katsuura\n",
      "Processing Record 166 | yekimovichi\n",
      "Processing Record 167 | ponta do sol\n",
      "Processing Record 168 | myrtle beach\n",
      "Processing Record 169 | sao filipe\n",
      "Processing Record 170 | namatanai\n",
      "Processing Record 171 | bulgan\n",
      "Processing Record 172 | airai\n",
      "Processing Record 173 | haines junction\n",
      "Processing Record 174 | huambo\n",
      "Processing Record 175 | carnarvon\n",
      "Processing Record 176 | hasaki\n",
      "Processing Record 177 | salalah\n",
      "Processing Record 178 | sayyan\n",
      "City not found. Skipping...\n",
      "Processing Record 179 | tshikapa\n",
      "Processing Record 180 | flic en flac\n",
      "Processing Record 181 | provideniya\n",
      "Processing Record 182 | methoni\n",
      "Processing Record 183 | umea\n",
      "Processing Record 184 | abha\n",
      "Processing Record 185 | maralal\n",
      "Processing Record 186 | namibe\n",
      "Processing Record 187 | bougouni\n",
      "Processing Record 188 | san patricio\n",
      "Processing Record 189 | neuquen\n",
      "City not found. Skipping...\n",
      "Processing Record 190 | san ramon\n",
      "Processing Record 191 | sivas\n",
      "Processing Record 192 | okhotsk\n",
      "Processing Record 193 | lavrentiya\n",
      "City not found. Skipping...\n",
      "City not found. Skipping...\n",
      "Processing Record 194 | lahaina\n",
      "Processing Record 195 | kodiak\n",
      "Processing Record 196 | polewali\n",
      "Processing Record 197 | aklavik\n",
      "Processing Record 198 | puerto madryn\n",
      "Processing Record 199 | batagay-alyta\n",
      "Processing Record 200 | hazaribag\n",
      "Processing Record 201 | nelson bay\n",
      "Processing Record 202 | minudasht\n",
      "Processing Record 203 | arraial do cabo\n",
      "Processing Record 204 | erzin\n",
      "Processing Record 205 | muncar\n",
      "Processing Record 206 | san vicente\n",
      "Processing Record 207 | yakeshi\n",
      "Processing Record 208 | clyde river\n",
      "Processing Record 209 | waipawa\n",
      "Processing Record 210 | bichura\n",
      "Processing Record 211 | bredasdorp\n",
      "Processing Record 212 | bengkulu\n",
      "Processing Record 213 | ipixuna\n",
      "Processing Record 214 | rosetta\n",
      "City not found. Skipping...\n",
      "Processing Record 215 | lebu\n",
      "Processing Record 216 | lagoa\n",
      "City not found. Skipping...\n",
      "Processing Record 217 | jingdezhen\n",
      "Processing Record 218 | fortuna\n",
      "Processing Record 219 | vanderhoof\n",
      "City not found. Skipping...\n",
      "Processing Record 220 | kovdor\n",
      "Processing Record 221 | porto de moz\n",
      "City not found. Skipping...\n",
      "Processing Record 222 | kutum\n",
      "Processing Record 223 | hastings\n",
      "Processing Record 224 | roebourne\n",
      "Processing Record 225 | mount gambier\n",
      "Processing Record 226 | panjab\n",
      "Processing Record 227 | novaya igirma\n",
      "Processing Record 228 | te anau\n"
     ]
    },
    {
     "name": "stdout",
     "output_type": "stream",
     "text": [
      "Processing Record 229 | aksarka\n",
      "Processing Record 230 | sinnamary\n",
      "Processing Record 231 | pangnirtung\n",
      "Processing Record 232 | puli\n",
      "Processing Record 233 | kabinda\n",
      "Processing Record 234 | ust-maya\n",
      "Processing Record 235 | antofagasta\n",
      "Processing Record 236 | taft\n",
      "Processing Record 237 | lorengau\n",
      "Processing Record 238 | acapulco\n",
      "Processing Record 239 | chapais\n",
      "City not found. Skipping...\n",
      "City not found. Skipping...\n",
      "Processing Record 240 | ambanja\n",
      "Processing Record 241 | okha\n",
      "Processing Record 242 | muros\n",
      "Processing Record 243 | port hardy\n",
      "Processing Record 244 | basco\n",
      "Processing Record 245 | kibaya\n",
      "City not found. Skipping...\n",
      "Processing Record 246 | vestmannaeyjar\n",
      "City not found. Skipping...\n",
      "Processing Record 247 | karratha\n",
      "Processing Record 248 | hanstholm\n",
      "Processing Record 249 | constitucion\n",
      "Processing Record 250 | chuy\n",
      "City not found. Skipping...\n",
      "Processing Record 251 | saint anthony\n",
      "City not found. Skipping...\n",
      "Processing Record 252 | roald\n",
      "Processing Record 253 | georgetown\n",
      "Processing Record 254 | coruripe\n",
      "Processing Record 255 | adre\n",
      "Processing Record 256 | yatou\n",
      "Processing Record 257 | oktyabrskoye\n",
      "Processing Record 258 | salento\n",
      "Processing Record 259 | kyrnasivka\n",
      "Processing Record 260 | andros\n",
      "Processing Record 261 | oranjemund\n",
      "Processing Record 262 | porto belo\n",
      "Processing Record 263 | jinka\n",
      "Processing Record 264 | havoysund\n",
      "Processing Record 265 | vallenar\n",
      "Processing Record 266 | nouadhibou\n",
      "Processing Record 267 | alekseyevka\n",
      "Processing Record 268 | santa cruz\n",
      "Processing Record 269 | seymchan\n",
      "Processing Record 270 | egvekinot\n",
      "City not found. Skipping...\n",
      "Processing Record 271 | karangampel\n",
      "Processing Record 272 | jacareacanga\n",
      "Processing Record 273 | leua\n",
      "City not found. Skipping...\n",
      "Processing Record 274 | victoria\n",
      "Processing Record 275 | beira\n",
      "Processing Record 276 | otradnoye\n",
      "Processing Record 277 | khoy\n",
      "Processing Record 278 | labuhan\n",
      "City not found. Skipping...\n",
      "Processing Record 279 | charleston\n",
      "Processing Record 280 | puri\n",
      "Processing Record 281 | marshall\n",
      "Processing Record 282 | port lincoln\n",
      "Processing Record 283 | chernaya kholunitsa\n",
      "Processing Record 284 | bermeo\n",
      "Processing Record 285 | los mochis\n",
      "Processing Record 286 | guadalupe y calvo\n",
      "Processing Record 287 | sao joao da barra\n",
      "Processing Record 288 | bonthe\n",
      "Processing Record 289 | pacific grove\n",
      "Processing Record 290 | saint-denis\n",
      "Processing Record 291 | gat\n",
      "Processing Record 292 | nautla\n",
      "Processing Record 293 | jintur\n",
      "Processing Record 294 | casas grandes\n",
      "Processing Record 295 | biak\n",
      "Processing Record 296 | alugan\n",
      "City not found. Skipping...\n",
      "Processing Record 297 | tiksi\n",
      "Processing Record 298 | zhezkazgan\n",
      "Processing Record 299 | mahibadhoo\n",
      "Processing Record 300 | manbij\n",
      "Processing Record 301 | sechura\n",
      "Processing Record 302 | saint-michel-des-saints\n",
      "Processing Record 303 | opuwo\n",
      "Processing Record 304 | tura\n",
      "Processing Record 305 | coihaique\n",
      "Processing Record 306 | san carlos de bariloche\n",
      "City not found. Skipping...\n",
      "Processing Record 307 | pemberton\n",
      "Processing Record 308 | kahului\n",
      "City not found. Skipping...\n",
      "Processing Record 309 | ruzhyn\n",
      "Processing Record 310 | aden\n",
      "Processing Record 311 | mae hong son\n",
      "Processing Record 312 | sheffield\n",
      "Processing Record 313 | yarmouth\n",
      "Processing Record 314 | polis\n",
      "Processing Record 315 | chateaubelair\n",
      "Processing Record 316 | taraz\n",
      "Processing Record 317 | bathsheba\n",
      "Processing Record 318 | northam\n",
      "Processing Record 319 | mango\n",
      "Processing Record 320 | makakilo city\n",
      "Processing Record 321 | mizdah\n",
      "Processing Record 322 | kayerkan\n",
      "Processing Record 323 | yar-sale\n",
      "Processing Record 324 | talnakh\n",
      "Processing Record 325 | ericeira\n",
      "Processing Record 326 | vilyuysk\n",
      "Processing Record 327 | la ronge\n",
      "Processing Record 328 | baykit\n",
      "Processing Record 329 | de aar\n",
      "Processing Record 330 | terney\n",
      "Processing Record 331 | camacha\n",
      "Processing Record 332 | lang son\n",
      "Processing Record 333 | kaitangata\n",
      "Processing Record 334 | semnan\n",
      "Processing Record 335 | manggar\n",
      "Processing Record 336 | ouango\n",
      "Processing Record 337 | rawson\n",
      "Processing Record 338 | ambulu\n",
      "Processing Record 339 | ambilobe\n",
      "Processing Record 340 | atar\n",
      "Processing Record 341 | meulaboh\n",
      "Processing Record 342 | marawi\n",
      "Processing Record 343 | umm lajj\n",
      "Processing Record 344 | dalaba\n",
      "City not found. Skipping...\n",
      "Processing Record 345 | san policarpo\n",
      "Processing Record 346 | hinton\n",
      "Processing Record 347 | mayo\n",
      "Processing Record 348 | ahipara\n",
      "Processing Record 349 | samana\n",
      "Processing Record 350 | boyolangu\n",
      "Processing Record 351 | kulhudhuffushi\n",
      "Processing Record 352 | toppenish\n",
      "Processing Record 353 | aldan\n",
      "Processing Record 354 | gladstone\n",
      "Processing Record 355 | saint-francois\n",
      "Processing Record 356 | saint-pierre\n",
      "Processing Record 357 | alappuzha\n",
      "City not found. Skipping...\n",
      "Processing Record 358 | juneau\n",
      "Processing Record 359 | riverton\n",
      "Processing Record 360 | manta\n",
      "Processing Record 361 | huicungo\n",
      "Processing Record 362 | pandan\n",
      "Processing Record 363 | robertsport\n",
      "Processing Record 364 | plettenberg bay\n",
      "Processing Record 365 | hambantota\n",
      "Processing Record 366 | freeport\n",
      "Processing Record 367 | puerto escondido\n",
      "Processing Record 368 | manaure\n",
      "Processing Record 369 | turbat\n",
      "Processing Record 370 | moose factory\n",
      "Processing Record 371 | port blair\n",
      "Processing Record 372 | terrace\n",
      "Processing Record 373 | rio grande\n",
      "Processing Record 374 | helsinge\n",
      "Processing Record 375 | lingao\n",
      "Processing Record 376 | charters towers\n",
      "Processing Record 377 | akdepe\n",
      "Processing Record 378 | abu samrah\n",
      "City not found. Skipping...\n",
      "City not found. Skipping...\n",
      "Processing Record 379 | nadvoitsy\n",
      "Processing Record 380 | lithakia\n",
      "Processing Record 381 | ituporanga\n",
      "Processing Record 382 | sechelt\n",
      "Processing Record 383 | eureka\n",
      "Processing Record 384 | cardston\n",
      "Processing Record 385 | veraval\n",
      "City not found. Skipping...\n",
      "Processing Record 386 | ust-tsilma\n",
      "Processing Record 387 | uyuni\n",
      "Processing Record 388 | panjakent\n",
      "Processing Record 389 | nhulunbuy\n",
      "Processing Record 390 | sur\n",
      "Processing Record 391 | moravsky krumlov\n",
      "Processing Record 392 | booue\n",
      "Processing Record 393 | hornepayne\n",
      "Processing Record 394 | hadejia\n",
      "Processing Record 395 | san jose\n",
      "Processing Record 396 | cabedelo\n",
      "Processing Record 397 | menomonie\n",
      "Processing Record 398 | san cristobal\n",
      "Processing Record 399 | coquimbo\n",
      "Processing Record 400 | benjamin aceval\n",
      "Processing Record 401 | eydhafushi\n",
      "City not found. Skipping...\n",
      "Processing Record 402 | linqiong\n",
      "Processing Record 403 | tarskoye\n",
      "Processing Record 404 | praxedis guerrero\n",
      "Processing Record 405 | le port\n",
      "Processing Record 406 | prince rupert\n",
      "Processing Record 407 | parola\n",
      "Processing Record 408 | shostka\n",
      "Processing Record 409 | srivardhan\n",
      "Processing Record 410 | sorland\n",
      "Processing Record 411 | dryden\n",
      "Processing Record 412 | waiuku\n",
      "Processing Record 413 | saurimo\n",
      "Processing Record 414 | farrukhnagar\n",
      "Processing Record 415 | mingaora\n",
      "Processing Record 416 | byron bay\n",
      "Processing Record 417 | zapolyarnyy\n",
      "Processing Record 418 | gemena\n",
      "Processing Record 419 | ust-nera\n",
      "City not found. Skipping...\n",
      "Processing Record 420 | pauini\n",
      "Processing Record 421 | sept-iles\n",
      "Processing Record 422 | iberia\n",
      "Processing Record 423 | morada nova\n",
      "Processing Record 424 | natchitoches\n",
      "City not found. Skipping...\n",
      "Processing Record 425 | okato\n",
      "Processing Record 426 | tilichiki\n",
      "Processing Record 427 | dasoguz\n",
      "Processing Record 428 | edson\n",
      "Processing Record 429 | datong\n",
      "City not found. Skipping...\n",
      "Processing Record 430 | korla\n",
      "Processing Record 431 | goya\n",
      "Processing Record 432 | bani walid\n",
      "City not found. Skipping...\n",
      "Processing Record 433 | segezha\n",
      "Processing Record 434 | pangai\n",
      "Processing Record 435 | kathmandu\n",
      "Processing Record 436 | kismayo\n",
      "Processing Record 437 | kunda\n",
      "Processing Record 438 | kavieng\n",
      "Processing Record 439 | neftcala\n",
      "Processing Record 440 | contamana\n",
      "Processing Record 441 | suntar\n",
      "Processing Record 442 | nicholasville\n",
      "Processing Record 443 | ostrovnoy\n",
      "Processing Record 444 | mandalgovi\n",
      "Processing Record 445 | yarada\n",
      "Processing Record 446 | wanning\n",
      "Processing Record 447 | anekal\n",
      "Processing Record 448 | gogrial\n",
      "Processing Record 449 | harper\n",
      "Processing Record 450 | zemetchino\n",
      "Processing Record 451 | svetlogorsk\n",
      "Processing Record 452 | danilov\n",
      "Processing Record 453 | zaysan\n",
      "Processing Record 454 | calvinia\n",
      "Processing Record 455 | bilma\n",
      "Processing Record 456 | addanki\n"
     ]
    },
    {
     "name": "stdout",
     "output_type": "stream",
     "text": [
      "Processing Record 457 | iskateley\n",
      "Processing Record 458 | spornoye\n",
      "Processing Record 459 | aquiraz\n",
      "Processing Record 460 | fort-shevchenko\n",
      "Processing Record 461 | wum\n",
      "Processing Record 462 | cangzhou\n",
      "Processing Record 463 | xining\n",
      "Processing Record 464 | kalianget\n",
      "Processing Record 465 | fortuna foothills\n",
      "Processing Record 466 | alofi\n",
      "Processing Record 467 | binabalian\n",
      "Processing Record 468 | guaruja\n",
      "Processing Record 469 | livingston\n",
      "Processing Record 470 | iqaluit\n",
      "Processing Record 471 | iracoubo\n",
      "Processing Record 472 | qasigiannguit\n",
      "Processing Record 473 | del rio\n",
      "Processing Record 474 | manicore\n",
      "Processing Record 475 | kapit\n",
      "City not found. Skipping...\n",
      "Processing Record 476 | fairbanks\n",
      "Processing Record 477 | disna\n",
      "Processing Record 478 | santa lucia\n",
      "Processing Record 479 | san luis\n",
      "Processing Record 480 | acari\n",
      "Processing Record 481 | aleksandrov gay\n",
      "Processing Record 482 | ulkan\n",
      "Processing Record 483 | eregli\n",
      "City not found. Skipping...\n",
      "Processing Record 484 | soligalich\n",
      "Processing Record 485 | samarai\n",
      "Processing Record 486 | leningradskiy\n",
      "Processing Record 487 | lashio\n",
      "Processing Record 488 | cravo norte\n",
      "Processing Record 489 | shitanjing\n",
      "Processing Record 490 | nome\n",
      "City not found. Skipping...\n",
      "Processing Record 491 | pisco\n",
      "Processing Record 492 | porgera\n",
      "Processing Record 493 | vila velha\n",
      "Processing Record 494 | avera\n",
      "Processing Record 495 | maarianhamina\n",
      "Processing Record 496 | tabou\n",
      "Processing Record 497 | shizunai\n",
      "Processing Record 498 | ramon\n",
      "Processing Record 499 | kongoussi\n",
      "Processing Record 500 | bima\n",
      "Processing Record 501 | aljezur\n",
      "Processing Record 502 | douala\n",
      "Processing Record 503 | haukipudas\n",
      "Processing Record 504 | gorontalo\n",
      "City not found. Skipping...\n",
      "Processing Record 505 | galveston\n",
      "Processing Record 506 | mandan\n",
      "Processing Record 507 | bubaque\n",
      "Processing Record 508 | mocuba\n",
      "Processing Record 509 | leeuwarden\n",
      "City not found. Skipping...\n",
      "Processing Record 510 | kloulklubed\n",
      "Processing Record 511 | quatre cocos\n",
      "Processing Record 512 | tadine\n",
      "Processing Record 513 | saint-georges\n",
      "Processing Record 514 | vardo\n",
      "City not found. Skipping...\n",
      "City not found. Skipping...\n",
      "City not found. Skipping...\n",
      "Processing Record 515 | guanica\n",
      "Processing Record 516 | san felipe\n",
      "City not found. Skipping...\n",
      "City not found. Skipping...\n",
      "Processing Record 517 | huicheng\n",
      "Processing Record 518 | buraydah\n",
      "Processing Record 519 | el progreso\n",
      "Processing Record 520 | talara\n",
      "Processing Record 521 | toamasina\n",
      "Processing Record 522 | tereze\n",
      "Processing Record 523 | isla mujeres\n",
      "Processing Record 524 | okmulgee\n",
      "Processing Record 525 | safaga\n",
      "Processing Record 526 | le vauclin\n",
      "City not found. Skipping...\n",
      "Processing Record 527 | inhambane\n",
      "Processing Record 528 | kampot\n",
      "Processing Record 529 | khani\n",
      "Processing Record 530 | karabulak\n",
      "Processing Record 531 | deputatskiy\n",
      "Processing Record 532 | fare\n",
      "Processing Record 533 | tabas\n",
      "Processing Record 534 | pevek\n",
      "Processing Record 535 | taltal\n",
      "Processing Record 536 | raudeberg\n",
      "Processing Record 537 | lerwick\n",
      "Processing Record 538 | borodino\n"
     ]
    }
   ],
   "source": [
    "# DF to store all cities and city number (uses citipy)\n",
    "city_df = pd.DataFrame({'City': cities})\n",
    "print(\"Beginning Data Retrieval\")\n",
    "print(\"----------------------------\")\n",
    "\n",
    "\n",
    "# Sets parameters for calling city name\n",
    "\n",
    "\n",
    "# Target Url for API calls\n",
    "query_url = \"http://api.openweathermap.org/data/2.5/weather\"\n",
    "\n",
    "# Create add'l fields for later api calls\n",
    "\n",
    "city_df['Lat'] = ''\n",
    "city_df['Lng'] = ''\n",
    "city_df['Max Temp'] = ''\n",
    "city_df['Humidity'] = ''\n",
    "city_df['Cloudiness'] = ''\n",
    "city_df['Wind Speed'] = ''\n",
    "city_df['Country'] = ''\n",
    "city_df['Date'] = ''\n",
    "\n",
    "city_count = 0\n",
    "\n",
    "# Loop through the API\n",
    "for index,row in city_df.iterrows():\n",
    "\n",
    "    city_name = row['City']\n",
    "#     city_id = row['id']\n",
    "    \n",
    "    # Set query parameters\n",
    "    params = {'q': city_name,'units': 'imperial','appid': weather_api_key,}\n",
    "    response = requests.get(query_url, params = params).json()\n",
    "    \n",
    "    try:\n",
    "       \n",
    "        city_df.loc[index, 'Lat'] = response['coord']['lat']\n",
    "        city_df.loc[index, 'Lng'] = response['coord']['lon']\n",
    "        city_df.loc[index, 'Max Temp'] = response['main']['temp_max']\n",
    "        city_df.loc[index, 'Humidity'] = response['main']['humidity']\n",
    "        city_df.loc[index, 'Cloudiness'] = response['clouds']['all']\n",
    "        city_df.loc[index, 'Wind Speed'] = response['wind']['speed']\n",
    "        city_df.loc[index, 'Date'] = response['dt']\n",
    "        \n",
    "        # Update city number\n",
    "        city_count += 1\n",
    "        \n",
    "        # Print log of each city being processed (only if all data is available)\n",
    "        print(f'Processing Record {city_count} | {city_name}')\n",
    "        \n",
    "    except (KeyError, IndexError):\n",
    "\n",
    "        print(\"City not found. Skipping...\")\n",
    "\n",
    "\n",
    "## Every time the below three lines are included an error occurs.  So they are commented out until this is resolved.\n",
    "# print(\"----------------------------\")\n",
    "# print(\"Data Retrieval Complete\")\n",
    "# print(\"----------------------------\")"
   ]
  },
  {
   "cell_type": "code",
   "execution_count": 31,
   "metadata": {},
   "outputs": [
    {
     "data": {
      "text/plain": [
       "City          595\n",
       "Lat           595\n",
       "Lng           595\n",
       "Max Temp      595\n",
       "Humidity      595\n",
       "Cloudiness    595\n",
       "Wind Speed    595\n",
       "Country       595\n",
       "Date          595\n",
       "dtype: int64"
      ]
     },
     "execution_count": 31,
     "metadata": {},
     "output_type": "execute_result"
    }
   ],
   "source": [
    "city_df.count()"
   ]
  },
  {
   "cell_type": "code",
   "execution_count": 10,
   "metadata": {
    "scrolled": true
   },
   "outputs": [],
   "source": [
    "# don't run this cell - sample export"
   ]
  },
  {
   "cell_type": "markdown",
   "metadata": {},
   "source": [
    "### Convert Raw Data to DataFrame\n",
    "* Export the city data into a .csv.\n",
    "* Display the DataFrame"
   ]
  },
  {
   "cell_type": "code",
   "execution_count": 34,
   "metadata": {},
   "outputs": [
    {
     "data": {
      "text/html": [
       "<div>\n",
       "<style scoped>\n",
       "    .dataframe tbody tr th:only-of-type {\n",
       "        vertical-align: middle;\n",
       "    }\n",
       "\n",
       "    .dataframe tbody tr th {\n",
       "        vertical-align: top;\n",
       "    }\n",
       "\n",
       "    .dataframe thead th {\n",
       "        text-align: right;\n",
       "    }\n",
       "</style>\n",
       "<table border=\"1\" class=\"dataframe\">\n",
       "  <thead>\n",
       "    <tr style=\"text-align: right;\">\n",
       "      <th></th>\n",
       "      <th>City</th>\n",
       "      <th>Lat</th>\n",
       "      <th>Lng</th>\n",
       "      <th>Max Temp</th>\n",
       "      <th>Humidity</th>\n",
       "      <th>Cloudiness</th>\n",
       "      <th>Wind Speed</th>\n",
       "      <th>Country</th>\n",
       "      <th>Date</th>\n",
       "    </tr>\n",
       "  </thead>\n",
       "  <tbody>\n",
       "    <tr>\n",
       "      <th>0</th>\n",
       "      <td>hithadhoo</td>\n",
       "      <td>-0.6</td>\n",
       "      <td>73.0833</td>\n",
       "      <td>81.36</td>\n",
       "      <td>76</td>\n",
       "      <td>0</td>\n",
       "      <td>12.19</td>\n",
       "      <td></td>\n",
       "      <td>1612663284</td>\n",
       "    </tr>\n",
       "    <tr>\n",
       "      <th>1</th>\n",
       "      <td>albany</td>\n",
       "      <td>42.6001</td>\n",
       "      <td>-73.9662</td>\n",
       "      <td>25</td>\n",
       "      <td>48</td>\n",
       "      <td>0</td>\n",
       "      <td>2.01</td>\n",
       "      <td></td>\n",
       "      <td>1612663015</td>\n",
       "    </tr>\n",
       "    <tr>\n",
       "      <th>2</th>\n",
       "      <td>taolanaro</td>\n",
       "      <td></td>\n",
       "      <td></td>\n",
       "      <td></td>\n",
       "      <td></td>\n",
       "      <td></td>\n",
       "      <td></td>\n",
       "      <td></td>\n",
       "      <td></td>\n",
       "    </tr>\n",
       "    <tr>\n",
       "      <th>3</th>\n",
       "      <td>rikitea</td>\n",
       "      <td>-23.1203</td>\n",
       "      <td>-134.969</td>\n",
       "      <td>78.78</td>\n",
       "      <td>69</td>\n",
       "      <td>73</td>\n",
       "      <td>10.56</td>\n",
       "      <td></td>\n",
       "      <td>1612663245</td>\n",
       "    </tr>\n",
       "    <tr>\n",
       "      <th>4</th>\n",
       "      <td>punta arenas</td>\n",
       "      <td>-53.15</td>\n",
       "      <td>-70.9167</td>\n",
       "      <td>51.8</td>\n",
       "      <td>66</td>\n",
       "      <td>0</td>\n",
       "      <td>17.27</td>\n",
       "      <td></td>\n",
       "      <td>1612663263</td>\n",
       "    </tr>\n",
       "    <tr>\n",
       "      <th>...</th>\n",
       "      <td>...</td>\n",
       "      <td>...</td>\n",
       "      <td>...</td>\n",
       "      <td>...</td>\n",
       "      <td>...</td>\n",
       "      <td>...</td>\n",
       "      <td>...</td>\n",
       "      <td>...</td>\n",
       "      <td>...</td>\n",
       "    </tr>\n",
       "    <tr>\n",
       "      <th>95</th>\n",
       "      <td>college</td>\n",
       "      <td>64.8569</td>\n",
       "      <td>-147.803</td>\n",
       "      <td>-5.01</td>\n",
       "      <td>77</td>\n",
       "      <td>90</td>\n",
       "      <td>1.32</td>\n",
       "      <td></td>\n",
       "      <td>1612663191</td>\n",
       "    </tr>\n",
       "    <tr>\n",
       "      <th>96</th>\n",
       "      <td>cap malheureux</td>\n",
       "      <td>-19.9842</td>\n",
       "      <td>57.6142</td>\n",
       "      <td>75</td>\n",
       "      <td>86</td>\n",
       "      <td>2</td>\n",
       "      <td>3</td>\n",
       "      <td></td>\n",
       "      <td>1612663266</td>\n",
       "    </tr>\n",
       "    <tr>\n",
       "      <th>97</th>\n",
       "      <td>majene</td>\n",
       "      <td>-3.5403</td>\n",
       "      <td>118.971</td>\n",
       "      <td>85.33</td>\n",
       "      <td>66</td>\n",
       "      <td>23</td>\n",
       "      <td>1.68</td>\n",
       "      <td></td>\n",
       "      <td>1612663631</td>\n",
       "    </tr>\n",
       "    <tr>\n",
       "      <th>98</th>\n",
       "      <td>yellowknife</td>\n",
       "      <td>62.456</td>\n",
       "      <td>-114.353</td>\n",
       "      <td>-40</td>\n",
       "      <td>74</td>\n",
       "      <td>1</td>\n",
       "      <td>3.44</td>\n",
       "      <td></td>\n",
       "      <td>1612663384</td>\n",
       "    </tr>\n",
       "    <tr>\n",
       "      <th>99</th>\n",
       "      <td>tsihombe</td>\n",
       "      <td></td>\n",
       "      <td></td>\n",
       "      <td></td>\n",
       "      <td></td>\n",
       "      <td></td>\n",
       "      <td></td>\n",
       "      <td></td>\n",
       "      <td></td>\n",
       "    </tr>\n",
       "  </tbody>\n",
       "</table>\n",
       "<p>100 rows × 9 columns</p>\n",
       "</div>"
      ],
      "text/plain": [
       "              City      Lat      Lng Max Temp Humidity Cloudiness Wind Speed  \\\n",
       "0        hithadhoo     -0.6  73.0833    81.36       76          0      12.19   \n",
       "1           albany  42.6001 -73.9662       25       48          0       2.01   \n",
       "2        taolanaro                                                             \n",
       "3          rikitea -23.1203 -134.969    78.78       69         73      10.56   \n",
       "4     punta arenas   -53.15 -70.9167     51.8       66          0      17.27   \n",
       "..             ...      ...      ...      ...      ...        ...        ...   \n",
       "95         college  64.8569 -147.803    -5.01       77         90       1.32   \n",
       "96  cap malheureux -19.9842  57.6142       75       86          2          3   \n",
       "97          majene  -3.5403  118.971    85.33       66         23       1.68   \n",
       "98     yellowknife   62.456 -114.353      -40       74          1       3.44   \n",
       "99        tsihombe                                                             \n",
       "\n",
       "   Country        Date  \n",
       "0           1612663284  \n",
       "1           1612663015  \n",
       "2                       \n",
       "3           1612663245  \n",
       "4           1612663263  \n",
       "..     ...         ...  \n",
       "95          1612663191  \n",
       "96          1612663266  \n",
       "97          1612663631  \n",
       "98          1612663384  \n",
       "99                      \n",
       "\n",
       "[100 rows x 9 columns]"
      ]
     },
     "execution_count": 34,
     "metadata": {},
     "output_type": "execute_result"
    }
   ],
   "source": [
    "## dataframe was created in previous cell.\n",
    "# export to csv and display\n",
    "# the below wasn't working to export to a csv file and I'm not sure why yet.\n",
    "# city_df.to_csv(output_data_file, index = False)\n",
    "city_df.head(100)"
   ]
  },
  {
   "cell_type": "code",
   "execution_count": 12,
   "metadata": {},
   "outputs": [],
   "source": [
    "# don't rund this - sample"
   ]
  },
  {
   "cell_type": "code",
   "execution_count": 13,
   "metadata": {},
   "outputs": [],
   "source": [
    "# don't run this - sample"
   ]
  },
  {
   "cell_type": "markdown",
   "metadata": {},
   "source": [
    "## Inspect the data and remove the cities where the humidity > 100%.\n",
    "----\n",
    "Skip this step if there are no cities that have humidity > 100%. "
   ]
  },
  {
   "cell_type": "code",
   "execution_count": 14,
   "metadata": {},
   "outputs": [],
   "source": [
    "# don't run this -s ample"
   ]
  },
  {
   "cell_type": "code",
   "execution_count": 15,
   "metadata": {},
   "outputs": [],
   "source": [
    "#  Get the indices of cities that have humidity over 100%.\n"
   ]
  },
  {
   "cell_type": "code",
   "execution_count": 16,
   "metadata": {},
   "outputs": [],
   "source": [
    "# Make a new DataFrame equal to the city data to drop all humidity outliers by index.\n",
    "# Passing \"inplace=False\" will make a copy of the city_data DataFrame, which we call \"clean_city_data\".\n"
   ]
  },
  {
   "cell_type": "code",
   "execution_count": 17,
   "metadata": {},
   "outputs": [],
   "source": [
    "# don't run this = sample"
   ]
  },
  {
   "cell_type": "markdown",
   "metadata": {},
   "source": [
    "## Plotting the Data\n",
    "* Use proper labeling of the plots using plot titles (including date of analysis) and axes labels.\n",
    "* Save the plotted figures as .pngs."
   ]
  },
  {
   "cell_type": "markdown",
   "metadata": {},
   "source": [
    "## Latitude vs. Temperature Plot"
   ]
  },
  {
   "cell_type": "code",
   "execution_count": 18,
   "metadata": {
    "scrolled": true
   },
   "outputs": [],
   "source": [
    "# don't run this - sample"
   ]
  },
  {
   "cell_type": "markdown",
   "metadata": {},
   "source": [
    "## Latitude vs. Humidity Plot"
   ]
  },
  {
   "cell_type": "code",
   "execution_count": 19,
   "metadata": {},
   "outputs": [],
   "source": [
    "# don't run this - sample"
   ]
  },
  {
   "cell_type": "markdown",
   "metadata": {},
   "source": [
    "## Latitude vs. Cloudiness Plot"
   ]
  },
  {
   "cell_type": "code",
   "execution_count": 20,
   "metadata": {},
   "outputs": [],
   "source": [
    "# don't rum this - sample"
   ]
  },
  {
   "cell_type": "markdown",
   "metadata": {},
   "source": [
    "## Latitude vs. Wind Speed Plot"
   ]
  },
  {
   "cell_type": "code",
   "execution_count": 21,
   "metadata": {},
   "outputs": [],
   "source": [
    "# don't rum this - sample"
   ]
  },
  {
   "cell_type": "markdown",
   "metadata": {},
   "source": [
    "## Linear Regression"
   ]
  },
  {
   "cell_type": "code",
   "execution_count": 22,
   "metadata": {},
   "outputs": [],
   "source": [
    "# don't rum this - sample"
   ]
  },
  {
   "cell_type": "markdown",
   "metadata": {},
   "source": [
    "####  Northern Hemisphere - Max Temp vs. Latitude Linear Regression"
   ]
  },
  {
   "cell_type": "code",
   "execution_count": 23,
   "metadata": {},
   "outputs": [],
   "source": [
    "# don't rum this - sample"
   ]
  },
  {
   "cell_type": "markdown",
   "metadata": {},
   "source": [
    "####  Southern Hemisphere - Max Temp vs. Latitude Linear Regression"
   ]
  },
  {
   "cell_type": "code",
   "execution_count": 24,
   "metadata": {},
   "outputs": [],
   "source": [
    "# don't rum this - sample"
   ]
  },
  {
   "cell_type": "markdown",
   "metadata": {},
   "source": [
    "####  Northern Hemisphere - Humidity (%) vs. Latitude Linear Regression"
   ]
  },
  {
   "cell_type": "code",
   "execution_count": 25,
   "metadata": {},
   "outputs": [],
   "source": [
    "# don't rum this - sample"
   ]
  },
  {
   "cell_type": "markdown",
   "metadata": {},
   "source": [
    "####  Southern Hemisphere - Humidity (%) vs. Latitude Linear Regression"
   ]
  },
  {
   "cell_type": "code",
   "execution_count": 26,
   "metadata": {},
   "outputs": [],
   "source": [
    "# don't rum this - sample"
   ]
  },
  {
   "cell_type": "markdown",
   "metadata": {},
   "source": [
    "####  Northern Hemisphere - Cloudiness (%) vs. Latitude Linear Regression"
   ]
  },
  {
   "cell_type": "code",
   "execution_count": 27,
   "metadata": {},
   "outputs": [],
   "source": [
    "# don't rum this - sample"
   ]
  },
  {
   "cell_type": "markdown",
   "metadata": {},
   "source": [
    "####  Southern Hemisphere - Cloudiness (%) vs. Latitude Linear Regression"
   ]
  },
  {
   "cell_type": "code",
   "execution_count": 28,
   "metadata": {},
   "outputs": [],
   "source": [
    "# don't rum this - sample"
   ]
  },
  {
   "cell_type": "markdown",
   "metadata": {},
   "source": [
    "####  Northern Hemisphere - Wind Speed (mph) vs. Latitude Linear Regression"
   ]
  },
  {
   "cell_type": "code",
   "execution_count": 29,
   "metadata": {},
   "outputs": [],
   "source": [
    "# don't rum this - sample"
   ]
  },
  {
   "cell_type": "markdown",
   "metadata": {},
   "source": [
    "####  Southern Hemisphere - Wind Speed (mph) vs. Latitude Linear Regression"
   ]
  },
  {
   "cell_type": "code",
   "execution_count": 30,
   "metadata": {},
   "outputs": [],
   "source": [
    "# don't rum this - sample"
   ]
  },
  {
   "cell_type": "code",
   "execution_count": null,
   "metadata": {},
   "outputs": [],
   "source": []
  }
 ],
 "metadata": {
  "anaconda-cloud": {},
  "kernel_info": {
   "name": "python3"
  },
  "kernelspec": {
   "display_name": "Python 3",
   "language": "python",
   "name": "python3"
  },
  "language_info": {
   "codemirror_mode": {
    "name": "ipython",
    "version": 3
   },
   "file_extension": ".py",
   "mimetype": "text/x-python",
   "name": "python",
   "nbconvert_exporter": "python",
   "pygments_lexer": "ipython3",
   "version": "3.8.5"
  },
  "latex_envs": {
   "LaTeX_envs_menu_present": true,
   "autoclose": false,
   "autocomplete": true,
   "bibliofile": "biblio.bib",
   "cite_by": "apalike",
   "current_citInitial": 1,
   "eqLabelWithNumbers": true,
   "eqNumInitial": 1,
   "hotkeys": {
    "equation": "Ctrl-E",
    "itemize": "Ctrl-I"
   },
   "labels_anchors": false,
   "latex_user_defs": false,
   "report_style_numbering": false,
   "user_envs_cfg": false
  },
  "nteract": {
   "version": "0.12.3"
  }
 },
 "nbformat": 4,
 "nbformat_minor": 2
}
