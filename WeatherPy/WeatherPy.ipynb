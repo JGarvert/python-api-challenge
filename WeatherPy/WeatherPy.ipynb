{
 "cells": [
  {
   "cell_type": "markdown",
   "metadata": {},
   "source": [
    "# WeatherPy\n",
    "----\n",
    "\n",
    "#### Note\n",
    "* Instructions have been included for each segment. You do not have to follow them exactly, but they are included to help you think through the steps."
   ]
  },
  {
   "cell_type": "code",
   "execution_count": 1,
   "metadata": {
    "scrolled": true
   },
   "outputs": [],
   "source": [
    "# Dependencies and Setup\n",
    "import matplotlib.pyplot as plt\n",
    "import pandas as pd\n",
    "import numpy as np\n",
    "import requests\n",
    "import time\n",
    "import json\n",
    "from scipy.stats import linregress\n",
    "\n",
    "# Import API key\n",
    "from config import weather_api_key\n",
    "\n",
    "# Incorporated citipy to determine city based on latitude and longitude\n",
    "from citipy import citipy\n",
    "\n",
    "# Output File (CSV)\n",
    "output_data_file = \"output_data/cities.csv\"\n",
    "\n",
    "# Range of latitudes and longitudes\n",
    "lat_range = (-90, 90)\n",
    "lng_range = (-180, 180)"
   ]
  },
  {
   "cell_type": "markdown",
   "metadata": {},
   "source": [
    "## Generate Cities List"
   ]
  },
  {
   "cell_type": "code",
   "execution_count": 2,
   "metadata": {},
   "outputs": [
    {
     "data": {
      "text/plain": [
       "637"
      ]
     },
     "execution_count": 2,
     "metadata": {},
     "output_type": "execute_result"
    }
   ],
   "source": [
    "# List for holding lat_lngs and cities\n",
    "lat_lngs = []\n",
    "cities = []\n",
    "\n",
    "# Create a set of random lat and lng combinations\n",
    "lats = np.random.uniform(lat_range[0], lat_range[1], size=1500)\n",
    "lngs = np.random.uniform(lng_range[0], lng_range[1], size=1500)\n",
    "lat_lngs = zip(lats, lngs)\n",
    "\n",
    "# Identify nearest city for each lat, lng combination\n",
    "for lat_lng in lat_lngs:\n",
    "    city = citipy.nearest_city(lat_lng[0], lat_lng[1]).city_name\n",
    "    \n",
    "    # If the city is unique, then add it to a our cities list\n",
    "    if city not in cities:\n",
    "        cities.append(city)\n",
    "\n",
    "# Print the city count to confirm sufficient count\n",
    "len(cities)"
   ]
  },
  {
   "cell_type": "code",
   "execution_count": 3,
   "metadata": {},
   "outputs": [
    {
     "data": {
      "text/plain": [
       "['rikitea', 'mataura', 'mayumba', 'saldanha', 'kaitangata']"
      ]
     },
     "execution_count": 3,
     "metadata": {},
     "output_type": "execute_result"
    }
   ],
   "source": [
    "cities[:5]"
   ]
  },
  {
   "cell_type": "markdown",
   "metadata": {},
   "source": [
    "### Perform API Calls\n",
    "* Perform a weather check on each city using a series of successive API calls.\n",
    "* Include a print log of each city as it's being processed (with the city number and city name).\n"
   ]
  },
  {
   "cell_type": "code",
   "execution_count": 4,
   "metadata": {},
   "outputs": [
    {
     "data": {
      "text/plain": [
       "'c8b9cf8e041808818c631648e43e7413'"
      ]
     },
     "execution_count": 4,
     "metadata": {},
     "output_type": "execute_result"
    }
   ],
   "source": [
    "weather_api_key"
   ]
  },
  {
   "cell_type": "code",
   "execution_count": 5,
   "metadata": {},
   "outputs": [],
   "source": [
    "# Save config information.\n",
    "url = \"http://api.openweathermap.org/data/2.5/weather?\"\n",
    "units = \"imperial\"\n",
    "\n",
    "# Build partial query URL\n",
    "query_url = f\"{url}appid={weather_api_key}&units={units}&q=\"\n",
    "\n",
    "# print(json.dumps(requests.get(query_url + cities[0]).json(), indent=3))\n",
    "\n",
    "data = requests.get(query_url + cities[0]).json()"
   ]
  },
  {
   "cell_type": "code",
   "execution_count": 6,
   "metadata": {},
   "outputs": [
    {
     "data": {
      "text/plain": [
       "dict_keys(['coord', 'weather', 'base', 'main', 'visibility', 'wind', 'clouds', 'dt', 'sys', 'timezone', 'id', 'name', 'cod'])"
      ]
     },
     "execution_count": 6,
     "metadata": {},
     "output_type": "execute_result"
    }
   ],
   "source": [
    "data.keys()\n",
    "# if curly brackets, use .keys to find the keys of interest"
   ]
  },
  {
   "cell_type": "code",
   "execution_count": 18,
   "metadata": {},
   "outputs": [
    {
     "ename": "KeyError",
     "evalue": "0",
     "output_type": "error",
     "traceback": [
      "\u001b[1;31m---------------------------------------------------------------------------\u001b[0m",
      "\u001b[1;31mKeyError\u001b[0m                                  Traceback (most recent call last)",
      "\u001b[1;32m<ipython-input-18-cb95a3288db8>\u001b[0m in \u001b[0;36m<module>\u001b[1;34m\u001b[0m\n\u001b[1;32m----> 1\u001b[1;33m \u001b[0mdata\u001b[0m\u001b[1;33m[\u001b[0m\u001b[1;34m'sys'\u001b[0m\u001b[1;33m]\u001b[0m\u001b[1;33m[\u001b[0m\u001b[1;36m0\u001b[0m\u001b[1;33m]\u001b[0m\u001b[1;33m\u001b[0m\u001b[1;33m\u001b[0m\u001b[0m\n\u001b[0m",
      "\u001b[1;31mKeyError\u001b[0m: 0"
     ]
    }
   ],
   "source": [
    "data['sys'][0]"
   ]
  },
  {
   "cell_type": "code",
   "execution_count": 19,
   "metadata": {},
   "outputs": [
    {
     "name": "stdout",
     "output_type": "stream",
     "text": [
      "{\n",
      "   \"coord\": {\n",
      "      \"lon\": -134.9692,\n",
      "      \"lat\": -23.1203\n",
      "   },\n",
      "   \"weather\": [\n",
      "      {\n",
      "         \"id\": 804,\n",
      "         \"main\": \"Clouds\",\n",
      "         \"description\": \"overcast clouds\",\n",
      "         \"icon\": \"04d\"\n",
      "      }\n",
      "   ],\n",
      "   \"base\": \"stations\",\n",
      "   \"main\": {\n",
      "      \"temp\": 77.38,\n",
      "      \"feels_like\": 77.07,\n",
      "      \"temp_min\": 77.38,\n",
      "      \"temp_max\": 77.38,\n",
      "      \"pressure\": 1019,\n",
      "      \"humidity\": 72,\n",
      "      \"sea_level\": 1019,\n",
      "      \"grnd_level\": 1016\n",
      "   },\n",
      "   \"visibility\": 10000,\n",
      "   \"wind\": {\n",
      "      \"speed\": 12.06,\n",
      "      \"deg\": 116\n",
      "   },\n",
      "   \"clouds\": {\n",
      "      \"all\": 96\n",
      "   },\n",
      "   \"dt\": 1612720888,\n",
      "   \"sys\": {\n",
      "      \"country\": \"PF\",\n",
      "      \"sunrise\": 1612709028,\n",
      "      \"sunset\": 1612755861\n",
      "   },\n",
      "   \"timezone\": -32400,\n",
      "   \"id\": 4030556,\n",
      "   \"name\": \"Rikitea\",\n",
      "   \"cod\": 200\n",
      "}\n"
     ]
    }
   ],
   "source": [
    "print(json.dumps(data,indent=3))"
   ]
  },
  {
   "cell_type": "code",
   "execution_count": 20,
   "metadata": {},
   "outputs": [
    {
     "name": "stdout",
     "output_type": "stream",
     "text": [
      "Beginning Data Retrieval\n",
      "----------------------------\n",
      "Processing Record 1 | rikitea\n",
      "Processing Record 2 | mataura\n",
      "Processing Record 3 | mayumba\n",
      "Processing Record 4 | saldanha\n",
      "Processing Record 5 | kaitangata\n",
      "Processing Record 6 | albany\n",
      "Processing Record 7 | busselton\n",
      "City not found. Skipping...\n",
      "Processing Record 8 | komsomolskiy\n",
      "Processing Record 9 | la ronge\n",
      "City not found. Skipping...\n",
      "Processing Record 10 | chapada dos guimaraes\n",
      "Processing Record 11 | lompoc\n",
      "Processing Record 12 | mopti\n",
      "Processing Record 13 | angoche\n",
      "Processing Record 14 | atasu\n",
      "Processing Record 15 | puerto ayora\n",
      "Processing Record 16 | pagudpud\n",
      "Processing Record 17 | ancud\n",
      "Processing Record 18 | castro\n",
      "Processing Record 19 | port hardy\n",
      "Processing Record 20 | acapulco\n",
      "Processing Record 21 | new norfolk\n",
      "Processing Record 22 | alofi\n",
      "Processing Record 23 | kaseda\n",
      "Processing Record 24 | mindelo\n",
      "Processing Record 25 | cape town\n",
      "Processing Record 26 | atar\n",
      "Processing Record 27 | avera\n",
      "Processing Record 28 | cabo san lucas\n",
      "City not found. Skipping...\n",
      "Processing Record 29 | arraial do cabo\n",
      "Processing Record 30 | birjand\n",
      "Processing Record 31 | lorengau\n",
      "Processing Record 32 | zhangye\n",
      "Processing Record 33 | ushuaia\n",
      "Processing Record 34 | vaini\n",
      "City not found. Skipping...\n",
      "Processing Record 35 | georgetown\n",
      "Processing Record 36 | khipro\n",
      "Processing Record 37 | anadyr\n",
      "Processing Record 38 | atuona\n",
      "Processing Record 39 | bredasdorp\n",
      "Processing Record 40 | nalut\n",
      "Processing Record 41 | hilo\n",
      "Processing Record 42 | saint-augustin\n",
      "Processing Record 43 | ponta do sol\n",
      "Processing Record 44 | gondanglegi\n",
      "Processing Record 45 | bluff\n",
      "Processing Record 46 | ostrovnoy\n",
      "Processing Record 47 | punta arenas\n",
      "Processing Record 48 | saint-pierre\n",
      "Processing Record 49 | jamestown\n",
      "Processing Record 50 | hobart\n",
      "Processing Record 51 | kurmanayevka\n",
      "Processing Record 52 | provideniya\n",
      "Processing Record 53 | port alfred\n",
      "Processing Record 54 | sabang\n",
      "Processing Record 55 | hualmay\n",
      "Processing Record 56 | hamilton\n",
      "Processing Record 57 | tura\n",
      "Processing Record 58 | dunedin\n",
      "Processing Record 59 | coquimbo\n",
      "Processing Record 60 | bengkulu\n",
      "Processing Record 61 | zhuhai\n",
      "Processing Record 62 | luganville\n",
      "Processing Record 63 | alta floresta\n",
      "Processing Record 64 | tuktoyaktuk\n",
      "Processing Record 65 | victoria point\n",
      "Processing Record 66 | saint george\n",
      "Processing Record 67 | saint-philippe\n",
      "Processing Record 68 | carnarvon\n",
      "Processing Record 69 | hermanus\n",
      "Processing Record 70 | santiago\n",
      "Processing Record 71 | rio grande\n",
      "Processing Record 72 | manzil salim\n",
      "Processing Record 73 | geraldton\n",
      "Processing Record 74 | nsanje\n",
      "Processing Record 75 | bambous virieux\n",
      "Processing Record 76 | vertientes\n",
      "Processing Record 77 | omsukchan\n",
      "Processing Record 78 | bangkalan\n",
      "Processing Record 79 | skibbereen\n",
      "Processing Record 80 | winona\n",
      "Processing Record 81 | boca do acre\n",
      "Processing Record 82 | kununurra\n",
      "City not found. Skipping...\n",
      "City not found. Skipping...\n",
      "Processing Record 83 | teahupoo\n",
      "Processing Record 84 | tomatlan\n",
      "Processing Record 85 | sarh\n",
      "Processing Record 86 | anloga\n",
      "City not found. Skipping...\n",
      "Processing Record 87 | pevek\n",
      "Processing Record 88 | san patricio\n",
      "Processing Record 89 | thompson\n",
      "Processing Record 90 | barrow\n",
      "Processing Record 91 | yellowknife\n",
      "Processing Record 92 | sao joao da barra\n",
      "Processing Record 93 | port elizabeth\n",
      "Processing Record 94 | dikson\n",
      "Processing Record 95 | kushima\n",
      "City not found. Skipping...\n",
      "Processing Record 96 | zaozerne\n",
      "Processing Record 97 | deputatskiy\n",
      "Processing Record 98 | tezu\n",
      "Processing Record 99 | george\n",
      "Processing Record 100 | skelleftea\n",
      "Processing Record 101 | ilulissat\n",
      "Processing Record 102 | hilton head island\n",
      "Processing Record 103 | lebu\n",
      "Processing Record 104 | kavaratti\n",
      "Processing Record 105 | altamira\n",
      "Processing Record 106 | sitka\n",
      "Processing Record 107 | maridi\n",
      "Processing Record 108 | impfondo\n",
      "Processing Record 109 | altagracia de orituco\n",
      "Processing Record 110 | la reforma\n",
      "Processing Record 111 | klyuchi\n",
      "Processing Record 112 | gurun\n",
      "Processing Record 113 | san policarpo\n",
      "Processing Record 114 | vostok\n",
      "Processing Record 115 | bridlington\n",
      "Processing Record 116 | pingliang\n",
      "Processing Record 117 | yar-sale\n",
      "Processing Record 118 | miranda de ebro\n",
      "Processing Record 119 | cienfuegos\n",
      "Processing Record 120 | rawson\n",
      "Processing Record 121 | lasa\n",
      "Processing Record 122 | qaanaaq\n",
      "Processing Record 123 | touros\n",
      "City not found. Skipping...\n",
      "Processing Record 124 | yumen\n",
      "Processing Record 125 | victoria\n",
      "Processing Record 126 | hvide sande\n",
      "Processing Record 127 | half moon bay\n",
      "Processing Record 128 | cidreira\n",
      "Processing Record 129 | mahajanga\n",
      "Processing Record 130 | inirida\n",
      "Processing Record 131 | toktogul\n",
      "Processing Record 132 | portland\n",
      "Processing Record 133 | madimba\n",
      "Processing Record 134 | cherskiy\n",
      "Processing Record 135 | avarua\n",
      "Processing Record 136 | hithadhoo\n",
      "Processing Record 137 | saskylakh\n",
      "Processing Record 138 | esperance\n",
      "Processing Record 139 | mnogovershinnyy\n",
      "Processing Record 140 | granville\n",
      "Processing Record 141 | morrope\n",
      "Processing Record 142 | valera\n",
      "Processing Record 143 | ormara\n",
      "Processing Record 144 | tugulym\n",
      "Processing Record 145 | leningradskiy\n",
      "City not found. Skipping...\n",
      "Processing Record 146 | flin flon\n",
      "Processing Record 147 | hasaki\n",
      "Processing Record 148 | talnakh\n",
      "Processing Record 149 | sherlovaya gora\n",
      "Processing Record 150 | kapaa\n",
      "Processing Record 151 | sumenep\n",
      "Processing Record 152 | kaeo\n",
      "Processing Record 153 | bruiu\n",
      "Processing Record 154 | the valley\n",
      "Processing Record 155 | riyadh\n",
      "Processing Record 156 | coihaique\n",
      "Processing Record 157 | kahului\n",
      "Processing Record 158 | ixtapa\n",
      "Processing Record 159 | pisco\n",
      "Processing Record 160 | east london\n",
      "Processing Record 161 | butaritari\n",
      "City not found. Skipping...\n",
      "Processing Record 162 | saint-esteve\n",
      "Processing Record 163 | ludvika\n",
      "Processing Record 164 | kankon\n",
      "Processing Record 165 | guerrero negro\n",
      "Processing Record 166 | yanam\n",
      "Processing Record 167 | marawi\n",
      "Processing Record 168 | corinto\n",
      "Processing Record 169 | idah\n",
      "Processing Record 170 | mar del plata\n",
      "Processing Record 171 | les cayes\n",
      "Processing Record 172 | namibe\n",
      "Processing Record 173 | chokurdakh\n",
      "Processing Record 174 | klaksvik\n",
      "City not found. Skipping...\n",
      "Processing Record 175 | mahebourg\n",
      "Processing Record 176 | concepcion\n",
      "Processing Record 177 | vardo\n",
      "Processing Record 178 | upernavik\n",
      "Processing Record 179 | dingle\n",
      "Processing Record 180 | maldonado\n",
      "Processing Record 181 | moskovskiy\n",
      "Processing Record 182 | teguise\n",
      "Processing Record 183 | orotukan\n",
      "Processing Record 184 | iguape\n",
      "Processing Record 185 | kodiak\n",
      "Processing Record 186 | port-gentil\n",
      "City not found. Skipping...\n",
      "Processing Record 187 | saint-francois\n",
      "Processing Record 188 | desnogorsk\n",
      "Processing Record 189 | yuncheng\n",
      "City not found. Skipping...\n",
      "Processing Record 190 | stephenville\n",
      "Processing Record 191 | san miguel\n",
      "Processing Record 192 | taldan\n",
      "Processing Record 193 | marsh harbour\n",
      "Processing Record 194 | sobolevo\n",
      "Processing Record 195 | rondonopolis\n",
      "Processing Record 196 | yarada\n",
      "Processing Record 197 | chichimila\n",
      "Processing Record 198 | dali\n",
      "Processing Record 199 | yurimaguas\n",
      "Processing Record 200 | coahuayana\n",
      "Processing Record 201 | los altos\n",
      "Processing Record 202 | maryborough\n",
      "Processing Record 203 | airai\n",
      "Processing Record 204 | hambantota\n",
      "City not found. Skipping...\n",
      "Processing Record 205 | katsuura\n",
      "Processing Record 206 | ust-kuyga\n",
      "Processing Record 207 | kamenz\n",
      "Processing Record 208 | botou\n",
      "Processing Record 209 | abu dhabi\n",
      "Processing Record 210 | yulara\n",
      "Processing Record 211 | kenai\n",
      "Processing Record 212 | qasigiannguit\n",
      "Processing Record 213 | mayo\n",
      "Processing Record 214 | brezice\n",
      "Processing Record 215 | leh\n",
      "Processing Record 216 | ordzhonikidze\n",
      "Processing Record 217 | tuatapere\n",
      "Processing Record 218 | taoudenni\n",
      "Processing Record 219 | tallahassee\n",
      "Processing Record 220 | buala\n",
      "Processing Record 221 | chuy\n",
      "Processing Record 222 | saint anthony\n",
      "Processing Record 223 | galle\n",
      "Processing Record 224 | tiksi\n",
      "Processing Record 225 | honiara\n",
      "Processing Record 226 | grand-lahou\n",
      "Processing Record 227 | springbok\n",
      "Processing Record 228 | kailua\n",
      "Processing Record 229 | chumikan\n",
      "Processing Record 230 | catemaco\n",
      "Processing Record 231 | banda aceh\n",
      "City not found. Skipping...\n",
      "Processing Record 232 | batemans bay\n",
      "Processing Record 233 | porto novo\n"
     ]
    },
    {
     "name": "stdout",
     "output_type": "stream",
     "text": [
      "Processing Record 234 | krutikha\n",
      "Processing Record 235 | general pico\n",
      "Processing Record 236 | kruisfontein\n",
      "Processing Record 237 | itoman\n",
      "Processing Record 238 | tual\n",
      "Processing Record 239 | port lincoln\n",
      "Processing Record 240 | hurghada\n",
      "Processing Record 241 | isiro\n",
      "Processing Record 242 | tabou\n",
      "Processing Record 243 | chebsara\n",
      "Processing Record 244 | spassk\n",
      "Processing Record 245 | narsaq\n",
      "Processing Record 246 | harsin\n",
      "Processing Record 247 | filadelfia\n",
      "Processing Record 248 | ipora\n",
      "Processing Record 249 | soroti\n",
      "City not found. Skipping...\n",
      "Processing Record 250 | quatre cocos\n",
      "Processing Record 251 | ciudad bolivar\n",
      "Processing Record 252 | tonj\n",
      "Processing Record 253 | puerto madryn\n",
      "Processing Record 254 | iqaluit\n",
      "Processing Record 255 | mhlume\n",
      "Processing Record 256 | yei\n",
      "City not found. Skipping...\n",
      "Processing Record 257 | pueblo nuevo\n",
      "Processing Record 258 | salalah\n",
      "Processing Record 259 | kihei\n",
      "Processing Record 260 | aptos\n",
      "Processing Record 261 | dhidhdhoo\n",
      "Processing Record 262 | stokmarknes\n",
      "Processing Record 263 | alferrarede\n",
      "Processing Record 264 | vila velha\n",
      "Processing Record 265 | baixa grande\n",
      "Processing Record 266 | christchurch\n",
      "Processing Record 267 | khatanga\n",
      "Processing Record 268 | jamalpur\n",
      "Processing Record 269 | tasiilaq\n",
      "Processing Record 270 | nagold\n",
      "Processing Record 271 | bethel\n",
      "Processing Record 272 | agoura hills\n",
      "Processing Record 273 | mandalgovi\n",
      "Processing Record 274 | danjiangkou\n",
      "Processing Record 275 | mountain home\n",
      "Processing Record 276 | pacasmayo\n",
      "Processing Record 277 | mana\n",
      "Processing Record 278 | mabaruma\n",
      "Processing Record 279 | svetlaya\n",
      "Processing Record 280 | vaitape\n",
      "Processing Record 281 | cap-aux-meules\n",
      "Processing Record 282 | havelock\n",
      "Processing Record 283 | san rafael\n",
      "Processing Record 284 | woodburn\n",
      "Processing Record 285 | longyearbyen\n",
      "Processing Record 286 | jiayuguan\n",
      "City not found. Skipping...\n",
      "Processing Record 287 | la grande\n",
      "Processing Record 288 | kloulklubed\n",
      "Processing Record 289 | karachi\n",
      "Processing Record 290 | torbay\n",
      "Processing Record 291 | nishihara\n",
      "Processing Record 292 | acajutla\n",
      "Processing Record 293 | kuala pilah\n",
      "Processing Record 294 | broome\n",
      "Processing Record 295 | barra do garcas\n",
      "Processing Record 296 | waingapu\n",
      "Processing Record 297 | sparks\n",
      "Processing Record 298 | solnechnyy\n",
      "Processing Record 299 | marienburg\n",
      "Processing Record 300 | meulaboh\n",
      "Processing Record 301 | rapar\n",
      "Processing Record 302 | norman wells\n",
      "Processing Record 303 | kefamenanu\n",
      "Processing Record 304 | darhan\n",
      "Processing Record 305 | olafsvik\n",
      "City not found. Skipping...\n",
      "Processing Record 306 | asau\n",
      "Processing Record 307 | jiaojiang\n",
      "Processing Record 308 | saint-joseph\n",
      "Processing Record 309 | agadir\n",
      "Processing Record 310 | ulverstone\n",
      "Processing Record 311 | taltal\n",
      "Processing Record 312 | korla\n",
      "Processing Record 313 | diego de almagro\n",
      "Processing Record 314 | inverell\n",
      "Processing Record 315 | tiznit\n",
      "Processing Record 316 | shiyan\n",
      "Processing Record 317 | green river\n",
      "Processing Record 318 | goure\n",
      "Processing Record 319 | santa cruz del sur\n",
      "Processing Record 320 | sarangani\n",
      "Processing Record 321 | san luis\n",
      "Processing Record 322 | kieta\n",
      "Processing Record 323 | xichang\n",
      "Processing Record 324 | ulaangom\n",
      "Processing Record 325 | smithers\n",
      "Processing Record 326 | sao filipe\n",
      "Processing Record 327 | cap malheureux\n",
      "Processing Record 328 | karratha\n",
      "Processing Record 329 | bira\n",
      "Processing Record 330 | timmins\n",
      "Processing Record 331 | benguela\n",
      "Processing Record 332 | abbeville\n",
      "Processing Record 333 | yaan\n",
      "Processing Record 334 | lagoa\n",
      "Processing Record 335 | tautira\n",
      "Processing Record 336 | boa vista\n",
      "Processing Record 337 | hays\n",
      "Processing Record 338 | aykhal\n",
      "Processing Record 339 | kavieng\n",
      "Processing Record 340 | clarksburg\n",
      "Processing Record 341 | lewistown\n",
      "Processing Record 342 | sibu\n",
      "Processing Record 343 | la macarena\n",
      "Processing Record 344 | caravelas\n",
      "Processing Record 345 | sawtell\n",
      "Processing Record 346 | fare\n",
      "Processing Record 347 | whitehaven\n",
      "Processing Record 348 | qaqortoq\n",
      "Processing Record 349 | lata\n",
      "Processing Record 350 | nokaneng\n",
      "Processing Record 351 | tefe\n",
      "Processing Record 352 | zhaotong\n",
      "Processing Record 353 | marivan\n",
      "City not found. Skipping...\n",
      "Processing Record 354 | arganil\n",
      "City not found. Skipping...\n",
      "Processing Record 355 | balkhash\n",
      "Processing Record 356 | necochea\n",
      "Processing Record 357 | leshukonskoye\n",
      "Processing Record 358 | ambilobe\n",
      "Processing Record 359 | paducah\n",
      "Processing Record 360 | codrington\n",
      "Processing Record 361 | manturovo\n",
      "Processing Record 362 | morgan city\n",
      "Processing Record 363 | bandarbeyla\n",
      "Processing Record 364 | vao\n",
      "Processing Record 365 | the pas\n",
      "Processing Record 366 | luocheng\n",
      "Processing Record 367 | kirishi\n",
      "Processing Record 368 | pahrump\n",
      "Processing Record 369 | camopi\n",
      "Processing Record 370 | bouna\n",
      "City not found. Skipping...\n",
      "Processing Record 371 | hami\n",
      "Processing Record 372 | boyolangu\n",
      "Processing Record 373 | aklavik\n",
      "Processing Record 374 | kajaani\n",
      "Processing Record 375 | amuntai\n",
      "Processing Record 376 | san jose\n",
      "Processing Record 377 | tupik\n",
      "Processing Record 378 | byron bay\n",
      "Processing Record 379 | meadow lake\n",
      "City not found. Skipping...\n",
      "Processing Record 380 | policoro\n",
      "Processing Record 381 | alice springs\n",
      "Processing Record 382 | las palmas\n",
      "Processing Record 383 | gijon\n",
      "Processing Record 384 | diamantino\n",
      "Processing Record 385 | mons\n",
      "Processing Record 386 | lubao\n",
      "Processing Record 387 | rieti\n",
      "Processing Record 388 | totness\n",
      "Processing Record 389 | ribeira grande\n",
      "Processing Record 390 | jiblah\n",
      "City not found. Skipping...\n",
      "Processing Record 391 | ulladulla\n",
      "Processing Record 392 | severo-kurilsk\n",
      "Processing Record 393 | coruripe\n",
      "Processing Record 394 | srimushnam\n",
      "Processing Record 395 | merauke\n",
      "Processing Record 396 | loukhi\n",
      "Processing Record 397 | maniitsoq\n",
      "City not found. Skipping...\n",
      "Processing Record 398 | rijeka\n",
      "City not found. Skipping...\n",
      "Processing Record 399 | ventnor city\n",
      "Processing Record 400 | baghdad\n",
      "Processing Record 401 | luangwa\n",
      "Processing Record 402 | alyangula\n",
      "Processing Record 403 | faanui\n",
      "Processing Record 404 | carmarthen\n",
      "Processing Record 405 | santa cruz de la palma\n",
      "Processing Record 406 | richards bay\n",
      "Processing Record 407 | nuuk\n",
      "Processing Record 408 | nelson bay\n",
      "Processing Record 409 | arlit\n",
      "Processing Record 410 | quang ngai\n",
      "Processing Record 411 | osakarovka\n",
      "Processing Record 412 | talcahuano\n",
      "Processing Record 413 | puerto colombia\n",
      "Processing Record 414 | chapais\n",
      "Processing Record 415 | najran\n",
      "Processing Record 416 | sur\n",
      "Processing Record 417 | constitucion\n",
      "Processing Record 418 | misratah\n",
      "Processing Record 419 | worland\n",
      "Processing Record 420 | beloha\n",
      "Processing Record 421 | chara\n",
      "Processing Record 422 | nikolskoye\n",
      "Processing Record 423 | vila franca do campo\n",
      "Processing Record 424 | margate\n",
      "Processing Record 425 | genhe\n",
      "Processing Record 426 | poum\n",
      "Processing Record 427 | berlevag\n",
      "Processing Record 428 | charters towers\n",
      "Processing Record 429 | ustka\n",
      "Processing Record 430 | boundiali\n",
      "Processing Record 431 | markova\n",
      "Processing Record 432 | wanaka\n",
      "Processing Record 433 | ketchikan\n",
      "Processing Record 434 | samoded\n",
      "Processing Record 435 | saint stephen\n",
      "Processing Record 436 | yeppoon\n",
      "Processing Record 437 | port macquarie\n",
      "Processing Record 438 | linxia\n",
      "Processing Record 439 | nago\n",
      "Processing Record 440 | nanortalik\n",
      "Processing Record 441 | svetlogorsk\n",
      "Processing Record 442 | unteni\n",
      "Processing Record 443 | grenville\n",
      "Processing Record 444 | vicuna\n",
      "Processing Record 445 | madang\n",
      "Processing Record 446 | kitgum\n",
      "City not found. Skipping...\n",
      "Processing Record 447 | nan\n",
      "City not found. Skipping...\n",
      "Processing Record 448 | antsohihy\n",
      "Processing Record 449 | college\n",
      "Processing Record 450 | barcelona\n",
      "Processing Record 451 | fortuna\n",
      "Processing Record 452 | lumut\n",
      "Processing Record 453 | kalabo\n",
      "Processing Record 454 | jalu\n",
      "City not found. Skipping...\n",
      "Processing Record 455 | hailey\n",
      "City not found. Skipping...\n",
      "Processing Record 456 | tilichiki\n",
      "Processing Record 457 | matamoros\n",
      "Processing Record 458 | vila do maio\n",
      "Processing Record 459 | matara\n",
      "Processing Record 460 | palmer\n",
      "Processing Record 461 | kurumkan\n",
      "Processing Record 462 | omboue\n",
      "Processing Record 463 | pemba\n",
      "Processing Record 464 | weinan\n",
      "Processing Record 465 | cascais\n",
      "Processing Record 466 | chulym\n",
      "Processing Record 467 | nam som\n",
      "Processing Record 468 | chandler\n"
     ]
    },
    {
     "name": "stdout",
     "output_type": "stream",
     "text": [
      "Processing Record 469 | chake chake\n",
      "Processing Record 470 | santa lucia\n",
      "Processing Record 471 | steenwijk\n",
      "Processing Record 472 | kindu\n",
      "Processing Record 473 | steamboat springs\n",
      "Processing Record 474 | wangaratta\n",
      "Processing Record 475 | pangnirtung\n",
      "Processing Record 476 | baleshwar\n",
      "Processing Record 477 | evansville\n",
      "Processing Record 478 | havre-saint-pierre\n",
      "Processing Record 479 | ginda\n",
      "Processing Record 480 | vilhena\n",
      "Processing Record 481 | luan\n",
      "Processing Record 482 | kurilsk\n",
      "Processing Record 483 | bambanglipuro\n",
      "Processing Record 484 | egvekinot\n",
      "Processing Record 485 | bealanana\n",
      "Processing Record 486 | bonthe\n",
      "Processing Record 487 | magadan\n",
      "Processing Record 488 | bud\n",
      "Processing Record 489 | balsas\n",
      "Processing Record 490 | bundaberg\n",
      "Processing Record 491 | iquique\n",
      "Processing Record 492 | powell\n",
      "Processing Record 493 | bati\n",
      "Processing Record 494 | argelia\n",
      "Processing Record 495 | mount gambier\n",
      "Processing Record 496 | afyonkarahisar\n",
      "City not found. Skipping...\n",
      "Processing Record 497 | sychevka\n",
      "Processing Record 498 | todos santos\n",
      "Processing Record 499 | poli\n",
      "Processing Record 500 | svobodnyy\n",
      "City not found. Skipping...\n",
      "Processing Record 501 | bac lieu\n",
      "Processing Record 502 | morondava\n",
      "Processing Record 503 | mareeba\n",
      "Processing Record 504 | pasvalys\n",
      "Processing Record 505 | botwood\n",
      "Processing Record 506 | forestville\n",
      "Processing Record 507 | stege\n",
      "City not found. Skipping...\n",
      "Processing Record 508 | wahiawa\n",
      "Processing Record 509 | warren\n",
      "Processing Record 510 | barra patuca\n",
      "Processing Record 511 | mount isa\n",
      "Processing Record 512 | laela\n",
      "Processing Record 513 | kattivakkam\n",
      "Processing Record 514 | beroroha\n",
      "Processing Record 515 | kuldur\n",
      "Processing Record 516 | fort nelson\n",
      "Processing Record 517 | dolores\n",
      "Processing Record 518 | los llanos de aridane\n",
      "Processing Record 519 | kirakira\n",
      "City not found. Skipping...\n",
      "Processing Record 520 | constantine\n",
      "Processing Record 521 | kiunga\n",
      "Processing Record 522 | belmonte\n",
      "Processing Record 523 | lokosovo\n",
      "Processing Record 524 | oromocto\n",
      "City not found. Skipping...\n",
      "Processing Record 525 | okha\n",
      "Processing Record 526 | souillac\n",
      "City not found. Skipping...\n",
      "Processing Record 527 | srednekolymsk\n",
      "City not found. Skipping...\n",
      "Processing Record 528 | tiarei\n",
      "Processing Record 529 | labuhan\n",
      "Processing Record 530 | visby\n",
      "Processing Record 531 | nuevo progreso\n",
      "Processing Record 532 | mogadishu\n",
      "Processing Record 533 | yantal\n",
      "Processing Record 534 | zhigansk\n",
      "Processing Record 535 | manggar\n",
      "City not found. Skipping...\n",
      "City not found. Skipping...\n",
      "Processing Record 536 | berberati\n",
      "Processing Record 537 | tessalit\n",
      "Processing Record 538 | tarauaca\n",
      "City not found. Skipping...\n",
      "Processing Record 539 | canico\n",
      "Processing Record 540 | deori khas\n",
      "Processing Record 541 | doha\n",
      "Processing Record 542 | rantepao\n",
      "City not found. Skipping...\n",
      "Processing Record 543 | mawlaik\n",
      "Processing Record 544 | sayat\n",
      "Processing Record 545 | choya\n",
      "Processing Record 546 | ucluelet\n",
      "Processing Record 547 | viedma\n",
      "Processing Record 548 | tongren\n",
      "Processing Record 549 | te anau\n",
      "Processing Record 550 | cairns\n",
      "Processing Record 551 | hailar\n",
      "Processing Record 552 | sisimiut\n",
      "Processing Record 553 | bara\n",
      "Processing Record 554 | wahlern\n",
      "Processing Record 555 | dwarka\n",
      "Processing Record 556 | paamiut\n",
      "Processing Record 557 | kuzino\n",
      "Processing Record 558 | natalio\n",
      "Processing Record 559 | avallon\n",
      "Processing Record 560 | igboho\n",
      "Processing Record 561 | rundu\n",
      "Processing Record 562 | adrar\n",
      "Processing Record 563 | lucea\n",
      "City not found. Skipping...\n",
      "Processing Record 564 | waddan\n",
      "Processing Record 565 | carlisle\n",
      "Processing Record 566 | bacolod\n",
      "Processing Record 567 | buluang\n",
      "Processing Record 568 | shimoda\n",
      "Processing Record 569 | mbandaka\n",
      "Processing Record 570 | lazaro cardenas\n",
      "Processing Record 571 | karpathos\n",
      "Processing Record 572 | toamasina\n",
      "Processing Record 573 | liverpool\n",
      "Processing Record 574 | tabuleiro do norte\n",
      "Processing Record 575 | porto murtinho\n",
      "Processing Record 576 | ak-dovurak\n",
      "Processing Record 577 | pauini\n",
      "Processing Record 578 | bilibino\n",
      "Processing Record 579 | chifeng\n",
      "Processing Record 580 | goryachegorsk\n",
      "Processing Record 581 | cookeville\n",
      "Processing Record 582 | tougan\n",
      "Processing Record 583 | menongue\n",
      "Processing Record 584 | vestmannaeyjar\n",
      "Processing Record 585 | tukrah\n",
      "Processing Record 586 | soderhamn\n",
      "Processing Record 587 | rio gallegos\n",
      "Processing Record 588 | clyde river\n",
      "Processing Record 589 | soe\n",
      "City not found. Skipping...\n",
      "Processing Record 590 | ishigaki\n",
      "Processing Record 591 | khandyga\n",
      "Processing Record 592 | olinda\n",
      "Processing Record 593 | kamariotissa\n"
     ]
    }
   ],
   "source": [
    "# DF to store all cities and city number (uses citipy)\n",
    "city_df = pd.DataFrame({'City': cities})\n",
    "print(\"Beginning Data Retrieval\")\n",
    "print(\"----------------------------\")\n",
    "\n",
    "\n",
    "# Sets parameters for calling city name\n",
    "\n",
    "\n",
    "# Target Url for API calls\n",
    "query_url = \"http://api.openweathermap.org/data/2.5/weather\"\n",
    "\n",
    "# Create add'l fields for later api calls\n",
    "\n",
    "city_df['Lat'] = ''\n",
    "city_df['Lng'] = ''\n",
    "city_df['Max Temp'] = ''\n",
    "city_df['Humidity'] = ''\n",
    "city_df['Cloudiness'] = ''\n",
    "city_df['Wind Speed'] = ''\n",
    "city_df['Country'] = ''\n",
    "city_df['Date'] = ''\n",
    "\n",
    "city_count = 0\n",
    "\n",
    "# Loop through the API\n",
    "for index,row in city_df.iterrows():\n",
    "\n",
    "    city_name = row['City']\n",
    "#     city_id = row['id']\n",
    "    \n",
    "    # Set query parameters\n",
    "    params = {'q': city_name,'units': 'imperial','appid': weather_api_key,}\n",
    "    response = requests.get(query_url, params = params).json()\n",
    "    \n",
    "    try:\n",
    "       \n",
    "        city_df.loc[index, 'Lat'] = response['coord']['lat']\n",
    "        city_df.loc[index, 'Lng'] = response['coord']['lon']\n",
    "        city_df.loc[index, 'Max Temp'] = response['main']['temp_max']\n",
    "        city_df.loc[index, 'Humidity'] = response['main']['humidity']\n",
    "        city_df.loc[index, 'Cloudiness'] = response['clouds']['all']\n",
    "        city_df.loc[index, 'Wind Speed'] = response['wind']['speed']\n",
    "        city_df.loc[index, 'Country'] = response['sys']['country']\n",
    "        city_df.loc[index, 'Date'] = response['dt']\n",
    "        \n",
    "        # Update city number\n",
    "        city_count += 1\n",
    "        \n",
    "        # Print log of each city being processed (only if all data is available)\n",
    "        print(f'Processing Record {city_count} | {city_name}')\n",
    "        \n",
    "    except (KeyError, IndexError):\n",
    "\n",
    "        print(\"City not found. Skipping...\")\n",
    "\n",
    "\n",
    "## Every time the below three lines are included an error occurs.  So they are commented out until this is resolved.\n",
    "# print(\"----------------------------\")\n",
    "# print(\"Data Retrieval Complete\")\n",
    "# print(\"----------------------------\")"
   ]
  },
  {
   "cell_type": "code",
   "execution_count": 22,
   "metadata": {},
   "outputs": [
    {
     "data": {
      "text/plain": [
       "City          637\n",
       "Lat           637\n",
       "Lng           637\n",
       "Max Temp      637\n",
       "Humidity      637\n",
       "Cloudiness    637\n",
       "Wind Speed    637\n",
       "Country       637\n",
       "Date          637\n",
       "dtype: int64"
      ]
     },
     "execution_count": 22,
     "metadata": {},
     "output_type": "execute_result"
    }
   ],
   "source": [
    "city_df.count()"
   ]
  },
  {
   "cell_type": "markdown",
   "metadata": {},
   "source": [
    "### Convert Raw Data to DataFrame\n",
    "* Export the city data into a .csv.\n",
    "* Display the DataFrame"
   ]
  },
  {
   "cell_type": "code",
   "execution_count": 24,
   "metadata": {},
   "outputs": [
    {
     "data": {
      "text/html": [
       "<div>\n",
       "<style scoped>\n",
       "    .dataframe tbody tr th:only-of-type {\n",
       "        vertical-align: middle;\n",
       "    }\n",
       "\n",
       "    .dataframe tbody tr th {\n",
       "        vertical-align: top;\n",
       "    }\n",
       "\n",
       "    .dataframe thead th {\n",
       "        text-align: right;\n",
       "    }\n",
       "</style>\n",
       "<table border=\"1\" class=\"dataframe\">\n",
       "  <thead>\n",
       "    <tr style=\"text-align: right;\">\n",
       "      <th></th>\n",
       "      <th>City</th>\n",
       "      <th>Lat</th>\n",
       "      <th>Lng</th>\n",
       "      <th>Max Temp</th>\n",
       "      <th>Humidity</th>\n",
       "      <th>Cloudiness</th>\n",
       "      <th>Wind Speed</th>\n",
       "      <th>Country</th>\n",
       "      <th>Date</th>\n",
       "    </tr>\n",
       "  </thead>\n",
       "  <tbody>\n",
       "    <tr>\n",
       "      <th>0</th>\n",
       "      <td>rikitea</td>\n",
       "      <td>-23.1203</td>\n",
       "      <td>-134.969</td>\n",
       "      <td>77.38</td>\n",
       "      <td>72</td>\n",
       "      <td>96</td>\n",
       "      <td>12.06</td>\n",
       "      <td>PF</td>\n",
       "      <td>1612720888</td>\n",
       "    </tr>\n",
       "    <tr>\n",
       "      <th>1</th>\n",
       "      <td>mataura</td>\n",
       "      <td>-46.1927</td>\n",
       "      <td>168.864</td>\n",
       "      <td>50.13</td>\n",
       "      <td>89</td>\n",
       "      <td>98</td>\n",
       "      <td>1.7</td>\n",
       "      <td>NZ</td>\n",
       "      <td>1612720898</td>\n",
       "    </tr>\n",
       "    <tr>\n",
       "      <th>2</th>\n",
       "      <td>mayumba</td>\n",
       "      <td>-3.432</td>\n",
       "      <td>10.6554</td>\n",
       "      <td>79.63</td>\n",
       "      <td>85</td>\n",
       "      <td>87</td>\n",
       "      <td>7.78</td>\n",
       "      <td>GA</td>\n",
       "      <td>1612721269</td>\n",
       "    </tr>\n",
       "    <tr>\n",
       "      <th>3</th>\n",
       "      <td>saldanha</td>\n",
       "      <td>-33.0117</td>\n",
       "      <td>17.9442</td>\n",
       "      <td>69.8</td>\n",
       "      <td>56</td>\n",
       "      <td>0</td>\n",
       "      <td>24.16</td>\n",
       "      <td>ZA</td>\n",
       "      <td>1612720968</td>\n",
       "    </tr>\n",
       "    <tr>\n",
       "      <th>4</th>\n",
       "      <td>kaitangata</td>\n",
       "      <td>-46.2817</td>\n",
       "      <td>169.846</td>\n",
       "      <td>59</td>\n",
       "      <td>94</td>\n",
       "      <td>70</td>\n",
       "      <td>3</td>\n",
       "      <td>NZ</td>\n",
       "      <td>1612721270</td>\n",
       "    </tr>\n",
       "  </tbody>\n",
       "</table>\n",
       "</div>"
      ],
      "text/plain": [
       "         City      Lat      Lng Max Temp Humidity Cloudiness Wind Speed  \\\n",
       "0     rikitea -23.1203 -134.969    77.38       72         96      12.06   \n",
       "1     mataura -46.1927  168.864    50.13       89         98        1.7   \n",
       "2     mayumba   -3.432  10.6554    79.63       85         87       7.78   \n",
       "3    saldanha -33.0117  17.9442     69.8       56          0      24.16   \n",
       "4  kaitangata -46.2817  169.846       59       94         70          3   \n",
       "\n",
       "  Country        Date  \n",
       "0      PF  1612720888  \n",
       "1      NZ  1612720898  \n",
       "2      GA  1612721269  \n",
       "3      ZA  1612720968  \n",
       "4      NZ  1612721270  "
      ]
     },
     "execution_count": 24,
     "metadata": {},
     "output_type": "execute_result"
    }
   ],
   "source": [
    "## dataframe was created in previous cell.\n",
    "# export to csv and display\n",
    "city_df.to_csv('raw_ city_df_export.csv', encoding = 'utf-8', index = False)\n",
    "city_df.head()"
   ]
  },
  {
   "cell_type": "markdown",
   "metadata": {},
   "source": [
    "## Inspect the data and remove the cities where the humidity > 100%.\n",
    "----\n",
    "Skip this step if there are no cities that have humidity > 100%. "
   ]
  },
  {
   "cell_type": "code",
   "execution_count": 25,
   "metadata": {},
   "outputs": [
    {
     "data": {
      "text/html": [
       "<div>\n",
       "<style scoped>\n",
       "    .dataframe tbody tr th:only-of-type {\n",
       "        vertical-align: middle;\n",
       "    }\n",
       "\n",
       "    .dataframe tbody tr th {\n",
       "        vertical-align: top;\n",
       "    }\n",
       "\n",
       "    .dataframe thead th {\n",
       "        text-align: right;\n",
       "    }\n",
       "</style>\n",
       "<table border=\"1\" class=\"dataframe\">\n",
       "  <thead>\n",
       "    <tr style=\"text-align: right;\">\n",
       "      <th></th>\n",
       "      <th>City</th>\n",
       "      <th>Lat</th>\n",
       "      <th>Lng</th>\n",
       "      <th>Max Temp</th>\n",
       "      <th>Humidity</th>\n",
       "      <th>Cloudiness</th>\n",
       "      <th>Wind Speed</th>\n",
       "      <th>Country</th>\n",
       "      <th>Date</th>\n",
       "    </tr>\n",
       "  </thead>\n",
       "  <tbody>\n",
       "    <tr>\n",
       "      <th>0</th>\n",
       "      <td>rikitea</td>\n",
       "      <td>-23.1203</td>\n",
       "      <td>-134.9692</td>\n",
       "      <td>77.38</td>\n",
       "      <td>72.0</td>\n",
       "      <td>96.0</td>\n",
       "      <td>12.06</td>\n",
       "      <td>PF</td>\n",
       "      <td>1.612721e+09</td>\n",
       "    </tr>\n",
       "    <tr>\n",
       "      <th>1</th>\n",
       "      <td>mataura</td>\n",
       "      <td>-46.1927</td>\n",
       "      <td>168.8643</td>\n",
       "      <td>50.13</td>\n",
       "      <td>89.0</td>\n",
       "      <td>98.0</td>\n",
       "      <td>1.70</td>\n",
       "      <td>NZ</td>\n",
       "      <td>1.612721e+09</td>\n",
       "    </tr>\n",
       "    <tr>\n",
       "      <th>2</th>\n",
       "      <td>mayumba</td>\n",
       "      <td>-3.4320</td>\n",
       "      <td>10.6554</td>\n",
       "      <td>79.63</td>\n",
       "      <td>85.0</td>\n",
       "      <td>87.0</td>\n",
       "      <td>7.78</td>\n",
       "      <td>GA</td>\n",
       "      <td>1.612721e+09</td>\n",
       "    </tr>\n",
       "    <tr>\n",
       "      <th>3</th>\n",
       "      <td>saldanha</td>\n",
       "      <td>-33.0117</td>\n",
       "      <td>17.9442</td>\n",
       "      <td>69.80</td>\n",
       "      <td>56.0</td>\n",
       "      <td>0.0</td>\n",
       "      <td>24.16</td>\n",
       "      <td>ZA</td>\n",
       "      <td>1.612721e+09</td>\n",
       "    </tr>\n",
       "    <tr>\n",
       "      <th>4</th>\n",
       "      <td>kaitangata</td>\n",
       "      <td>-46.2817</td>\n",
       "      <td>169.8464</td>\n",
       "      <td>59.00</td>\n",
       "      <td>94.0</td>\n",
       "      <td>70.0</td>\n",
       "      <td>3.00</td>\n",
       "      <td>NZ</td>\n",
       "      <td>1.612721e+09</td>\n",
       "    </tr>\n",
       "  </tbody>\n",
       "</table>\n",
       "</div>"
      ],
      "text/plain": [
       "         City      Lat       Lng  Max Temp  Humidity  Cloudiness  Wind Speed  \\\n",
       "0     rikitea -23.1203 -134.9692     77.38      72.0        96.0       12.06   \n",
       "1     mataura -46.1927  168.8643     50.13      89.0        98.0        1.70   \n",
       "2     mayumba  -3.4320   10.6554     79.63      85.0        87.0        7.78   \n",
       "3    saldanha -33.0117   17.9442     69.80      56.0         0.0       24.16   \n",
       "4  kaitangata -46.2817  169.8464     59.00      94.0        70.0        3.00   \n",
       "\n",
       "  Country          Date  \n",
       "0      PF  1.612721e+09  \n",
       "1      NZ  1.612721e+09  \n",
       "2      GA  1.612721e+09  \n",
       "3      ZA  1.612721e+09  \n",
       "4      NZ  1.612721e+09  "
      ]
     },
     "execution_count": 25,
     "metadata": {},
     "output_type": "execute_result"
    }
   ],
   "source": [
    "# Inspect data first and remove rows with null fields, etc.\n",
    "city_df.replace('',np.nan,inplace = True)\n",
    "city_df = city_df.dropna()"
   ]
  },
  {
   "cell_type": "code",
   "execution_count": 26,
   "metadata": {},
   "outputs": [
    {
     "data": {
      "text/plain": [
       "City           object\n",
       "Lat           float64\n",
       "Lng           float64\n",
       "Max Temp      float64\n",
       "Humidity      float64\n",
       "Cloudiness    float64\n",
       "Wind Speed    float64\n",
       "Country        object\n",
       "Date          float64\n",
       "dtype: object"
      ]
     },
     "execution_count": 26,
     "metadata": {},
     "output_type": "execute_result"
    }
   ],
   "source": [
    "city_df.dtypes"
   ]
  },
  {
   "cell_type": "code",
   "execution_count": 28,
   "metadata": {},
   "outputs": [
    {
     "data": {
      "text/plain": [
       "100.0"
      ]
     },
     "execution_count": 28,
     "metadata": {},
     "output_type": "execute_result"
    }
   ],
   "source": [
    "# test if any cities have humidity over 100%\n",
    "# this shows the highest humidity\n",
    "city_df['Humidity'].max()"
   ]
  },
  {
   "cell_type": "code",
   "execution_count": 34,
   "metadata": {},
   "outputs": [],
   "source": [
    "# ## note to future self.  Below are two additional ways of listing the cities with the hightest humidities\n",
    "\n",
    "# # This shows the highest 20 humidities.  None above 100\n",
    "# city_df.sort_values(by=['Humidity'],ascending=False).head(20)\n",
    "\n",
    "# # another way of showing the top 15 cities cities with the highest humidity\n",
    "# city_df.nlargest(15,['Humidity'])"
   ]
  },
  {
   "cell_type": "markdown",
   "metadata": {},
   "source": [
    "From the above cell, there are no cities with humidity above 100. The max humidity is 100"
   ]
  },
  {
   "cell_type": "code",
   "execution_count": null,
   "metadata": {},
   "outputs": [],
   "source": [
    "#  Get the indices of cities that have humidity over 100%.\n",
    "#  This is not an applicable question as there are not ciites with humidity over 100%"
   ]
  },
  {
   "cell_type": "code",
   "execution_count": null,
   "metadata": {},
   "outputs": [],
   "source": [
    "# Make a new DataFrame equal to the city data to drop all humidity outliers by index.\n",
    "# Passing \"inplace=False\" will make a copy of the city_data DataFrame, which we call \"clean_city_data\".\n",
    "# The above instructions are not applicable as there are no cities with humidity over 100"
   ]
  },
  {
   "cell_type": "markdown",
   "metadata": {},
   "source": [
    "## Plotting the Data\n",
    "* Use proper labeling of the plots using plot titles (including date of analysis) and axes labels.\n",
    "* Save the plotted figures as .pngs."
   ]
  },
  {
   "cell_type": "markdown",
   "metadata": {},
   "source": [
    "## Latitude vs. Temperature Plot"
   ]
  },
  {
   "cell_type": "code",
   "execution_count": 48,
   "metadata": {
    "scrolled": true
   },
   "outputs": [
    {
     "name": "stdout",
     "output_type": "stream",
     "text": [
      "This graph provides a visual analysis of max temps across latitudes\n",
      "Due to the concentration of dots, there appears to be a correlation of max temp to latitude\n"
     ]
    },
    {
     "data": {
      "image/png": "[encoded data removed]",
      "text/plain": [
       "<Figure size 432x288 with 1 Axes>"
      ]
     },
     "metadata": {
      "needs_background": "light"
     },
     "output_type": "display_data"
    }
   ],
   "source": [
    "plt.scatter(city_df['Lat'],city_df['Max Temp'], c = 'r', edgecolor = 'k')\n",
    "plt.grid()\n",
    "plt.xlabel('Latitude')\n",
    "plt.ylabel('Max Temperature (F)')\n",
    "plt.title(f'City Latitude vs. Max Temperature (04/01/20)')\n",
    "print(\"This graph provides a visual analysis of max temps across latitudes\")\n",
    "print(\"Due to the concentration of dots, there appears to be a correlation of max temp to latitude\")"
   ]
  },
  {
   "cell_type": "markdown",
   "metadata": {},
   "source": [
    "## Latitude vs. Humidity Plot"
   ]
  },
  {
   "cell_type": "code",
   "execution_count": 55,
   "metadata": {},
   "outputs": [
    {
     "name": "stdout",
     "output_type": "stream",
     "text": [
      "This graph provides a visual analysis of humidity across latitudes\n",
      "The dots are relatively scattered across the graph but there is a higher concentration across the upper right (e.g. highter humidity associated with higherlatitude)\n"
     ]
    },
    {
     "data": {
      "image/png": "[encoded data removed]",
      "text/plain": [
       "<Figure size 432x288 with 1 Axes>"
      ]
     },
     "metadata": {
      "needs_background": "light"
     },
     "output_type": "display_data"
    }
   ],
   "source": [
    "plt.scatter(city_df['Lat'],city_df['Humidity'], c = 'blue', edgecolor = 'k')\n",
    "plt.grid()\n",
    "plt.xlabel('Latitude')\n",
    "plt.ylabel('Humidity (%)')\n",
    "plt.title(f'City Latitude vs. Humidity (04/01/20)')\n",
    "print(\"This graph provides a visual analysis of humidity across latitudes\")\n",
    "print(\"The dots are relatively scattered across the graph but there is a higher concentration across the upper right (e.g. highter humidity associated with higherlatitude)\")"
   ]
  },
  {
   "cell_type": "markdown",
   "metadata": {},
   "source": [
    "## Latitude vs. Cloudiness Plot"
   ]
  },
  {
   "cell_type": "code",
   "execution_count": 57,
   "metadata": {},
   "outputs": [
    {
     "name": "stdout",
     "output_type": "stream",
     "text": [
      "This graph provides a visual analysis of cloudiness across latitudes\n",
      "There does not appear to be an obvious correlation between latitude and cloudiness\n"
     ]
    },
    {
     "data": {
      "image/png": "[encoded data removed]",
      "text/plain": [
       "<Figure size 432x288 with 1 Axes>"
      ]
     },
     "metadata": {
      "needs_background": "light"
     },
     "output_type": "display_data"
    }
   ],
   "source": [
    "plt.scatter(city_df['Lat'],city_df['Cloudiness'], c = 'grey', edgecolor = 'k')\n",
    "plt.grid()\n",
    "plt.xlabel('Latitude')\n",
    "plt.ylabel('Humidity (%)')\n",
    "plt.title(f'City Latitude vs. Cloudiness (04/01/20)')\n",
    "print(\"This graph provides a visual analysis of cloudiness across latitudes\")\n",
    "print(\"There does not appear to be an obvious correlation between latitude and cloudiness\")"
   ]
  },
  {
   "cell_type": "markdown",
   "metadata": {},
   "source": [
    "## Latitude vs. Wind Speed Plot"
   ]
  },
  {
   "cell_type": "code",
   "execution_count": 60,
   "metadata": {},
   "outputs": [
    {
     "name": "stdout",
     "output_type": "stream",
     "text": [
      "This graph provides a visual analysis of windspeed across latitudes\n",
      "There does not appear to be an obvious correlation between latitude and wind speed\n",
      "However, there are a few outlier speeds above 30 mph and the majoriy are 20 mph or under\n"
     ]
    },
    {
     "data": {
      "image/png": "[encoded data removed]",
      "text/plain": [
       "<Figure size 432x288 with 1 Axes>"
      ]
     },
     "metadata": {
      "needs_background": "light"
     },
     "output_type": "display_data"
    }
   ],
   "source": [
    "plt.scatter(city_df['Lat'],city_df['Wind Speed'], c = 'green', edgecolor = 'k')\n",
    "plt.grid()\n",
    "plt.xlabel('Latitude')\n",
    "plt.ylabel('Wind Speed (mph)')\n",
    "plt.title(f'City Latitude vs. Wind Speed (04/01/20)')\n",
    "print(\"This graph provides a visual analysis of windspeed across latitudes\")\n",
    "print(\"There does not appear to be an obvious correlation between latitude and wind speed\")\n",
    "print(\"However, there are a few outlier speeds above 30 mph and the majoriy are 20 mph or under\")"
   ]
  },
  {
   "cell_type": "markdown",
   "metadata": {},
   "source": [
    "## Linear Regression\n",
    "\n",
    "## Note to graders: below graph colors were selected to match the above generated graphs"
   ]
  },
  {
   "cell_type": "markdown",
   "metadata": {},
   "source": [
    "#### Northern Hemisphere - Max Temp vs. Latitude Linear Regression"
   ]
  },
  {
   "cell_type": "code",
   "execution_count": 96,
   "metadata": {},
   "outputs": [
    {
     "name": "stdout",
     "output_type": "stream",
     "text": [
      "The r-value is: 0.76\n"
     ]
    },
    {
     "data": {
      "image/png": "[encoded data removed]",
      "text/plain": [
       "<Figure size 432x288 with 1 Axes>"
      ]
     },
     "metadata": {
      "needs_background": "light"
     },
     "output_type": "display_data"
    }
   ],
   "source": [
    "north_temp_df = city_df.loc[city_df['Lat']>=0]\n",
    "plt.scatter(north_temp_df['Lat'],north_temp_df['Max Temp'], c = 'r', edgecolor = 'k')\n",
    "plt.xlabel('Latitude')\n",
    "plt.ylabel('Max Temperature')\n",
    "plt.title(f'Northern Hemisphere: Latitude vs. Max Temperature')\n",
    "\n",
    "# Regression Analysis\n",
    "(slope, intercept, rvalue, pvalue, stderr) = linregress(north_temp_df['Lat'],north_temp_df['Max Temp'])\n",
    "regress_values = north_temp_df['Lat'] * slope + intercept\n",
    "line_eq = \"y = \" + str(round(slope,2)) + \"x + \" + str(round(intercept,2))\n",
    "plt.plot(north_temp_df['Lat'],regress_values)\n",
    "plt.annotate(line_eq,(5,-30),fontsize=12,color=\"black\")\n",
    "print(f\"The r-value is: {round(rvalue**2,2)}\")"
   ]
  },
  {
   "cell_type": "markdown",
   "metadata": {},
   "source": [
    "#### Southern Hemisphere - Max Temp vs. Latitude Linear Regression"
   ]
  },
  {
   "cell_type": "code",
   "execution_count": 97,
   "metadata": {},
   "outputs": [
    {
     "name": "stdout",
     "output_type": "stream",
     "text": [
      "The r-value is: 0.41\n"
     ]
    },
    {
     "data": {
      "image/png": "[encoded data removed]",
      "text/plain": [
       "<Figure size 432x288 with 1 Axes>"
      ]
     },
     "metadata": {
      "needs_background": "light"
     },
     "output_type": "display_data"
    }
   ],
   "source": [
    "south_temp_df = city_df.loc[city_df['Lat']<0]\n",
    "plt.scatter(south_temp_df['Lat'],south_temp_df['Max Temp'], c = 'r', edgecolor = 'k')\n",
    "plt.xlabel('Latitude')\n",
    "plt.ylabel('Max Temperature')\n",
    "plt.title(f'Southern Hemisphere: Latitude vs. Max Temperature')\n",
    "\n",
    "# Regression Analysis\n",
    "(slope, intercept, rvalue, pvalue, stderr) = linregress(south_temp_df['Lat'],south_temp_df['Max Temp'])\n",
    "regress_values = south_temp_df['Lat'] * slope + intercept\n",
    "line_eq = \"y = \" + str(round(slope,2)) + \"x + \" + str(round(intercept,2))\n",
    "plt.plot(south_temp_df['Lat'],regress_values)\n",
    "plt.annotate(line_eq,(-55,95),fontsize=12,color=\"black\")\n",
    "print(f\"The r-value is: {round(rvalue**2,2)}\")\n",
    "# note to graders - the dot color was selected as red to match the above temp graph.  Therefore regression line color is contrasting"
   ]
  },
  {
   "cell_type": "markdown",
   "metadata": {},
   "source": [
    "####  Northern Hemisphere - Humidity vs. Latitude Linear Regression"
   ]
  },
  {
   "cell_type": "code",
   "execution_count": 102,
   "metadata": {},
   "outputs": [
    {
     "name": "stdout",
     "output_type": "stream",
     "text": [
      "The r-value is: 0.12\n"
     ]
    },
    {
     "data": {
      "image/png": "[encoded data removed]",
      "text/plain": [
       "<Figure size 432x288 with 1 Axes>"
      ]
     },
     "metadata": {
      "needs_background": "light"
     },
     "output_type": "display_data"
    }
   ],
   "source": [
    "north_hum_df = city_df.loc[city_df['Lat']>=0]\n",
    "plt.scatter(north_hem_df['Lat'],north_hem_df['Humidity'], c = 'blue', edgecolor = 'k')\n",
    "plt.xlabel('Latitude')\n",
    "plt.ylabel('Humidity')\n",
    "plt.title(f'Northern Hemisphere: Latitude vs. Humidity')\n",
    "\n",
    "# Regression Analysis\n",
    "(slope, intercept, rvalue, pvalue, stderr) = linregress(north_hem_df['Lat'],north_hem_df['Humidity'])\n",
    "regress_values = north_hem_df['Lat'] * slope + intercept\n",
    "line_eq = \"y = \" + str(round(slope,2)) + \"x + \" + str(round(intercept,2))\n",
    "plt.plot(north_hem_df['Lat'],regress_values)\n",
    "plt.annotate(line_eq,(50,10),fontsize=12,color=\"black\")\n",
    "print(f\"The r-value is: {round(rvalue**2,2)}\")"
   ]
  },
  {
   "cell_type": "markdown",
   "metadata": {},
   "source": [
    "####  Southern Hemisphere - Humidity vs. Latitude Linear Regression"
   ]
  },
  {
   "cell_type": "code",
   "execution_count": 106,
   "metadata": {},
   "outputs": [
    {
     "name": "stdout",
     "output_type": "stream",
     "text": [
      "The r-value is: 0.05\n"
     ]
    },
    {
     "data": {
      "image/png": "[encoded data removed]",
      "text/plain": [
       "<Figure size 432x288 with 1 Axes>"
      ]
     },
     "metadata": {
      "needs_background": "light"
     },
     "output_type": "display_data"
    }
   ],
   "source": [
    "south_hum_df = city_df.loc[city_df['Lat']<0]\n",
    "plt.scatter(south_hum_df['Lat'],south_hum_df['Humidity'], c = 'blue', edgecolor = 'k')\n",
    "plt.xlabel('Latitude')\n",
    "plt.ylabel('Humidity')\n",
    "plt.title(f'Southern Hemisphere: Latitude vs. Humidity')\n",
    "\n",
    "# Regression Analysis\n",
    "(slope, intercept, rvalue, pvalue, stderr) = linregress(south_hum_df['Lat'],south_hum_df['Humidity'])\n",
    "regress_values = south_hum_df['Lat'] * slope + intercept\n",
    "line_eq = \"y = \" + str(round(slope,2)) + \"x + \" + str(round(intercept,2))\n",
    "plt.plot(south_hum_df['Lat'],regress_values)\n",
    "plt.annotate(line_eq,(50,10),fontsize=12,color=\"black\")\n",
    "print(f\"The r-value is: {round(rvalue**2,2)}\")"
   ]
  },
  {
   "cell_type": "markdown",
   "metadata": {},
   "source": [
    "####  Northern Hemisphere - Coudiness vs. Latitude Linear Regression"
   ]
  },
  {
   "cell_type": "code",
   "execution_count": 109,
   "metadata": {},
   "outputs": [
    {
     "name": "stdout",
     "output_type": "stream",
     "text": [
      "The r-value is: 0.01\n"
     ]
    },
    {
     "data": {
      "image/png": "[encoded data removed]",
      "text/plain": [
       "<Figure size 432x288 with 1 Axes>"
      ]
     },
     "metadata": {
      "needs_background": "light"
     },
     "output_type": "display_data"
    }
   ],
   "source": [
    "north_cloud_df = city_df.loc[city_df['Lat']>=0]\n",
    "plt.scatter(north_temp_df['Lat'],north_cloud_df['Cloudiness'], c = 'grey', edgecolor = 'k')\n",
    "plt.xlabel('Latitude')\n",
    "plt.ylabel('Coudiness')\n",
    "plt.title(f'Northern Hemisphere: Latitude vs. Cloudiness')\n",
    "\n",
    "# Regression Analysis\n",
    "(slope, intercept, rvalue, pvalue, stderr) = linregress(north_cloud_df['Lat'],north_cloud_df['Cloudiness'])\n",
    "regress_values = north_cloud_df['Lat'] * slope + intercept\n",
    "line_eq = \"y = \" + str(round(slope,2)) + \"x + \" + str(round(intercept,2))\n",
    "plt.plot(north_cloud_df['Lat'],regress_values)\n",
    "plt.annotate(line_eq,(50,10),fontsize=12,color=\"black\")\n",
    "print(f\"The r-value is: {round(rvalue**2,2)}\")"
   ]
  },
  {
   "cell_type": "markdown",
   "metadata": {},
   "source": [
    "####  Southern Hemisphere - Coudiness vs. Latitude Linear Regression"
   ]
  },
  {
   "cell_type": "code",
   "execution_count": 111,
   "metadata": {},
   "outputs": [
    {
     "name": "stdout",
     "output_type": "stream",
     "text": [
      "The r-value is: 0.07\n"
     ]
    },
    {
     "data": {
      "image/png": "[encoded data removed]",
      "text/plain": [
       "<Figure size 432x288 with 1 Axes>"
      ]
     },
     "metadata": {
      "needs_background": "light"
     },
     "output_type": "display_data"
    }
   ],
   "source": [
    "south_cloud_df = city_df.loc[city_df['Lat']<0]\n",
    "plt.scatter(south_cloud_df['Lat'],south_cloud_df['Cloudiness'], c = 'grey', edgecolor = 'k')\n",
    "plt.xlabel('Latitude')\n",
    "plt.ylabel('Coudiness')\n",
    "plt.title(f'Southern Hemisphere: Latitude vs. Cloudiness')\n",
    "\n",
    "# Regression Analysis\n",
    "(slope, intercept, rvalue, pvalue, stderr) = linregress(south_cloud_df['Lat'],south_cloud_df['Cloudiness'])\n",
    "regress_values = south_cloud_df['Lat'] * slope + intercept\n",
    "line_eq = \"y = \" + str(round(slope,2)) + \"x + \" + str(round(intercept,2))\n",
    "plt.plot(south_cloud_df['Lat'],regress_values)\n",
    "plt.annotate(line_eq,(50,10),fontsize=12,color=\"black\")\n",
    "print(f\"The r-value is: {round(rvalue**2,2)}\")"
   ]
  },
  {
   "cell_type": "markdown",
   "metadata": {},
   "source": [
    "####  Southern Hemisphere - Humidity (%) vs. Latitude Linear Regression"
   ]
  },
  {
   "cell_type": "code",
   "execution_count": null,
   "metadata": {},
   "outputs": [],
   "source": [
    "# don't rum this - sample"
   ]
  },
  {
   "cell_type": "markdown",
   "metadata": {},
   "source": [
    "####  Northern Hemisphere - Cloudiness (%) vs. Latitude Linear Regression"
   ]
  },
  {
   "cell_type": "code",
   "execution_count": null,
   "metadata": {},
   "outputs": [],
   "source": [
    "# don't rum this - sample"
   ]
  },
  {
   "cell_type": "markdown",
   "metadata": {},
   "source": [
    "####  Southern Hemisphere - Cloudiness (%) vs. Latitude Linear Regression"
   ]
  },
  {
   "cell_type": "code",
   "execution_count": null,
   "metadata": {},
   "outputs": [],
   "source": [
    "# don't rum this - sample"
   ]
  },
  {
   "cell_type": "markdown",
   "metadata": {},
   "source": [
    "####  Northern Hemisphere - Wind Speed (mph) vs. Latitude Linear Regression"
   ]
  },
  {
   "cell_type": "code",
   "execution_count": null,
   "metadata": {},
   "outputs": [],
   "source": [
    "# don't rum this - sample"
   ]
  },
  {
   "cell_type": "markdown",
   "metadata": {},
   "source": [
    "####  Southern Hemisphere - Wind Speed (mph) vs. Latitude Linear Regression"
   ]
  },
  {
   "cell_type": "code",
   "execution_count": null,
   "metadata": {},
   "outputs": [],
   "source": [
    "# don't rum this - sample"
   ]
  },
  {
   "cell_type": "code",
   "execution_count": null,
   "metadata": {},
   "outputs": [],
   "source": []
  }
 ],
 "metadata": {
  "anaconda-cloud": {},
  "kernel_info": {
   "name": "python3"
  },
  "kernelspec": {
   "display_name": "Python 3",
   "language": "python",
   "name": "python3"
  },
  "language_info": {
   "codemirror_mode": {
    "name": "ipython",
    "version": 3
   },
   "file_extension": ".py",
   "mimetype": "text/x-python",
   "name": "python",
   "nbconvert_exporter": "python",
   "pygments_lexer": "ipython3",
   "version": "3.8.5"
  },
  "latex_envs": {
   "LaTeX_envs_menu_present": true,
   "autoclose": false,
   "autocomplete": true,
   "bibliofile": "biblio.bib",
   "cite_by": "apalike",
   "current_citInitial": 1,
   "eqLabelWithNumbers": true,
   "eqNumInitial": 1,
   "hotkeys": {
    "equation": "Ctrl-E",
    "itemize": "Ctrl-I"
   },
   "labels_anchors": false,
   "latex_user_defs": false,
   "report_style_numbering": false,
   "user_envs_cfg": false
  },
  "nteract": {
   "version": "0.12.3"
  }
 },
 "nbformat": 4,
 "nbformat_minor": 2
}
