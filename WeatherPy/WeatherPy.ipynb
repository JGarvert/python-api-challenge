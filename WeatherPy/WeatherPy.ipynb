{
 "cells": [
  {
   "cell_type": "markdown",
   "metadata": {},
   "source": [
    "# WeatherPy\n",
    "----\n",
    "\n",
    "#### Note\n",
    "* Instructions have been included for each segment. You do not have to follow them exactly, but they are included to help you think through the steps."
   ]
  },
  {
   "cell_type": "code",
   "execution_count": 1,
   "metadata": {
    "scrolled": true
   },
   "outputs": [],
   "source": [
    "# Dependencies and Setup\n",
    "import matplotlib.pyplot as plt\n",
    "import pandas as pd\n",
    "import numpy as np\n",
    "import requests\n",
    "import time\n",
    "import json\n",
    "from scipy.stats import linregress\n",
    "\n",
    "# Import API key\n",
    "from config import weather_api_key\n",
    "\n",
    "# Incorporated citipy to determine city based on latitude and longitude\n",
    "from citipy import citipy\n",
    "\n",
    "# Output File (CSV)\n",
    "output_data_file = \"output_data/cities.csv\"\n",
    "\n",
    "# Range of latitudes and longitudes\n",
    "lat_range = (-90, 90)\n",
    "lng_range = (-180, 180)"
   ]
  },
  {
   "cell_type": "markdown",
   "metadata": {},
   "source": [
    "## Generate Cities List"
   ]
  },
  {
   "cell_type": "code",
   "execution_count": 2,
   "metadata": {},
   "outputs": [
    {
     "data": {
      "text/plain": [
       "619"
      ]
     },
     "execution_count": 2,
     "metadata": {},
     "output_type": "execute_result"
    }
   ],
   "source": [
    "# List for holding lat_lngs and cities\n",
    "lat_lngs = []\n",
    "cities = []\n",
    "\n",
    "# Create a set of random lat and lng combinations\n",
    "lats = np.random.uniform(lat_range[0], lat_range[1], size=1500)\n",
    "lngs = np.random.uniform(lng_range[0], lng_range[1], size=1500)\n",
    "lat_lngs = zip(lats, lngs)\n",
    "\n",
    "# Identify nearest city for each lat, lng combination\n",
    "for lat_lng in lat_lngs:\n",
    "    city = citipy.nearest_city(lat_lng[0], lat_lng[1]).city_name\n",
    "    \n",
    "    # If the city is unique, then add it to a our cities list\n",
    "    if city not in cities:\n",
    "        cities.append(city)\n",
    "\n",
    "# Print the city count to confirm sufficient count\n",
    "len(cities)"
   ]
  },
  {
   "cell_type": "code",
   "execution_count": 3,
   "metadata": {},
   "outputs": [
    {
     "data": {
      "text/plain": [
       "['atambua', 'portland', 'hobart', 'pyapon', 'illoqqortoormiut']"
      ]
     },
     "execution_count": 3,
     "metadata": {},
     "output_type": "execute_result"
    }
   ],
   "source": [
    "cities[:5]"
   ]
  },
  {
   "cell_type": "markdown",
   "metadata": {},
   "source": [
    "### Perform API Calls\n",
    "* Perform a weather check on each city using a series of successive API calls.\n",
    "* Include a print log of each city as it's being processed (with the city number and city name).\n"
   ]
  },
  {
   "cell_type": "code",
   "execution_count": 4,
   "metadata": {},
   "outputs": [
    {
     "data": {
      "text/plain": [
       "'c8b9cf8e041808818c631648e43e7413'"
      ]
     },
     "execution_count": 4,
     "metadata": {},
     "output_type": "execute_result"
    }
   ],
   "source": [
    "weather_api_key"
   ]
  },
  {
   "cell_type": "code",
   "execution_count": 5,
   "metadata": {},
   "outputs": [],
   "source": [
    "# Save config information.\n",
    "url = \"http://api.openweathermap.org/data/2.5/weather?\"\n",
    "units = \"imperial\"\n",
    "\n",
    "# Build partial query URL\n",
    "query_url = f\"{url}appid={weather_api_key}&units={units}&q=\"\n",
    "\n",
    "# print(json.dumps(requests.get(query_url + cities[0]).json(), indent=3))\n",
    "\n",
    "data = requests.get(query_url + cities[0]).json()"
   ]
  },
  {
   "cell_type": "code",
   "execution_count": 6,
   "metadata": {},
   "outputs": [
    {
     "data": {
      "text/plain": [
       "dict_keys(['coord', 'weather', 'base', 'main', 'visibility', 'wind', 'clouds', 'dt', 'sys', 'timezone', 'id', 'name', 'cod'])"
      ]
     },
     "execution_count": 6,
     "metadata": {},
     "output_type": "execute_result"
    }
   ],
   "source": [
    "data.keys()\n",
    "# if curly brackets, use .keys to find the keys of interest"
   ]
  },
  {
   "cell_type": "code",
   "execution_count": 7,
   "metadata": {},
   "outputs": [
    {
     "data": {
      "text/plain": [
       "{'id': 803, 'main': 'Clouds', 'description': 'broken clouds', 'icon': '04d'}"
      ]
     },
     "execution_count": 7,
     "metadata": {},
     "output_type": "execute_result"
    }
   ],
   "source": [
    "data['weather'][0]"
   ]
  },
  {
   "cell_type": "code",
   "execution_count": 8,
   "metadata": {},
   "outputs": [
    {
     "name": "stdout",
     "output_type": "stream",
     "text": [
      "Beginning Data Retrieval\n",
      "----------------------------\n",
      "Processing Record 1 | atambua\n",
      "Processing Record 2 | portland\n",
      "Processing Record 3 | hobart\n",
      "Processing Record 4 | pyapon\n",
      "City not found. Skipping...\n",
      "Processing Record 5 | busselton\n",
      "Processing Record 6 | grand gaube\n",
      "Processing Record 7 | lavrentiya\n",
      "Processing Record 8 | new norfolk\n",
      "Processing Record 9 | kavieng\n",
      "Processing Record 10 | pak phanang\n",
      "Processing Record 11 | yulara\n",
      "Processing Record 12 | guaimaro\n",
      "Processing Record 13 | castro\n",
      "Processing Record 14 | airai\n",
      "Processing Record 15 | port shepstone\n",
      "Processing Record 16 | atuona\n",
      "Processing Record 17 | manokwari\n",
      "Processing Record 18 | north bend\n",
      "Processing Record 19 | ribeira grande\n",
      "Processing Record 20 | mantua\n",
      "Processing Record 21 | tamiahua\n",
      "Processing Record 22 | port elizabeth\n",
      "Processing Record 23 | upernavik\n",
      "Processing Record 24 | kodinar\n",
      "Processing Record 25 | tuktoyaktuk\n",
      "Processing Record 26 | puerto ayora\n",
      "Processing Record 27 | lebu\n",
      "Processing Record 28 | kaitangata\n",
      "Processing Record 29 | mataura\n",
      "Processing Record 30 | kapaa\n",
      "Processing Record 31 | leninskoye\n",
      "Processing Record 32 | shaoguan\n",
      "Processing Record 33 | ponta do sol\n",
      "Processing Record 34 | shubarshi\n",
      "Processing Record 35 | isangel\n",
      "Processing Record 36 | jamestown\n",
      "Processing Record 37 | kupang\n",
      "City not found. Skipping...\n",
      "Processing Record 38 | tura\n",
      "Processing Record 39 | bolobo\n",
      "Processing Record 40 | hervey bay\n",
      "Processing Record 41 | plettenberg bay\n",
      "Processing Record 42 | ust-kuyga\n",
      "Processing Record 43 | sambava\n",
      "Processing Record 44 | bethel\n",
      "Processing Record 45 | nikolskoye\n",
      "Processing Record 46 | hermanus\n",
      "Processing Record 47 | khilok\n",
      "Processing Record 48 | ushuaia\n",
      "Processing Record 49 | butaritari\n",
      "Processing Record 50 | salihorsk\n",
      "Processing Record 51 | rikitea\n",
      "City not found. Skipping...\n",
      "Processing Record 52 | coquimbo\n",
      "Processing Record 53 | panzhihua\n",
      "Processing Record 54 | tandil\n",
      "Processing Record 55 | bradford\n",
      "Processing Record 56 | bluff\n",
      "Processing Record 57 | saskylakh\n",
      "Processing Record 58 | sisimiut\n",
      "Processing Record 59 | spearfish\n",
      "City not found. Skipping...\n",
      "Processing Record 60 | vao\n",
      "Processing Record 61 | miraflores\n",
      "Processing Record 62 | vanimo\n",
      "Processing Record 63 | kununurra\n",
      "Processing Record 64 | carnarvon\n",
      "Processing Record 65 | kruisfontein\n",
      "Processing Record 66 | yellowknife\n",
      "Processing Record 67 | punta arenas\n",
      "Processing Record 68 | sao filipe\n",
      "Processing Record 69 | bambous virieux\n",
      "Processing Record 70 | college\n",
      "Processing Record 71 | dalnegorsk\n",
      "Processing Record 72 | sept-iles\n",
      "Processing Record 73 | gat\n",
      "Processing Record 74 | blagoyevo\n",
      "Processing Record 75 | nishihara\n",
      "Processing Record 76 | victoria\n",
      "Processing Record 77 | tiksi\n",
      "Processing Record 78 | belmonte\n",
      "City not found. Skipping...\n",
      "Processing Record 79 | hamilton\n",
      "Processing Record 80 | novyy urengoy\n",
      "Processing Record 81 | luderitz\n",
      "Processing Record 82 | igarka\n",
      "Processing Record 83 | korla\n",
      "Processing Record 84 | aripuana\n",
      "Processing Record 85 | tadine\n",
      "Processing Record 86 | fortuna\n",
      "Processing Record 87 | klaksvik\n",
      "Processing Record 88 | cape town\n",
      "Processing Record 89 | smithers\n",
      "Processing Record 90 | sucila\n",
      "Processing Record 91 | oktyabrskoye\n",
      "Processing Record 92 | jinchang\n",
      "Processing Record 93 | hithadhoo\n",
      "Processing Record 94 | morondava\n",
      "Processing Record 95 | acarau\n",
      "Processing Record 96 | rtishchevo\n",
      "Processing Record 97 | yar-sale\n",
      "Processing Record 98 | mahebourg\n",
      "City not found. Skipping...\n",
      "Processing Record 99 | sorland\n",
      "Processing Record 100 | thompson\n",
      "Processing Record 101 | constitucion\n",
      "Processing Record 102 | hilo\n",
      "Processing Record 103 | amritsar\n",
      "Processing Record 104 | avera\n",
      "Processing Record 105 | vilyuysk\n",
      "City not found. Skipping...\n",
      "Processing Record 106 | bredasdorp\n",
      "City not found. Skipping...\n",
      "Processing Record 107 | laguna\n",
      "Processing Record 108 | arraial do cabo\n",
      "Processing Record 109 | villafranca de los barros\n",
      "Processing Record 110 | srednekolymsk\n",
      "Processing Record 111 | mar del plata\n",
      "Processing Record 112 | santa isabel\n",
      "Processing Record 113 | limoux\n",
      "Processing Record 114 | avarua\n",
      "Processing Record 115 | puerto penasco\n",
      "Processing Record 116 | zivinice\n",
      "Processing Record 117 | abha\n",
      "Processing Record 118 | hasaki\n",
      "Processing Record 119 | narkanda\n",
      "Processing Record 120 | mporokoso\n",
      "Processing Record 121 | san ramon\n",
      "Processing Record 122 | port alfred\n",
      "City not found. Skipping...\n",
      "Processing Record 123 | at-bashi\n",
      "Processing Record 124 | luis correia\n",
      "Processing Record 125 | souillac\n",
      "Processing Record 126 | khatanga\n",
      "Processing Record 127 | kushima\n",
      "Processing Record 128 | porto walter\n",
      "Processing Record 129 | albany\n",
      "Processing Record 130 | coari\n",
      "Processing Record 131 | moscow\n",
      "Processing Record 132 | praia\n",
      "Processing Record 133 | pimentel\n",
      "Processing Record 134 | qaanaaq\n",
      "Processing Record 135 | biak\n",
      "Processing Record 136 | clyde river\n",
      "Processing Record 137 | dikson\n",
      "Processing Record 138 | omsukchan\n",
      "Processing Record 139 | geraldton\n",
      "Processing Record 140 | alofi\n",
      "Processing Record 141 | paamiut\n",
      "Processing Record 142 | san quintin\n",
      "Processing Record 143 | barrow\n",
      "Processing Record 144 | jinka\n",
      "Processing Record 145 | tiznit\n",
      "Processing Record 146 | okhotsk\n",
      "Processing Record 147 | georgetown\n",
      "Processing Record 148 | bandarbeyla\n",
      "Processing Record 149 | port lincoln\n",
      "Processing Record 150 | ocean city\n",
      "Processing Record 151 | ambon\n",
      "Processing Record 152 | mariveles\n",
      "Processing Record 153 | west bay\n",
      "Processing Record 154 | qorveh\n",
      "Processing Record 155 | chokurdakh\n",
      "Processing Record 156 | pevek\n",
      "City not found. Skipping...\n",
      "Processing Record 157 | honolulu\n",
      "Processing Record 158 | salalah\n",
      "Processing Record 159 | iqaluit\n",
      "Processing Record 160 | vaini\n",
      "Processing Record 161 | predivinsk\n",
      "Processing Record 162 | chuy\n",
      "Processing Record 163 | maningrida\n",
      "Processing Record 164 | east london\n",
      "Processing Record 165 | dunedin\n",
      "Processing Record 166 | sechura\n",
      "Processing Record 167 | pangnirtung\n",
      "Processing Record 168 | napoleon\n",
      "Processing Record 169 | bengkulu\n",
      "Processing Record 170 | kholm\n",
      "Processing Record 171 | iberia\n",
      "Processing Record 172 | hirara\n",
      "Processing Record 173 | moose factory\n",
      "Processing Record 174 | lakatoro\n",
      "Processing Record 175 | barcelona\n",
      "Processing Record 176 | fare\n",
      "Processing Record 177 | north platte\n",
      "Processing Record 178 | xining\n",
      "Processing Record 179 | cerknica\n",
      "Processing Record 180 | lasa\n",
      "Processing Record 181 | kloulklubed\n",
      "Processing Record 182 | fairbanks\n",
      "Processing Record 183 | high level\n",
      "Processing Record 184 | tasiilaq\n",
      "Processing Record 185 | sistranda\n",
      "Processing Record 186 | touros\n",
      "City not found. Skipping...\n",
      "Processing Record 187 | imbituba\n",
      "City not found. Skipping...\n",
      "Processing Record 188 | guiuan\n",
      "Processing Record 189 | ongandjera\n",
      "Processing Record 190 | kaa-khem\n",
      "Processing Record 191 | show low\n",
      "Processing Record 192 | yurty\n",
      "Processing Record 193 | aklavik\n",
      "Processing Record 194 | arkhangelsk\n",
      "Processing Record 195 | rioblanco\n",
      "Processing Record 196 | faanui\n",
      "City not found. Skipping...\n",
      "Processing Record 197 | tazovskiy\n",
      "Processing Record 198 | sola\n",
      "Processing Record 199 | cabo san lucas\n",
      "Processing Record 200 | tolaga bay\n",
      "Processing Record 201 | arlit\n",
      "Processing Record 202 | mitsamiouli\n",
      "Processing Record 203 | akyab\n",
      "Processing Record 204 | zhengjiatun\n",
      "City not found. Skipping...\n",
      "Processing Record 205 | kodiak\n",
      "Processing Record 206 | cidreira\n",
      "Processing Record 207 | anju\n",
      "Processing Record 208 | mercedes\n",
      "Processing Record 209 | paracuru\n",
      "City not found. Skipping...\n",
      "City not found. Skipping...\n",
      "City not found. Skipping...\n",
      "Processing Record 210 | yenagoa\n",
      "Processing Record 211 | weyburn\n",
      "Processing Record 212 | kitimat\n",
      "Processing Record 213 | husavik\n",
      "Processing Record 214 | eenhana\n",
      "Processing Record 215 | aswan\n",
      "Processing Record 216 | tumut\n",
      "Processing Record 217 | svetlogorsk\n",
      "Processing Record 218 | cap malheureux\n",
      "City not found. Skipping...\n",
      "Processing Record 219 | kvarkeno\n",
      "Processing Record 220 | pout\n",
      "Processing Record 221 | alice springs\n",
      "Processing Record 222 | port hardy\n",
      "Processing Record 223 | namatanai\n",
      "Processing Record 224 | lompoc\n",
      "Processing Record 225 | torbay\n",
      "Processing Record 226 | itarema\n",
      "Processing Record 227 | mandra\n",
      "Processing Record 228 | tuatapere\n",
      "Processing Record 229 | khandyga\n",
      "Processing Record 230 | amalapuram\n",
      "Processing Record 231 | uniara\n",
      "Processing Record 232 | dingle\n",
      "Processing Record 233 | la spezia\n"
     ]
    },
    {
     "name": "stdout",
     "output_type": "stream",
     "text": [
      "Processing Record 234 | buzmeyin\n",
      "City not found. Skipping...\n",
      "Processing Record 235 | leningradskiy\n",
      "Processing Record 236 | toora-khem\n",
      "Processing Record 237 | west point\n",
      "Processing Record 238 | te anau\n",
      "Processing Record 239 | saldanha\n",
      "Processing Record 240 | shingu\n",
      "Processing Record 241 | oxford\n",
      "Processing Record 242 | dong hoi\n",
      "Processing Record 243 | aden\n",
      "Processing Record 244 | saint-philippe\n",
      "Processing Record 245 | benjamin hill\n",
      "Processing Record 246 | longyearbyen\n",
      "Processing Record 247 | puerto narino\n",
      "Processing Record 248 | egvekinot\n",
      "Processing Record 249 | la palma\n",
      "Processing Record 250 | olafsvik\n",
      "Processing Record 251 | pangoa\n",
      "City not found. Skipping...\n",
      "City not found. Skipping...\n",
      "Processing Record 252 | beringovskiy\n",
      "Processing Record 253 | miramar\n",
      "Processing Record 254 | bontang\n",
      "Processing Record 255 | brigantine\n",
      "Processing Record 256 | beyneu\n",
      "Processing Record 257 | qena\n",
      "Processing Record 258 | hofn\n",
      "Processing Record 259 | kieta\n",
      "Processing Record 260 | nemuro\n",
      "Processing Record 261 | kursk\n",
      "Processing Record 262 | pacific grove\n",
      "Processing Record 263 | anloga\n",
      "Processing Record 264 | charters towers\n",
      "Processing Record 265 | aykhal\n",
      "Processing Record 266 | pisco\n",
      "Processing Record 267 | ushtobe\n",
      "Processing Record 268 | saint-francois\n",
      "Processing Record 269 | dubovskoye\n",
      "Processing Record 270 | sinnamary\n",
      "Processing Record 271 | candido mendes\n",
      "Processing Record 272 | burnie\n",
      "Processing Record 273 | monteagudo\n",
      "City not found. Skipping...\n",
      "Processing Record 274 | lujan\n",
      "Processing Record 275 | general pico\n",
      "Processing Record 276 | qurayyat\n",
      "Processing Record 277 | oum hadjer\n",
      "Processing Record 278 | codrington\n",
      "Processing Record 279 | praia da vitoria\n",
      "City not found. Skipping...\n",
      "Processing Record 280 | scottsbluff\n",
      "Processing Record 281 | puerto colombia\n",
      "Processing Record 282 | flinders\n",
      "Processing Record 283 | saint-georges\n",
      "Processing Record 284 | mayo\n",
      "Processing Record 285 | kampli\n",
      "Processing Record 286 | tohana\n",
      "Processing Record 287 | waitati\n",
      "Processing Record 288 | cabra\n",
      "Processing Record 289 | indramayu\n",
      "Processing Record 290 | rio grande\n",
      "Processing Record 291 | boa vista\n",
      "Processing Record 292 | hami\n",
      "Processing Record 293 | ossora\n",
      "Processing Record 294 | gashua\n",
      "Processing Record 295 | tukrah\n",
      "Processing Record 296 | arkhipo-osipovka\n",
      "Processing Record 297 | okha\n",
      "Processing Record 298 | atar\n",
      "Processing Record 299 | camacha\n",
      "Processing Record 300 | faya\n",
      "Processing Record 301 | marovoay\n",
      "Processing Record 302 | yaan\n",
      "Processing Record 303 | bom jesus dos perdoes\n",
      "Processing Record 304 | kamenka\n",
      "Processing Record 305 | vardo\n",
      "Processing Record 306 | la ronge\n",
      "Processing Record 307 | waipawa\n",
      "Processing Record 308 | meulaboh\n",
      "Processing Record 309 | ilulissat\n",
      "Processing Record 310 | kautokeino\n",
      "Processing Record 311 | chandia\n",
      "Processing Record 312 | nanortalik\n",
      "Processing Record 313 | qui nhon\n",
      "City not found. Skipping...\n",
      "Processing Record 314 | rocha\n",
      "Processing Record 315 | tommot\n",
      "Processing Record 316 | ancud\n",
      "Processing Record 317 | talnakh\n",
      "Processing Record 318 | katobu\n",
      "Processing Record 319 | derzhavinsk\n",
      "Processing Record 320 | trelaze\n",
      "Processing Record 321 | provideniya\n",
      "Processing Record 322 | chamrajnagar\n",
      "Processing Record 323 | bar harbor\n",
      "Processing Record 324 | san patricio\n",
      "Processing Record 325 | riyadh\n",
      "Processing Record 326 | kahului\n",
      "Processing Record 327 | byron bay\n",
      "Processing Record 328 | usinsk\n",
      "Processing Record 329 | adrar\n",
      "Processing Record 330 | kenai\n",
      "Processing Record 331 | astana\n",
      "Processing Record 332 | amuntai\n",
      "Processing Record 333 | hornepayne\n",
      "Processing Record 334 | alabaster\n",
      "Processing Record 335 | salaya\n",
      "Processing Record 336 | kawalu\n",
      "Processing Record 337 | jega\n",
      "Processing Record 338 | buraydah\n",
      "Processing Record 339 | belyy yar\n",
      "Processing Record 340 | benito juarez\n",
      "Processing Record 341 | norman wells\n",
      "Processing Record 342 | sines\n",
      "Processing Record 343 | kurchum\n",
      "Processing Record 344 | mackay\n",
      "Processing Record 345 | pinar del rio\n",
      "Processing Record 346 | birao\n",
      "Processing Record 347 | annau\n",
      "City not found. Skipping...\n",
      "Processing Record 348 | burgstadt\n",
      "Processing Record 349 | chapais\n",
      "Processing Record 350 | erzurum\n",
      "Processing Record 351 | marawi\n",
      "Processing Record 352 | imeni stepana razina\n",
      "Processing Record 353 | emba\n",
      "City not found. Skipping...\n",
      "Processing Record 354 | umba\n",
      "Processing Record 355 | noyabrsk\n",
      "Processing Record 356 | khobi\n",
      "Processing Record 357 | guarapari\n",
      "Processing Record 358 | kudahuvadhoo\n",
      "Processing Record 359 | port augusta\n",
      "Processing Record 360 | butembo\n",
      "Processing Record 361 | santa fe\n",
      "Processing Record 362 | poum\n",
      "Processing Record 363 | ariquemes\n",
      "Processing Record 364 | severo-kurilsk\n",
      "Processing Record 365 | ekibastuz\n",
      "Processing Record 366 | makat\n",
      "Processing Record 367 | melendugno\n",
      "Processing Record 368 | ostrovnoy\n",
      "Processing Record 369 | lahaina\n",
      "Processing Record 370 | pierre\n",
      "Processing Record 371 | douentza\n",
      "Processing Record 372 | lorengau\n",
      "Processing Record 373 | khairagarh\n",
      "Processing Record 374 | omboue\n",
      "Processing Record 375 | norrtalje\n",
      "City not found. Skipping...\n",
      "Processing Record 376 | manggar\n",
      "Processing Record 377 | kifri\n",
      "Processing Record 378 | basco\n",
      "Processing Record 379 | channel-port aux basques\n",
      "Processing Record 380 | poronaysk\n",
      "City not found. Skipping...\n",
      "Processing Record 381 | vestmanna\n",
      "Processing Record 382 | baikunthpur\n",
      "Processing Record 383 | cherskiy\n",
      "Processing Record 384 | japura\n",
      "Processing Record 385 | khani\n",
      "City not found. Skipping...\n",
      "Processing Record 386 | juneau\n",
      "Processing Record 387 | bathsheba\n",
      "Processing Record 388 | thomasville\n",
      "Processing Record 389 | lethem\n",
      "Processing Record 390 | san cristobal\n",
      "Processing Record 391 | esperance\n",
      "Processing Record 392 | westport\n",
      "Processing Record 393 | cayenne\n",
      "Processing Record 394 | yuancheng\n",
      "Processing Record 395 | neuquen\n",
      "Processing Record 396 | nisia floresta\n",
      "Processing Record 397 | tateyama\n",
      "Processing Record 398 | guadalupe y calvo\n",
      "Processing Record 399 | sagbayan\n",
      "Processing Record 400 | wuchang\n",
      "Processing Record 401 | luwingu\n",
      "City not found. Skipping...\n",
      "Processing Record 402 | zhanakorgan\n",
      "Processing Record 403 | mollendo\n",
      "Processing Record 404 | maragogi\n",
      "Processing Record 405 | ellensburg\n",
      "Processing Record 406 | sao joao da barra\n",
      "Processing Record 407 | usolye\n",
      "Processing Record 408 | amapa\n",
      "Processing Record 409 | sozimskiy\n",
      "Processing Record 410 | hualmay\n",
      "Processing Record 411 | bemidji\n",
      "Processing Record 412 | celestun\n",
      "Processing Record 413 | galveston\n",
      "Processing Record 414 | van\n",
      "Processing Record 415 | naze\n",
      "Processing Record 416 | asau\n",
      "Processing Record 417 | urubicha\n",
      "Processing Record 418 | taoudenni\n",
      "Processing Record 419 | muscat\n",
      "Processing Record 420 | mangaluru\n",
      "Processing Record 421 | awjilah\n",
      "City not found. Skipping...\n",
      "Processing Record 422 | kviteseid\n",
      "Processing Record 423 | saint george\n",
      "Processing Record 424 | pabrade\n",
      "Processing Record 425 | fershampenuaz\n",
      "Processing Record 426 | bonnyville\n",
      "Processing Record 427 | iquique\n",
      "City not found. Skipping...\n",
      "Processing Record 428 | bowen\n",
      "Processing Record 429 | komsomolskiy\n",
      "Processing Record 430 | talaya\n",
      "Processing Record 431 | marsa matruh\n",
      "Processing Record 432 | nago\n",
      "Processing Record 433 | aborlan\n",
      "Processing Record 434 | harlingen\n",
      "Processing Record 435 | mwinilunga\n",
      "Processing Record 436 | tevaitoa\n",
      "Processing Record 437 | neiafu\n",
      "Processing Record 438 | general higinio morinigo\n",
      "Processing Record 439 | velizh\n",
      "Processing Record 440 | sinor\n",
      "Processing Record 441 | samana\n",
      "Processing Record 442 | labuhan\n",
      "Processing Record 443 | sao felix do xingu\n",
      "Processing Record 444 | vostok\n",
      "Processing Record 445 | ulenje\n",
      "Processing Record 446 | thatta\n",
      "Processing Record 447 | hovd\n",
      "Processing Record 448 | makakilo city\n",
      "Processing Record 449 | vila franca do campo\n",
      "Processing Record 450 | lagoa\n",
      "Processing Record 451 | yumen\n",
      "Processing Record 452 | rawson\n",
      "Processing Record 453 | kamaishi\n",
      "Processing Record 454 | dakar\n",
      "Processing Record 455 | saint anthony\n",
      "Processing Record 456 | quatre cocos\n",
      "Processing Record 457 | mangochi\n",
      "Processing Record 458 | caravelas\n",
      "Processing Record 459 | takoradi\n",
      "Processing Record 460 | mpika\n",
      "Processing Record 461 | neepawa\n",
      "Processing Record 462 | saint-augustin\n",
      "Processing Record 463 | kaikalur\n",
      "Processing Record 464 | roma\n",
      "Processing Record 465 | progreso\n",
      "Processing Record 466 | moba\n",
      "Processing Record 467 | san rafael\n",
      "Processing Record 468 | wanxian\n"
     ]
    },
    {
     "name": "stdout",
     "output_type": "stream",
     "text": [
      "Processing Record 469 | marsh harbour\n",
      "Processing Record 470 | dillon\n",
      "Processing Record 471 | bogorodskoye\n",
      "Processing Record 472 | khorixas\n",
      "Processing Record 473 | kavaratti\n",
      "Processing Record 474 | phangnga\n",
      "Processing Record 475 | goulburn\n",
      "Processing Record 476 | mastic\n",
      "Processing Record 477 | paralimni\n",
      "Processing Record 478 | erzin\n",
      "Processing Record 479 | marienburg\n",
      "Processing Record 480 | bonavista\n",
      "Processing Record 481 | roald\n",
      "Processing Record 482 | george town\n",
      "Processing Record 483 | grindavik\n",
      "Processing Record 484 | baykit\n",
      "City not found. Skipping...\n",
      "Processing Record 485 | cahors\n",
      "Processing Record 486 | ahipara\n",
      "Processing Record 487 | williams lake\n",
      "Processing Record 488 | ogori\n",
      "Processing Record 489 | morden\n",
      "Processing Record 490 | ziarat\n",
      "City not found. Skipping...\n",
      "Processing Record 491 | puerto madryn\n",
      "Processing Record 492 | mogadishu\n",
      "Processing Record 493 | soto la marina\n",
      "Processing Record 494 | brae\n",
      "Processing Record 495 | sobolevo\n",
      "Processing Record 496 | mount barker\n",
      "Processing Record 497 | flin flon\n",
      "Processing Record 498 | inirida\n",
      "Processing Record 499 | panguna\n",
      "City not found. Skipping...\n",
      "Processing Record 500 | rodrigues alves\n",
      "Processing Record 501 | eyl\n",
      "Processing Record 502 | ternate\n",
      "Processing Record 503 | mersing\n",
      "Processing Record 504 | shelburne\n",
      "Processing Record 505 | auki\n",
      "Processing Record 506 | vrangel\n",
      "Processing Record 507 | waterloo\n",
      "Processing Record 508 | mazyr\n",
      "Processing Record 509 | homer\n",
      "Processing Record 510 | fort nelson\n",
      "Processing Record 511 | yonibana\n",
      "City not found. Skipping...\n",
      "Processing Record 512 | esna\n",
      "Processing Record 513 | wanning\n",
      "Processing Record 514 | deputatskiy\n",
      "Processing Record 515 | ketchikan\n",
      "Processing Record 516 | cartagena del chaira\n",
      "Processing Record 517 | matara\n",
      "Processing Record 518 | rwamagana\n",
      "Processing Record 519 | adeje\n",
      "Processing Record 520 | casambalangan\n",
      "Processing Record 521 | luganville\n",
      "Processing Record 522 | chicama\n",
      "Processing Record 523 | sohagpur\n",
      "Processing Record 524 | lisakovsk\n",
      "City not found. Skipping...\n",
      "Processing Record 525 | san luis\n",
      "Processing Record 526 | laje\n",
      "City not found. Skipping...\n",
      "Processing Record 527 | senanga\n",
      "Processing Record 528 | balabac\n",
      "City not found. Skipping...\n",
      "Processing Record 529 | drawsko pomorskie\n",
      "Processing Record 530 | alugan\n",
      "Processing Record 531 | seymchan\n",
      "Processing Record 532 | los llanos de aridane\n",
      "Processing Record 533 | laguna de perlas\n",
      "City not found. Skipping...\n",
      "Processing Record 534 | ustka\n",
      "Processing Record 535 | la paz\n",
      "Processing Record 536 | opuwo\n",
      "City not found. Skipping...\n",
      "Processing Record 537 | chengde\n",
      "Processing Record 538 | morant bay\n",
      "City not found. Skipping...\n",
      "Processing Record 539 | pemba\n",
      "Processing Record 540 | saint-joseph\n",
      "Processing Record 541 | ugoofaaru\n",
      "Processing Record 542 | mariental\n",
      "Processing Record 543 | lac-megantic\n",
      "Processing Record 544 | ballina\n",
      "Processing Record 545 | taruma\n",
      "Processing Record 546 | chifeng\n",
      "Processing Record 547 | mayor pablo lagerenza\n",
      "Processing Record 548 | mafinga\n",
      "Processing Record 549 | siteki\n",
      "Processing Record 550 | livingston\n",
      "Processing Record 551 | crotone\n",
      "City not found. Skipping...\n",
      "Processing Record 552 | carutapera\n",
      "Processing Record 553 | lubao\n",
      "Processing Record 554 | zhigansk\n",
      "Processing Record 555 | piranhas\n",
      "Processing Record 556 | puerto escondido\n",
      "Processing Record 557 | big spring\n",
      "Processing Record 558 | saint-pierre\n",
      "Processing Record 559 | ileza\n",
      "Processing Record 560 | nouadhibou\n",
      "Processing Record 561 | kathmandu\n",
      "City not found. Skipping...\n",
      "Processing Record 562 | lekoni\n",
      "Processing Record 563 | jizan\n",
      "Processing Record 564 | tigre\n",
      "Processing Record 565 | shimoda\n",
      "Processing Record 566 | bilma\n",
      "Processing Record 567 | jackson\n",
      "Processing Record 568 | san pedro\n",
      "Processing Record 569 | jacareacanga\n",
      "Processing Record 570 | barkhan\n",
      "City not found. Skipping...\n",
      "Processing Record 571 | shangrao\n",
      "Processing Record 572 | akdepe\n",
      "Processing Record 573 | jalu\n",
      "Processing Record 574 | aktash\n"
     ]
    }
   ],
   "source": [
    "# DF to store all cities and city number (uses citipy)\n",
    "city_df = pd.DataFrame({'City': cities})\n",
    "print(\"Beginning Data Retrieval\")\n",
    "print(\"----------------------------\")\n",
    "\n",
    "\n",
    "# Sets parameters for calling city name\n",
    "\n",
    "\n",
    "# Target Url for API calls\n",
    "query_url = \"http://api.openweathermap.org/data/2.5/weather\"\n",
    "\n",
    "# Create add'l fields for later api calls\n",
    "\n",
    "city_df['Lat'] = ''\n",
    "city_df['Lng'] = ''\n",
    "city_df['Max Temp'] = ''\n",
    "city_df['Humidity'] = ''\n",
    "city_df['Cloudiness'] = ''\n",
    "city_df['Wind Speed'] = ''\n",
    "city_df['Country'] = ''\n",
    "city_df['Date'] = ''\n",
    "\n",
    "city_count = 0\n",
    "\n",
    "# Loop through the API\n",
    "for index,row in city_df.iterrows():\n",
    "\n",
    "    city_name = row['City']\n",
    "#     city_id = row['id']\n",
    "    \n",
    "    # Set query parameters\n",
    "    params = {'q': city_name,'units': 'imperial','appid': weather_api_key,}\n",
    "    response = requests.get(query_url, params = params).json()\n",
    "    \n",
    "    try:\n",
    "       \n",
    "        city_df.loc[index, 'Lat'] = response['coord']['lat']\n",
    "        city_df.loc[index, 'Lng'] = response['coord']['lon']\n",
    "        city_df.loc[index, 'Max Temp'] = response['main']['temp_max']\n",
    "        city_df.loc[index, 'Humidity'] = response['main']['humidity']\n",
    "        city_df.loc[index, 'Cloudiness'] = response['clouds']['all']\n",
    "        city_df.loc[index, 'Wind Speed'] = response['wind']['speed']\n",
    "        city_df.loc[index, 'Date'] = response['dt']\n",
    "        \n",
    "        # Update city number\n",
    "        city_count += 1\n",
    "        \n",
    "        # Print log of each city being processed (only if all data is available)\n",
    "        print(f'Processing Record {city_count} | {city_name}')\n",
    "        \n",
    "    except (KeyError, IndexError):\n",
    "\n",
    "        print(\"City not found. Skipping...\")\n",
    "\n",
    "\n",
    "## Every time the below three lines are included an error occurs.  So they are commented out until this is resolved.\n",
    "# print(\"----------------------------\")\n",
    "# print(\"Data Retrieval Complete\")\n",
    "# print(\"----------------------------\")"
   ]
  },
  {
   "cell_type": "code",
   "execution_count": 31,
   "metadata": {},
   "outputs": [
    {
     "data": {
      "text/html": [
       "<div>\n",
       "<style scoped>\n",
       "    .dataframe tbody tr th:only-of-type {\n",
       "        vertical-align: middle;\n",
       "    }\n",
       "\n",
       "    .dataframe tbody tr th {\n",
       "        vertical-align: top;\n",
       "    }\n",
       "\n",
       "    .dataframe thead th {\n",
       "        text-align: right;\n",
       "    }\n",
       "</style>\n",
       "<table border=\"1\" class=\"dataframe\">\n",
       "  <thead>\n",
       "    <tr style=\"text-align: right;\">\n",
       "      <th></th>\n",
       "      <th>City</th>\n",
       "      <th>Lat</th>\n",
       "      <th>Lng</th>\n",
       "      <th>Max Temp</th>\n",
       "      <th>Humidity</th>\n",
       "      <th>Cloudiness</th>\n",
       "      <th>Wind Speed</th>\n",
       "      <th>Country</th>\n",
       "      <th>Date</th>\n",
       "    </tr>\n",
       "  </thead>\n",
       "  <tbody>\n",
       "    <tr>\n",
       "      <th>0</th>\n",
       "      <td>atambua</td>\n",
       "      <td>-9.1061</td>\n",
       "      <td>124.892</td>\n",
       "      <td>80.92</td>\n",
       "      <td>77</td>\n",
       "      <td>73</td>\n",
       "      <td>5.59</td>\n",
       "      <td></td>\n",
       "      <td>1612662635</td>\n",
       "    </tr>\n",
       "    <tr>\n",
       "      <th>1</th>\n",
       "      <td>portland</td>\n",
       "      <td>45.5234</td>\n",
       "      <td>-122.676</td>\n",
       "      <td>46.99</td>\n",
       "      <td>87</td>\n",
       "      <td>90</td>\n",
       "      <td>16.11</td>\n",
       "      <td></td>\n",
       "      <td>1612662571</td>\n",
       "    </tr>\n",
       "    <tr>\n",
       "      <th>2</th>\n",
       "      <td>hobart</td>\n",
       "      <td>-42.8794</td>\n",
       "      <td>147.329</td>\n",
       "      <td>66</td>\n",
       "      <td>63</td>\n",
       "      <td>75</td>\n",
       "      <td>17.27</td>\n",
       "      <td></td>\n",
       "      <td>1612662750</td>\n",
       "    </tr>\n",
       "    <tr>\n",
       "      <th>3</th>\n",
       "      <td>pyapon</td>\n",
       "      <td>16.2833</td>\n",
       "      <td>95.6833</td>\n",
       "      <td>76.78</td>\n",
       "      <td>69</td>\n",
       "      <td>0</td>\n",
       "      <td>3.98</td>\n",
       "      <td></td>\n",
       "      <td>1612663241</td>\n",
       "    </tr>\n",
       "    <tr>\n",
       "      <th>4</th>\n",
       "      <td>illoqqortoormiut</td>\n",
       "      <td></td>\n",
       "      <td></td>\n",
       "      <td></td>\n",
       "      <td></td>\n",
       "      <td></td>\n",
       "      <td></td>\n",
       "      <td></td>\n",
       "      <td></td>\n",
       "    </tr>\n",
       "  </tbody>\n",
       "</table>\n",
       "</div>"
      ],
      "text/plain": [
       "               City      Lat      Lng Max Temp Humidity Cloudiness Wind Speed  \\\n",
       "0           atambua  -9.1061  124.892    80.92       77         73       5.59   \n",
       "1          portland  45.5234 -122.676    46.99       87         90      16.11   \n",
       "2            hobart -42.8794  147.329       66       63         75      17.27   \n",
       "3            pyapon  16.2833  95.6833    76.78       69          0       3.98   \n",
       "4  illoqqortoormiut                                                             \n",
       "\n",
       "  Country        Date  \n",
       "0          1612662635  \n",
       "1          1612662571  \n",
       "2          1612662750  \n",
       "3          1612663241  \n",
       "4                      "
      ]
     },
     "execution_count": 31,
     "metadata": {},
     "output_type": "execute_result"
    }
   ],
   "source": []
  },
  {
   "cell_type": "code",
   "execution_count": 10,
   "metadata": {
    "scrolled": true
   },
   "outputs": [],
   "source": [
    "# don't run this cell - sample export"
   ]
  },
  {
   "cell_type": "markdown",
   "metadata": {},
   "source": [
    "### Convert Raw Data to DataFrame\n",
    "* Export the city data into a .csv.\n",
    "* Display the DataFrame"
   ]
  },
  {
   "cell_type": "code",
   "execution_count": 36,
   "metadata": {},
   "outputs": [
    {
     "ename": "FileNotFoundError",
     "evalue": "[Errno 2] No such file or directory: 'output_data/cities.csv'",
     "output_type": "error",
     "traceback": [
      "\u001b[1;31m---------------------------------------------------------------------------\u001b[0m",
      "\u001b[1;31mFileNotFoundError\u001b[0m                         Traceback (most recent call last)",
      "\u001b[1;32m<ipython-input-36-1e7b9f8b4fef>\u001b[0m in \u001b[0;36m<module>\u001b[1;34m\u001b[0m\n\u001b[0;32m      1\u001b[0m \u001b[1;31m# dataframe was created in previous cell.\u001b[0m\u001b[1;33m\u001b[0m\u001b[1;33m\u001b[0m\u001b[1;33m\u001b[0m\u001b[0m\n\u001b[0;32m      2\u001b[0m \u001b[1;31m# export to csv and display\u001b[0m\u001b[1;33m\u001b[0m\u001b[1;33m\u001b[0m\u001b[1;33m\u001b[0m\u001b[0m\n\u001b[1;32m----> 3\u001b[1;33m \u001b[0mcity_df\u001b[0m\u001b[1;33m.\u001b[0m\u001b[0mto_csv\u001b[0m\u001b[1;33m(\u001b[0m\u001b[0moutput_data_file\u001b[0m\u001b[1;33m,\u001b[0m \u001b[0mindex\u001b[0m \u001b[1;33m=\u001b[0m \u001b[1;32mFalse\u001b[0m\u001b[1;33m)\u001b[0m\u001b[1;33m\u001b[0m\u001b[1;33m\u001b[0m\u001b[0m\n\u001b[0m\u001b[0;32m      4\u001b[0m \u001b[0mcity_df\u001b[0m\u001b[1;33m.\u001b[0m\u001b[0mhead\u001b[0m\u001b[1;33m(\u001b[0m\u001b[1;33m)\u001b[0m\u001b[1;33m\u001b[0m\u001b[1;33m\u001b[0m\u001b[0m\n",
      "\u001b[1;32m~\\Anaconda3\\lib\\site-packages\\pandas\\core\\generic.py\u001b[0m in \u001b[0;36mto_csv\u001b[1;34m(self, path_or_buf, sep, na_rep, float_format, columns, header, index, index_label, mode, encoding, compression, quoting, quotechar, line_terminator, chunksize, date_format, doublequote, escapechar, decimal, errors)\u001b[0m\n\u001b[0;32m   3168\u001b[0m             \u001b[0mdecimal\u001b[0m\u001b[1;33m=\u001b[0m\u001b[0mdecimal\u001b[0m\u001b[1;33m,\u001b[0m\u001b[1;33m\u001b[0m\u001b[1;33m\u001b[0m\u001b[0m\n\u001b[0;32m   3169\u001b[0m         )\n\u001b[1;32m-> 3170\u001b[1;33m         \u001b[0mformatter\u001b[0m\u001b[1;33m.\u001b[0m\u001b[0msave\u001b[0m\u001b[1;33m(\u001b[0m\u001b[1;33m)\u001b[0m\u001b[1;33m\u001b[0m\u001b[1;33m\u001b[0m\u001b[0m\n\u001b[0m\u001b[0;32m   3171\u001b[0m \u001b[1;33m\u001b[0m\u001b[0m\n\u001b[0;32m   3172\u001b[0m         \u001b[1;32mif\u001b[0m \u001b[0mpath_or_buf\u001b[0m \u001b[1;32mis\u001b[0m \u001b[1;32mNone\u001b[0m\u001b[1;33m:\u001b[0m\u001b[1;33m\u001b[0m\u001b[1;33m\u001b[0m\u001b[0m\n",
      "\u001b[1;32m~\\Anaconda3\\lib\\site-packages\\pandas\\io\\formats\\csvs.py\u001b[0m in \u001b[0;36msave\u001b[1;34m(self)\u001b[0m\n\u001b[0;32m    183\u001b[0m             \u001b[0mclose\u001b[0m \u001b[1;33m=\u001b[0m \u001b[1;32mFalse\u001b[0m\u001b[1;33m\u001b[0m\u001b[1;33m\u001b[0m\u001b[0m\n\u001b[0;32m    184\u001b[0m         \u001b[1;32melse\u001b[0m\u001b[1;33m:\u001b[0m\u001b[1;33m\u001b[0m\u001b[1;33m\u001b[0m\u001b[0m\n\u001b[1;32m--> 185\u001b[1;33m             f, handles = get_handle(\n\u001b[0m\u001b[0;32m    186\u001b[0m                 \u001b[0mself\u001b[0m\u001b[1;33m.\u001b[0m\u001b[0mpath_or_buf\u001b[0m\u001b[1;33m,\u001b[0m\u001b[1;33m\u001b[0m\u001b[1;33m\u001b[0m\u001b[0m\n\u001b[0;32m    187\u001b[0m                 \u001b[0mself\u001b[0m\u001b[1;33m.\u001b[0m\u001b[0mmode\u001b[0m\u001b[1;33m,\u001b[0m\u001b[1;33m\u001b[0m\u001b[1;33m\u001b[0m\u001b[0m\n",
      "\u001b[1;32m~\\Anaconda3\\lib\\site-packages\\pandas\\io\\common.py\u001b[0m in \u001b[0;36mget_handle\u001b[1;34m(path_or_buf, mode, encoding, compression, memory_map, is_text, errors)\u001b[0m\n\u001b[0;32m    491\u001b[0m         \u001b[1;32mif\u001b[0m \u001b[0mencoding\u001b[0m\u001b[1;33m:\u001b[0m\u001b[1;33m\u001b[0m\u001b[1;33m\u001b[0m\u001b[0m\n\u001b[0;32m    492\u001b[0m             \u001b[1;31m# Encoding\u001b[0m\u001b[1;33m\u001b[0m\u001b[1;33m\u001b[0m\u001b[1;33m\u001b[0m\u001b[0m\n\u001b[1;32m--> 493\u001b[1;33m             \u001b[0mf\u001b[0m \u001b[1;33m=\u001b[0m \u001b[0mopen\u001b[0m\u001b[1;33m(\u001b[0m\u001b[0mpath_or_buf\u001b[0m\u001b[1;33m,\u001b[0m \u001b[0mmode\u001b[0m\u001b[1;33m,\u001b[0m \u001b[0mencoding\u001b[0m\u001b[1;33m=\u001b[0m\u001b[0mencoding\u001b[0m\u001b[1;33m,\u001b[0m \u001b[0merrors\u001b[0m\u001b[1;33m=\u001b[0m\u001b[0merrors\u001b[0m\u001b[1;33m,\u001b[0m \u001b[0mnewline\u001b[0m\u001b[1;33m=\u001b[0m\u001b[1;34m\"\"\u001b[0m\u001b[1;33m)\u001b[0m\u001b[1;33m\u001b[0m\u001b[1;33m\u001b[0m\u001b[0m\n\u001b[0m\u001b[0;32m    494\u001b[0m         \u001b[1;32melif\u001b[0m \u001b[0mis_text\u001b[0m\u001b[1;33m:\u001b[0m\u001b[1;33m\u001b[0m\u001b[1;33m\u001b[0m\u001b[0m\n\u001b[0;32m    495\u001b[0m             \u001b[1;31m# No explicit encoding\u001b[0m\u001b[1;33m\u001b[0m\u001b[1;33m\u001b[0m\u001b[1;33m\u001b[0m\u001b[0m\n",
      "\u001b[1;31mFileNotFoundError\u001b[0m: [Errno 2] No such file or directory: 'output_data/cities.csv'"
     ]
    }
   ],
   "source": [
    "# dataframe was created in previous cell.\n",
    "# export to csv and display\n",
    "city_df.to_csv(output_data_file, index = False)\n",
    "city_df.head(10)"
   ]
  },
  {
   "cell_type": "code",
   "execution_count": 12,
   "metadata": {},
   "outputs": [],
   "source": [
    "# don't rund this - sample"
   ]
  },
  {
   "cell_type": "code",
   "execution_count": 13,
   "metadata": {},
   "outputs": [],
   "source": [
    "# don't run this - sample"
   ]
  },
  {
   "cell_type": "markdown",
   "metadata": {},
   "source": [
    "## Inspect the data and remove the cities where the humidity > 100%.\n",
    "----\n",
    "Skip this step if there are no cities that have humidity > 100%. "
   ]
  },
  {
   "cell_type": "code",
   "execution_count": 14,
   "metadata": {},
   "outputs": [],
   "source": [
    "# don't run this -s ample"
   ]
  },
  {
   "cell_type": "code",
   "execution_count": 15,
   "metadata": {},
   "outputs": [],
   "source": [
    "#  Get the indices of cities that have humidity over 100%.\n"
   ]
  },
  {
   "cell_type": "code",
   "execution_count": 16,
   "metadata": {},
   "outputs": [],
   "source": [
    "# Make a new DataFrame equal to the city data to drop all humidity outliers by index.\n",
    "# Passing \"inplace=False\" will make a copy of the city_data DataFrame, which we call \"clean_city_data\".\n"
   ]
  },
  {
   "cell_type": "code",
   "execution_count": 17,
   "metadata": {},
   "outputs": [],
   "source": [
    "# don't run this = sample"
   ]
  },
  {
   "cell_type": "markdown",
   "metadata": {},
   "source": [
    "## Plotting the Data\n",
    "* Use proper labeling of the plots using plot titles (including date of analysis) and axes labels.\n",
    "* Save the plotted figures as .pngs."
   ]
  },
  {
   "cell_type": "markdown",
   "metadata": {},
   "source": [
    "## Latitude vs. Temperature Plot"
   ]
  },
  {
   "cell_type": "code",
   "execution_count": 18,
   "metadata": {
    "scrolled": true
   },
   "outputs": [],
   "source": [
    "# don't run this - sample"
   ]
  },
  {
   "cell_type": "markdown",
   "metadata": {},
   "source": [
    "## Latitude vs. Humidity Plot"
   ]
  },
  {
   "cell_type": "code",
   "execution_count": 19,
   "metadata": {},
   "outputs": [],
   "source": [
    "# don't run this - sample"
   ]
  },
  {
   "cell_type": "markdown",
   "metadata": {},
   "source": [
    "## Latitude vs. Cloudiness Plot"
   ]
  },
  {
   "cell_type": "code",
   "execution_count": 20,
   "metadata": {},
   "outputs": [],
   "source": [
    "# don't rum this - sample"
   ]
  },
  {
   "cell_type": "markdown",
   "metadata": {},
   "source": [
    "## Latitude vs. Wind Speed Plot"
   ]
  },
  {
   "cell_type": "code",
   "execution_count": 21,
   "metadata": {},
   "outputs": [],
   "source": [
    "# don't rum this - sample"
   ]
  },
  {
   "cell_type": "markdown",
   "metadata": {},
   "source": [
    "## Linear Regression"
   ]
  },
  {
   "cell_type": "code",
   "execution_count": 22,
   "metadata": {},
   "outputs": [],
   "source": [
    "# don't rum this - sample"
   ]
  },
  {
   "cell_type": "markdown",
   "metadata": {},
   "source": [
    "####  Northern Hemisphere - Max Temp vs. Latitude Linear Regression"
   ]
  },
  {
   "cell_type": "code",
   "execution_count": 23,
   "metadata": {},
   "outputs": [],
   "source": [
    "# don't rum this - sample"
   ]
  },
  {
   "cell_type": "markdown",
   "metadata": {},
   "source": [
    "####  Southern Hemisphere - Max Temp vs. Latitude Linear Regression"
   ]
  },
  {
   "cell_type": "code",
   "execution_count": 24,
   "metadata": {},
   "outputs": [],
   "source": [
    "# don't rum this - sample"
   ]
  },
  {
   "cell_type": "markdown",
   "metadata": {},
   "source": [
    "####  Northern Hemisphere - Humidity (%) vs. Latitude Linear Regression"
   ]
  },
  {
   "cell_type": "code",
   "execution_count": 25,
   "metadata": {},
   "outputs": [],
   "source": [
    "# don't rum this - sample"
   ]
  },
  {
   "cell_type": "markdown",
   "metadata": {},
   "source": [
    "####  Southern Hemisphere - Humidity (%) vs. Latitude Linear Regression"
   ]
  },
  {
   "cell_type": "code",
   "execution_count": 26,
   "metadata": {},
   "outputs": [],
   "source": [
    "# don't rum this - sample"
   ]
  },
  {
   "cell_type": "markdown",
   "metadata": {},
   "source": [
    "####  Northern Hemisphere - Cloudiness (%) vs. Latitude Linear Regression"
   ]
  },
  {
   "cell_type": "code",
   "execution_count": 27,
   "metadata": {},
   "outputs": [],
   "source": [
    "# don't rum this - sample"
   ]
  },
  {
   "cell_type": "markdown",
   "metadata": {},
   "source": [
    "####  Southern Hemisphere - Cloudiness (%) vs. Latitude Linear Regression"
   ]
  },
  {
   "cell_type": "code",
   "execution_count": 28,
   "metadata": {},
   "outputs": [],
   "source": [
    "# don't rum this - sample"
   ]
  },
  {
   "cell_type": "markdown",
   "metadata": {},
   "source": [
    "####  Northern Hemisphere - Wind Speed (mph) vs. Latitude Linear Regression"
   ]
  },
  {
   "cell_type": "code",
   "execution_count": 29,
   "metadata": {},
   "outputs": [],
   "source": [
    "# don't rum this - sample"
   ]
  },
  {
   "cell_type": "markdown",
   "metadata": {},
   "source": [
    "####  Southern Hemisphere - Wind Speed (mph) vs. Latitude Linear Regression"
   ]
  },
  {
   "cell_type": "code",
   "execution_count": 30,
   "metadata": {},
   "outputs": [],
   "source": [
    "# don't rum this - sample"
   ]
  },
  {
   "cell_type": "code",
   "execution_count": null,
   "metadata": {},
   "outputs": [],
   "source": []
  }
 ],
 "metadata": {
  "anaconda-cloud": {},
  "kernel_info": {
   "name": "python3"
  },
  "kernelspec": {
   "display_name": "Python 3",
   "language": "python",
   "name": "python3"
  },
  "language_info": {
   "codemirror_mode": {
    "name": "ipython",
    "version": 3
   },
   "file_extension": ".py",
   "mimetype": "text/x-python",
   "name": "python",
   "nbconvert_exporter": "python",
   "pygments_lexer": "ipython3",
   "version": "3.8.5"
  },
  "latex_envs": {
   "LaTeX_envs_menu_present": true,
   "autoclose": false,
   "autocomplete": true,
   "bibliofile": "biblio.bib",
   "cite_by": "apalike",
   "current_citInitial": 1,
   "eqLabelWithNumbers": true,
   "eqNumInitial": 1,
   "hotkeys": {
    "equation": "Ctrl-E",
    "itemize": "Ctrl-I"
   },
   "labels_anchors": false,
   "latex_user_defs": false,
   "report_style_numbering": false,
   "user_envs_cfg": false
  },
  "nteract": {
   "version": "0.12.3"
  }
 },
 "nbformat": 4,
 "nbformat_minor": 2
}
