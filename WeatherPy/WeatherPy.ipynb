{
 "cells": [
  {
   "cell_type": "markdown",
   "metadata": {},
   "source": [
    "# WeatherPy\n",
    "----\n",
    "\n",
    "#### Note\n",
    "* Instructions have been included for each segment. You do not have to follow them exactly, but they are included to help you think through the steps."
   ]
  },
  {
   "cell_type": "code",
   "execution_count": 1,
   "metadata": {
    "scrolled": true
   },
   "outputs": [],
   "source": [
    "# Dependencies and Setup\n",
    "import matplotlib.pyplot as plt\n",
    "import pandas as pd\n",
    "import numpy as np\n",
    "import requests\n",
    "import time\n",
    "import json\n",
    "from scipy.stats import linregress\n",
    "\n",
    "# Import API key\n",
    "from config import weather_api_key\n",
    "\n",
    "# Incorporated citipy to determine city based on latitude and longitude\n",
    "from citipy import citipy\n",
    "\n",
    "# Output File (CSV)\n",
    "output_data_file = \"output_data/cities.csv\"\n",
    "\n",
    "# Range of latitudes and longitudes\n",
    "lat_range = (-90, 90)\n",
    "lng_range = (-180, 180)"
   ]
  },
  {
   "cell_type": "markdown",
   "metadata": {},
   "source": [
    "## Generate Cities List"
   ]
  },
  {
   "cell_type": "code",
   "execution_count": 2,
   "metadata": {},
   "outputs": [
    {
     "data": {
      "text/plain": [
       "607"
      ]
     },
     "execution_count": 2,
     "metadata": {},
     "output_type": "execute_result"
    }
   ],
   "source": [
    "# List for holding lat_lngs and cities\n",
    "lat_lngs = []\n",
    "cities = []\n",
    "\n",
    "# Create a set of random lat and lng combinations\n",
    "lats = np.random.uniform(lat_range[0], lat_range[1], size=1500)\n",
    "lngs = np.random.uniform(lng_range[0], lng_range[1], size=1500)\n",
    "lat_lngs = zip(lats, lngs)\n",
    "\n",
    "# Identify nearest city for each lat, lng combination\n",
    "for lat_lng in lat_lngs:\n",
    "    city = citipy.nearest_city(lat_lng[0], lat_lng[1]).city_name\n",
    "    \n",
    "    # If the city is unique, then add it to a our cities list\n",
    "    if city not in cities:\n",
    "        cities.append(city)\n",
    "\n",
    "# Print the city count to confirm sufficient count\n",
    "len(cities)"
   ]
  },
  {
   "cell_type": "code",
   "execution_count": 3,
   "metadata": {},
   "outputs": [
    {
     "data": {
      "text/plain": [
       "['rikitea', 'cairns', 'ust-nera', 'ushuaia', 'bredasdorp']"
      ]
     },
     "execution_count": 3,
     "metadata": {},
     "output_type": "execute_result"
    }
   ],
   "source": [
    "cities[:5]"
   ]
  },
  {
   "cell_type": "markdown",
   "metadata": {},
   "source": [
    "### Perform API Calls\n",
    "* Perform a weather check on each city using a series of successive API calls.\n",
    "* Include a print log of each city as it's being processed (with the city number and city name).\n"
   ]
  },
  {
   "cell_type": "code",
   "execution_count": 4,
   "metadata": {},
   "outputs": [
    {
     "data": {
      "text/plain": [
       "'c8b9cf8e041808818c631648e43e7413'"
      ]
     },
     "execution_count": 4,
     "metadata": {},
     "output_type": "execute_result"
    }
   ],
   "source": [
    "weather_api_key"
   ]
  },
  {
   "cell_type": "code",
   "execution_count": 5,
   "metadata": {},
   "outputs": [],
   "source": [
    "# Save config information.\n",
    "url = \"http://api.openweathermap.org/data/2.5/weather?\"\n",
    "units = \"imperial\"\n",
    "\n",
    "# Build partial query URL\n",
    "query_url = f\"{url}appid={weather_api_key}&units={units}&q=\"\n",
    "\n",
    "# print(json.dumps(requests.get(query_url + cities[0]).json(), indent=3))\n",
    "\n",
    "data = requests.get(query_url + cities[0]).json()"
   ]
  },
  {
   "cell_type": "code",
   "execution_count": 6,
   "metadata": {},
   "outputs": [
    {
     "data": {
      "text/plain": [
       "dict_keys(['coord', 'weather', 'base', 'main', 'visibility', 'wind', 'clouds', 'dt', 'sys', 'timezone', 'id', 'name', 'cod'])"
      ]
     },
     "execution_count": 6,
     "metadata": {},
     "output_type": "execute_result"
    }
   ],
   "source": [
    "data.keys()\n",
    "# if curly brackets, use .keys to find the keys of interest"
   ]
  },
  {
   "cell_type": "code",
   "execution_count": 7,
   "metadata": {},
   "outputs": [
    {
     "data": {
      "text/plain": [
       "{'id': 803, 'main': 'Clouds', 'description': 'broken clouds', 'icon': '04d'}"
      ]
     },
     "execution_count": 7,
     "metadata": {},
     "output_type": "execute_result"
    }
   ],
   "source": [
    "data['weather'][0]"
   ]
  },
  {
   "cell_type": "code",
   "execution_count": 9,
   "metadata": {},
   "outputs": [
    {
     "name": "stdout",
     "output_type": "stream",
     "text": [
      "Beginning Data Retrieval\n",
      "----------------------------\n",
      "Processing Record 1 | rikitea\n",
      "Processing Record 2 | cairns\n",
      "Processing Record 3 | ust-nera\n",
      "Processing Record 4 | ushuaia\n",
      "Processing Record 5 | bredasdorp\n",
      "Processing Record 6 | qaanaaq\n",
      "Processing Record 7 | tuktoyaktuk\n",
      "Processing Record 8 | yaan\n",
      "Processing Record 9 | cabo san lucas\n",
      "Processing Record 10 | gera\n",
      "Processing Record 11 | mahebourg\n",
      "Processing Record 12 | kamaishi\n",
      "Processing Record 13 | bandarbeyla\n",
      "Processing Record 14 | subotica\n",
      "Processing Record 15 | port moresby\n",
      "Processing Record 16 | harper\n",
      "Processing Record 17 | saint-philippe\n",
      "City not found. Skipping...\n",
      "Processing Record 18 | vaini\n",
      "Processing Record 19 | hithadhoo\n",
      "Processing Record 20 | phonhong\n",
      "Processing Record 21 | honningsvag\n",
      "Processing Record 22 | hobart\n",
      "City not found. Skipping...\n",
      "Processing Record 23 | langevag\n",
      "City not found. Skipping...\n",
      "Processing Record 24 | atuona\n",
      "Processing Record 25 | jamestown\n",
      "Processing Record 26 | arlit\n",
      "Processing Record 27 | dikson\n",
      "Processing Record 28 | yarmouth\n",
      "Processing Record 29 | khatanga\n",
      "Processing Record 30 | verkhniye sergi\n",
      "Processing Record 31 | cape town\n",
      "Processing Record 32 | roald\n",
      "Processing Record 33 | saldanha\n",
      "Processing Record 34 | yellowknife\n",
      "Processing Record 35 | saskylakh\n",
      "Processing Record 36 | hambantota\n",
      "Processing Record 37 | busselton\n",
      "City not found. Skipping...\n",
      "Processing Record 38 | jinka\n",
      "City not found. Skipping...\n",
      "Processing Record 39 | castro\n",
      "Processing Record 40 | broken hill\n",
      "Processing Record 41 | puerto ayora\n",
      "Processing Record 42 | gazanjyk\n",
      "Processing Record 43 | borisoglebskiy\n",
      "Processing Record 44 | cherskiy\n",
      "Processing Record 45 | kodiak\n",
      "Processing Record 46 | souillac\n",
      "Processing Record 47 | lagoa\n",
      "Processing Record 48 | moussoro\n",
      "Processing Record 49 | vao\n",
      "Processing Record 50 | cidreira\n",
      "Processing Record 51 | acapulco\n",
      "Processing Record 52 | avarua\n",
      "Processing Record 53 | faanui\n",
      "Processing Record 54 | hermanus\n",
      "Processing Record 55 | barrow\n",
      "Processing Record 56 | ilulissat\n",
      "Processing Record 57 | palmer\n",
      "Processing Record 58 | hasaki\n",
      "Processing Record 59 | punta arenas\n",
      "Processing Record 60 | price\n",
      "Processing Record 61 | saint george\n",
      "Processing Record 62 | skjervoy\n",
      "City not found. Skipping...\n",
      "Processing Record 63 | vardo\n",
      "Processing Record 64 | severo-kurilsk\n",
      "Processing Record 65 | bluff\n",
      "Processing Record 66 | talcahuano\n",
      "Processing Record 67 | mar del plata\n",
      "City not found. Skipping...\n",
      "Processing Record 68 | bolkhov\n",
      "Processing Record 69 | alofi\n",
      "Processing Record 70 | san jose de sisa\n",
      "City not found. Skipping...\n",
      "Processing Record 71 | jishui\n",
      "Processing Record 72 | zafra\n",
      "Processing Record 73 | bengkulu\n",
      "Processing Record 74 | victoria\n",
      "Processing Record 75 | bonfim\n",
      "Processing Record 76 | arraial do cabo\n",
      "Processing Record 77 | port elizabeth\n",
      "Processing Record 78 | naranjal\n",
      "Processing Record 79 | sulangan\n",
      "Processing Record 80 | georgetown\n",
      "Processing Record 81 | ahuimanu\n",
      "Processing Record 82 | bambous virieux\n",
      "Processing Record 83 | tokur\n",
      "Processing Record 84 | broome\n",
      "Processing Record 85 | hilo\n",
      "Processing Record 86 | griffith\n",
      "Processing Record 87 | tasiilaq\n",
      "Processing Record 88 | pevek\n",
      "Processing Record 89 | panlaitan\n",
      "City not found. Skipping...\n",
      "Processing Record 90 | san cristobal\n",
      "Processing Record 91 | coquimbo\n",
      "Processing Record 92 | manggar\n",
      "Processing Record 93 | slave lake\n",
      "Processing Record 94 | fortuna\n",
      "Processing Record 95 | ribeira grande\n",
      "Processing Record 96 | bayir\n",
      "Processing Record 97 | newport\n",
      "Processing Record 98 | le creusot\n",
      "Processing Record 99 | gat\n",
      "City not found. Skipping...\n",
      "Processing Record 100 | tezu\n",
      "Processing Record 101 | hobyo\n",
      "Processing Record 102 | chokurdakh\n",
      "Processing Record 103 | leh\n",
      "Processing Record 104 | necochea\n",
      "Processing Record 105 | moron\n",
      "Processing Record 106 | timra\n",
      "Processing Record 107 | guerrero negro\n",
      "Processing Record 108 | smithers\n",
      "Processing Record 109 | lavrentiya\n",
      "Processing Record 110 | cabedelo\n",
      "Processing Record 111 | chaman\n",
      "Processing Record 112 | codrington\n",
      "Processing Record 113 | havoysund\n",
      "Processing Record 114 | san patricio\n",
      "Processing Record 115 | takoradi\n",
      "City not found. Skipping...\n",
      "Processing Record 116 | tekirdag\n",
      "Processing Record 117 | hamilton\n",
      "Processing Record 118 | new norfolk\n",
      "Processing Record 119 | lumeje\n",
      "Processing Record 120 | bud\n",
      "City not found. Skipping...\n",
      "City not found. Skipping...\n",
      "Processing Record 121 | chernyshevskiy\n",
      "Processing Record 122 | namatanai\n",
      "Processing Record 123 | dingle\n",
      "Processing Record 124 | ribeira brava\n",
      "Processing Record 125 | batagay-alyta\n",
      "Processing Record 126 | butaritari\n",
      "Processing Record 127 | at-bashi\n",
      "Processing Record 128 | salalah\n",
      "Processing Record 129 | pemba\n",
      "Processing Record 130 | tiksi\n",
      "Processing Record 131 | kosum phisai\n",
      "City not found. Skipping...\n",
      "Processing Record 132 | roma\n",
      "City not found. Skipping...\n",
      "Processing Record 133 | betare oya\n",
      "City not found. Skipping...\n",
      "Processing Record 134 | richards bay\n",
      "Processing Record 135 | ahipara\n",
      "Processing Record 136 | kahului\n",
      "Processing Record 137 | rio gallegos\n",
      "Processing Record 138 | upernavik\n",
      "Processing Record 139 | laguna\n",
      "Processing Record 140 | labuhan\n",
      "Processing Record 141 | lasem\n",
      "Processing Record 142 | punta alta\n",
      "Processing Record 143 | mednogorsk\n",
      "Processing Record 144 | changji\n",
      "Processing Record 145 | geraldton\n",
      "City not found. Skipping...\n",
      "Processing Record 146 | nautla\n",
      "Processing Record 147 | avera\n",
      "Processing Record 148 | shelburne\n",
      "Processing Record 149 | kununurra\n",
      "Processing Record 150 | esso\n",
      "Processing Record 151 | mataura\n",
      "Processing Record 152 | kaeo\n",
      "Processing Record 153 | najran\n",
      "Processing Record 154 | kapaa\n",
      "Processing Record 155 | gohpur\n",
      "Processing Record 156 | leningradskiy\n",
      "Processing Record 157 | turinsk\n",
      "Processing Record 158 | bathsheba\n",
      "Processing Record 159 | esperance\n",
      "Processing Record 160 | albany\n",
      "Processing Record 161 | santa fe\n",
      "Processing Record 162 | iqaluit\n",
      "Processing Record 163 | airai\n",
      "Processing Record 164 | port macquarie\n",
      "Processing Record 165 | norman wells\n",
      "Processing Record 166 | husavik\n",
      "Processing Record 167 | marawi\n",
      "Processing Record 168 | den helder\n",
      "Processing Record 169 | bonnyville\n",
      "Processing Record 170 | pisco\n",
      "Processing Record 171 | hall\n",
      "Processing Record 172 | mendi\n",
      "Processing Record 173 | carnarvon\n",
      "City not found. Skipping...\n",
      "Processing Record 174 | east london\n",
      "Processing Record 175 | beidao\n",
      "Processing Record 176 | port blair\n",
      "Processing Record 177 | flinders\n",
      "Processing Record 178 | mogadishu\n",
      "City not found. Skipping...\n",
      "Processing Record 179 | cockburn town\n",
      "City not found. Skipping...\n",
      "Processing Record 180 | saint-marc-des-carrieres\n",
      "Processing Record 181 | poum\n",
      "Processing Record 182 | innisfail\n",
      "Processing Record 183 | liwale\n",
      "Processing Record 184 | qasigiannguit\n",
      "Processing Record 185 | zeya\n",
      "Processing Record 186 | fort nelson\n",
      "Processing Record 187 | bull savanna\n",
      "Processing Record 188 | xiaoweizhai\n",
      "City not found. Skipping...\n",
      "City not found. Skipping...\n",
      "Processing Record 189 | panacan\n",
      "Processing Record 190 | constitucion\n",
      "Processing Record 191 | quatre cocos\n",
      "Processing Record 192 | biu\n",
      "Processing Record 193 | jales\n",
      "City not found. Skipping...\n",
      "Processing Record 194 | tocopilla\n",
      "City not found. Skipping...\n",
      "Processing Record 195 | bonthe\n",
      "Processing Record 196 | port alfred\n",
      "Processing Record 197 | strezhevoy\n",
      "Processing Record 198 | torbay\n",
      "Processing Record 199 | adrar\n",
      "Processing Record 200 | maneadero\n",
      "Processing Record 201 | gonaives\n",
      "Processing Record 202 | bethel\n",
      "Processing Record 203 | nabire\n",
      "Processing Record 204 | alihe\n",
      "Processing Record 205 | kalat\n",
      "City not found. Skipping...\n",
      "Processing Record 206 | bumba\n",
      "Processing Record 207 | blagoyevo\n",
      "Processing Record 208 | lompoc\n",
      "Processing Record 209 | samarai\n",
      "Processing Record 210 | narsaq\n",
      "Processing Record 211 | sept-iles\n",
      "Processing Record 212 | turukhansk\n",
      "City not found. Skipping...\n",
      "Processing Record 213 | vostok\n",
      "Processing Record 214 | lakatoro\n",
      "Processing Record 215 | tura\n",
      "Processing Record 216 | matara\n",
      "Processing Record 217 | mayo\n",
      "Processing Record 218 | freeport\n",
      "Processing Record 219 | west helena\n",
      "Processing Record 220 | penzance\n",
      "Processing Record 221 | kropotkin\n",
      "Processing Record 222 | korla\n",
      "Processing Record 223 | gwadar\n",
      "Processing Record 224 | chenzhou\n",
      "Processing Record 225 | warrington\n",
      "Processing Record 226 | parati\n",
      "Processing Record 227 | mareeba\n",
      "Processing Record 228 | picota\n"
     ]
    },
    {
     "name": "stdout",
     "output_type": "stream",
     "text": [
      "Processing Record 229 | port augusta\n",
      "Processing Record 230 | eyl\n",
      "Processing Record 231 | saint-francois\n",
      "Processing Record 232 | thinadhoo\n",
      "Processing Record 233 | longyearbyen\n",
      "Processing Record 234 | ponta do sol\n",
      "Processing Record 235 | nikolskoye\n",
      "Processing Record 236 | mirabad\n",
      "Processing Record 237 | beringovskiy\n",
      "City not found. Skipping...\n",
      "Processing Record 238 | taree\n",
      "Processing Record 239 | half moon bay\n",
      "Processing Record 240 | antsirabe\n",
      "Processing Record 241 | bismarck\n",
      "Processing Record 242 | lebu\n",
      "Processing Record 243 | lisakovsk\n",
      "Processing Record 244 | tutoia\n",
      "Processing Record 245 | yar-sale\n",
      "Processing Record 246 | thompson\n",
      "Processing Record 247 | pemangkat\n",
      "City not found. Skipping...\n",
      "Processing Record 248 | ust-maya\n",
      "City not found. Skipping...\n",
      "Processing Record 249 | truro\n",
      "Processing Record 250 | odweyne\n",
      "Processing Record 251 | sitka\n",
      "City not found. Skipping...\n",
      "Processing Record 252 | qui nhon\n",
      "Processing Record 253 | aklavik\n",
      "Processing Record 254 | sao filipe\n",
      "Processing Record 255 | muros\n",
      "Processing Record 256 | aktash\n",
      "Processing Record 257 | sao jose da coroa grande\n",
      "Processing Record 258 | agadez\n",
      "Processing Record 259 | farafangana\n",
      "Processing Record 260 | dudinka\n",
      "Processing Record 261 | khani\n",
      "Processing Record 262 | itamarandiba\n",
      "Processing Record 263 | tornio\n",
      "Processing Record 264 | kavieng\n",
      "Processing Record 265 | villaviciosa\n",
      "Processing Record 266 | harriston\n",
      "Processing Record 267 | chilca\n",
      "City not found. Skipping...\n",
      "Processing Record 268 | tecoanapa\n",
      "Processing Record 269 | canmore\n",
      "Processing Record 270 | vanimo\n",
      "Processing Record 271 | diego de almagro\n",
      "Processing Record 272 | warren\n",
      "Processing Record 273 | mangrol\n",
      "Processing Record 274 | jasper\n",
      "Processing Record 275 | san policarpo\n",
      "Processing Record 276 | nalut\n",
      "Processing Record 277 | provideniya\n",
      "Processing Record 278 | cienfuegos\n",
      "Processing Record 279 | finschhafen\n",
      "Processing Record 280 | vila do maio\n",
      "City not found. Skipping...\n",
      "City not found. Skipping...\n",
      "Processing Record 281 | yantal\n",
      "Processing Record 282 | nago\n",
      "Processing Record 283 | qazanbulaq\n",
      "Processing Record 284 | port-gentil\n",
      "Processing Record 285 | vicuna\n",
      "Processing Record 286 | coahuayana\n",
      "Processing Record 287 | belmonte\n",
      "Processing Record 288 | raudeberg\n",
      "Processing Record 289 | zyryanka\n",
      "Processing Record 290 | ternate\n",
      "Processing Record 291 | puerto asis\n",
      "Processing Record 292 | nantucket\n",
      "City not found. Skipping...\n",
      "Processing Record 293 | kutum\n",
      "City not found. Skipping...\n",
      "Processing Record 294 | valparaiso\n",
      "Processing Record 295 | boras\n",
      "Processing Record 296 | pangody\n",
      "Processing Record 297 | omsukchan\n",
      "Processing Record 298 | henties bay\n",
      "Processing Record 299 | partizanskoye\n",
      "Processing Record 300 | abha\n",
      "Processing Record 301 | biltine\n",
      "Processing Record 302 | sorong\n",
      "Processing Record 303 | kodinsk\n",
      "Processing Record 304 | sao miguel do araguaia\n",
      "Processing Record 305 | yilan\n",
      "Processing Record 306 | watrous\n",
      "Processing Record 307 | storslett\n",
      "Processing Record 308 | erdemli\n",
      "Processing Record 309 | xinyu\n",
      "Processing Record 310 | moranbah\n",
      "Processing Record 311 | presidencia roque saenz pena\n",
      "Processing Record 312 | praia\n",
      "City not found. Skipping...\n",
      "Processing Record 313 | sidi ali\n",
      "Processing Record 314 | jasa tomic\n",
      "Processing Record 315 | isangel\n",
      "Processing Record 316 | sechura\n",
      "Processing Record 317 | bilma\n",
      "Processing Record 318 | kumo\n",
      "Processing Record 319 | contamana\n",
      "Processing Record 320 | berlevag\n",
      "Processing Record 321 | chaohu\n",
      "Processing Record 322 | bima\n",
      "Processing Record 323 | mount gambier\n",
      "Processing Record 324 | urusha\n",
      "Processing Record 325 | altay\n",
      "Processing Record 326 | camacha\n",
      "Processing Record 327 | faya\n",
      "City not found. Skipping...\n",
      "City not found. Skipping...\n",
      "Processing Record 328 | toledo\n",
      "Processing Record 329 | talnakh\n",
      "Processing Record 330 | port hedland\n",
      "Processing Record 331 | alfredo baquerizo moreno\n",
      "Processing Record 332 | saint anthony\n",
      "Processing Record 333 | pietersburg\n",
      "Processing Record 334 | saiha\n",
      "City not found. Skipping...\n",
      "Processing Record 335 | abu kamal\n",
      "City not found. Skipping...\n",
      "Processing Record 336 | luderitz\n",
      "Processing Record 337 | kalmunai\n",
      "Processing Record 338 | nanortalik\n",
      "Processing Record 339 | taitung\n",
      "Processing Record 340 | barsovo\n",
      "Processing Record 341 | svetlaya\n",
      "Processing Record 342 | turia\n",
      "Processing Record 343 | lages\n",
      "Processing Record 344 | kasane\n",
      "Processing Record 345 | batemans bay\n",
      "Processing Record 346 | ancud\n",
      "City not found. Skipping...\n",
      "Processing Record 347 | saint-augustin\n",
      "Processing Record 348 | dondo\n",
      "City not found. Skipping...\n",
      "Processing Record 349 | meulaboh\n",
      "Processing Record 350 | tessalit\n",
      "Processing Record 351 | altamont\n",
      "Processing Record 352 | ouallam\n",
      "Processing Record 353 | olafsvik\n",
      "Processing Record 354 | manokwari\n",
      "Processing Record 355 | comodoro rivadavia\n",
      "Processing Record 356 | sibolga\n",
      "Processing Record 357 | ketovo\n",
      "Processing Record 358 | sao joao da barra\n",
      "Processing Record 359 | mustafakemalpasa\n",
      "Processing Record 360 | ulladulla\n",
      "Processing Record 361 | puntarenas\n",
      "Processing Record 362 | erzin\n",
      "Processing Record 363 | curuca\n",
      "Processing Record 364 | kilindoni\n",
      "Processing Record 365 | puerto del rosario\n",
      "Processing Record 366 | agirish\n",
      "Processing Record 367 | kysyl-syr\n",
      "Processing Record 368 | teplodar\n",
      "Processing Record 369 | chuy\n",
      "City not found. Skipping...\n",
      "Processing Record 370 | bobo dioulasso\n",
      "Processing Record 371 | kruisfontein\n",
      "Processing Record 372 | espanola\n",
      "Processing Record 373 | tashtagol\n",
      "Processing Record 374 | labytnangi\n",
      "Processing Record 375 | guanica\n",
      "Processing Record 376 | tres arroyos\n",
      "Processing Record 377 | egvekinot\n",
      "Processing Record 378 | ingham\n",
      "Processing Record 379 | tuy hoa\n",
      "Processing Record 380 | katsuura\n",
      "Processing Record 381 | halifax\n",
      "Processing Record 382 | georgiyevka\n",
      "Processing Record 383 | sosnovo-ozerskoye\n",
      "City not found. Skipping...\n",
      "Processing Record 384 | whitehorse\n",
      "Processing Record 385 | grindavik\n",
      "Processing Record 386 | huarmey\n",
      "City not found. Skipping...\n",
      "Processing Record 387 | huai yot\n",
      "Processing Record 388 | vila franca do campo\n",
      "Processing Record 389 | manta\n",
      "Processing Record 390 | antalaha\n",
      "City not found. Skipping...\n",
      "Processing Record 391 | barranca\n",
      "Processing Record 392 | katima mulilo\n",
      "Processing Record 393 | eatonton\n",
      "Processing Record 394 | sinnamary\n",
      "Processing Record 395 | inhambane\n",
      "City not found. Skipping...\n",
      "Processing Record 396 | ban phai\n",
      "Processing Record 397 | tuatapere\n",
      "Processing Record 398 | waynesville\n",
      "Processing Record 399 | nishihara\n",
      "Processing Record 400 | san vicente\n",
      "Processing Record 401 | noumea\n",
      "Processing Record 402 | moletai\n",
      "Processing Record 403 | lexington\n",
      "Processing Record 404 | shimoda\n",
      "Processing Record 405 | nerchinskiy zavod\n",
      "Processing Record 406 | chunskiy\n",
      "Processing Record 407 | le port\n",
      "City not found. Skipping...\n",
      "Processing Record 408 | lima\n",
      "Processing Record 409 | taltal\n",
      "Processing Record 410 | kazachinskoye\n",
      "Processing Record 411 | chlorakas\n",
      "City not found. Skipping...\n",
      "Processing Record 412 | ormstown\n",
      "Processing Record 413 | oranjemund\n",
      "Processing Record 414 | novouzensk\n",
      "Processing Record 415 | birkeland\n",
      "Processing Record 416 | lumberton\n",
      "Processing Record 417 | copiapo\n",
      "Processing Record 418 | flin flon\n",
      "Processing Record 419 | charters towers\n",
      "Processing Record 420 | killam\n",
      "Processing Record 421 | manado\n",
      "Processing Record 422 | los llanos de aridane\n",
      "Processing Record 423 | pangkalanbuun\n",
      "Processing Record 424 | alexandria\n",
      "Processing Record 425 | grand gaube\n",
      "Processing Record 426 | itacoatiara\n",
      "Processing Record 427 | dibulla\n",
      "Processing Record 428 | tahta\n",
      "Processing Record 429 | kieta\n",
      "Processing Record 430 | goya\n",
      "City not found. Skipping...\n",
      "Processing Record 431 | karacabey\n",
      "Processing Record 432 | camana\n",
      "Processing Record 433 | esqueda\n",
      "Processing Record 434 | kampot\n",
      "Processing Record 435 | havelock\n",
      "Processing Record 436 | san quintin\n",
      "Processing Record 437 | rorvik\n",
      "Processing Record 438 | tuban\n",
      "Processing Record 439 | sosnogorsk\n",
      "Processing Record 440 | kasamwa\n",
      "Processing Record 441 | cap malheureux\n",
      "Processing Record 442 | dubbo\n",
      "Processing Record 443 | vanavara\n",
      "Processing Record 444 | jumla\n",
      "Processing Record 445 | kuna\n",
      "Processing Record 446 | anqing\n",
      "Processing Record 447 | lhokseumawe\n",
      "Processing Record 448 | bilibino\n",
      "Processing Record 449 | mujiayingzi\n",
      "Processing Record 450 | mangan\n",
      "Processing Record 451 | saint-georges\n"
     ]
    },
    {
     "name": "stdout",
     "output_type": "stream",
     "text": [
      "Processing Record 452 | clyde river\n",
      "Processing Record 453 | puerto escondido\n",
      "Processing Record 454 | mount isa\n",
      "Processing Record 455 | lugovoy\n",
      "Processing Record 456 | biak\n",
      "Processing Record 457 | marsh harbour\n",
      "Processing Record 458 | aksarka\n",
      "Processing Record 459 | beyneu\n",
      "City not found. Skipping...\n",
      "City not found. Skipping...\n",
      "Processing Record 460 | qingyuan\n",
      "Processing Record 461 | zyryanovsk\n",
      "Processing Record 462 | port lincoln\n",
      "Processing Record 463 | klaksvik\n",
      "Processing Record 464 | hualmay\n",
      "Processing Record 465 | te anau\n",
      "Processing Record 466 | tekkali\n",
      "Processing Record 467 | persianovskiy\n",
      "Processing Record 468 | cayenne\n",
      "Processing Record 469 | brae\n",
      "Processing Record 470 | kisangani\n",
      "Processing Record 471 | santiago del estero\n",
      "Processing Record 472 | tautira\n",
      "Processing Record 473 | severnoye\n",
      "Processing Record 474 | naze\n",
      "City not found. Skipping...\n",
      "City not found. Skipping...\n",
      "Processing Record 475 | asau\n",
      "Processing Record 476 | keti bandar\n",
      "Processing Record 477 | sainte-maxime\n",
      "Processing Record 478 | shwebo\n",
      "Processing Record 479 | ilebo\n",
      "Processing Record 480 | ambilobe\n",
      "Processing Record 481 | norman\n",
      "Processing Record 482 | nueve de julio\n",
      "Processing Record 483 | payakumbuh\n",
      "Processing Record 484 | fuerte olimpo\n",
      "Processing Record 485 | baoshan\n",
      "Processing Record 486 | sakakah\n",
      "Processing Record 487 | gavrilovka vtoraya\n",
      "Processing Record 488 | sao felix do xingu\n",
      "Processing Record 489 | channel-port aux basques\n",
      "Processing Record 490 | palma soriano\n",
      "Processing Record 491 | aksu\n",
      "City not found. Skipping...\n",
      "Processing Record 492 | gawler\n",
      "Processing Record 493 | lyubim\n",
      "Processing Record 494 | yangjiang\n",
      "Processing Record 495 | powell river\n",
      "Processing Record 496 | tavda\n",
      "Processing Record 497 | wuwei\n",
      "Processing Record 498 | nador\n",
      "Processing Record 499 | yelizovo\n",
      "Processing Record 500 | srednekolymsk\n",
      "Processing Record 501 | hofn\n",
      "Processing Record 502 | masvingo\n",
      "Processing Record 503 | wajid\n",
      "Processing Record 504 | abu samrah\n",
      "Processing Record 505 | villarrica\n",
      "Processing Record 506 | kiunga\n",
      "Processing Record 507 | waingapu\n",
      "Processing Record 508 | aquiraz\n",
      "Processing Record 509 | tyulgan\n",
      "City not found. Skipping...\n",
      "Processing Record 510 | ponta delgada\n",
      "Processing Record 511 | bang saphan\n",
      "City not found. Skipping...\n",
      "Processing Record 512 | ginir\n",
      "Processing Record 513 | sorland\n",
      "Processing Record 514 | krasnoselkup\n",
      "Processing Record 515 | churapcha\n",
      "Processing Record 516 | saint-joseph\n",
      "Processing Record 517 | poso\n",
      "Processing Record 518 | gurupa\n",
      "Processing Record 519 | manjacaze\n",
      "Processing Record 520 | chama\n",
      "Processing Record 521 | hastings\n",
      "Processing Record 522 | bistret\n",
      "Processing Record 523 | prainha\n",
      "Processing Record 524 | teya\n",
      "Processing Record 525 | jacareacanga\n",
      "Processing Record 526 | ugoofaaru\n",
      "Processing Record 527 | luganville\n",
      "Processing Record 528 | kinablangan\n",
      "Processing Record 529 | kaitangata\n",
      "Processing Record 530 | coihaique\n",
      "Processing Record 531 | ixtapa\n",
      "Processing Record 532 | orodara\n",
      "Processing Record 533 | miri\n",
      "Processing Record 534 | haverfordwest\n",
      "Processing Record 535 | jhang\n",
      "Processing Record 536 | khasan\n",
      "Processing Record 537 | oum hadjer\n",
      "Processing Record 538 | hirara\n",
      "Processing Record 539 | gizo\n",
      "Processing Record 540 | jackson\n",
      "Processing Record 541 | nome\n",
      "Processing Record 542 | chapais\n",
      "Processing Record 543 | nanlong\n",
      "Processing Record 544 | kolokani\n",
      "Processing Record 545 | hammerfest\n",
      "Processing Record 546 | semey\n",
      "City not found. Skipping...\n",
      "Processing Record 547 | port hardy\n",
      "Processing Record 548 | kimberley\n",
      "Processing Record 549 | urbana\n"
     ]
    }
   ],
   "source": [
    "# DF to store all cities and city number (uses citipy)\n",
    "city_df = pd.DataFrame({'City': cities})\n",
    "print(\"Beginning Data Retrieval\")\n",
    "print(\"----------------------------\")\n",
    "\n",
    "\n",
    "# Sets parameters for calling city name\n",
    "\n",
    "\n",
    "# Target Url for API calls\n",
    "query_url = \"http://api.openweathermap.org/data/2.5/weather\"\n",
    "\n",
    "# Create add'l fields for later api calls\n",
    "\n",
    "city_df['Lat'] = ''\n",
    "city_df['Lng'] = ''\n",
    "city_df['Max Temp'] = ''\n",
    "city_df['Humidity'] = ''\n",
    "city_df['Cloudiness'] = ''\n",
    "city_df['Wind Speed'] = ''\n",
    "city_df['Country'] = ''\n",
    "city_df['Date'] = ''\n",
    "\n",
    "city_count = 0\n",
    "\n",
    "# Loop through the API\n",
    "for index,row in city_df.iterrows():\n",
    "\n",
    "    city_name = row['City']\n",
    "#     city_id = row['id']\n",
    "    \n",
    "    # Set query parameters\n",
    "    params = {'q': city_name,'units': 'imperial','appid': weather_api_key,}\n",
    "    response = requests.get(query_url, params = params).json()\n",
    "    \n",
    "    try:\n",
    "       \n",
    "        city_df.loc[index, 'Lat'] = response['coord']['lat']\n",
    "        city_df.loc[index, 'Lng'] = response['coord']['lon']\n",
    "#         citydf.loc[index, 'Max Temp (F)'] = response['main']['temp_max']\n",
    "#         citydf.loc[index, 'Humidity (%)'] = response['main']['humidity']\n",
    "#         citydf.loc[index, 'Cloudiness (%)'] = response['clouds']['all']\n",
    "#         citydf.loc[index, 'Wind Speed'] = response['wind']['speed']\n",
    "#         city_df.loc[index, 'Date'] = response['dt']\n",
    "        \n",
    "        # Update city number\n",
    "        city_count += 1\n",
    "        \n",
    "        # Print log of each city being processed (only if all data is available)\n",
    "        print(f'Processing Record {city_count} | {city_name}')\n",
    "        \n",
    "    except (KeyError, IndexError):\n",
    "\n",
    "        print(\"City not found. Skipping...\")\n",
    "\n",
    "\n",
    "## Every time the below three lines are included an error occurs.  So they are commented out until this is resolved.\n",
    "# print(\"----------------------------\")\n",
    "# print(\"Data Retrieval Complete\")\n",
    "# print(\"----------------------------\")"
   ]
  },
  {
   "cell_type": "code",
   "execution_count": null,
   "metadata": {
    "scrolled": true
   },
   "outputs": [],
   "source": [
    "# don't run this cell - sample export"
   ]
  },
  {
   "cell_type": "markdown",
   "metadata": {},
   "source": [
    "### Convert Raw Data to DataFrame\n",
    "* Export the city data into a .csv.\n",
    "* Display the DataFrame"
   ]
  },
  {
   "cell_type": "code",
   "execution_count": null,
   "metadata": {},
   "outputs": [],
   "source": [
    "# don't rund this - sample"
   ]
  },
  {
   "cell_type": "code",
   "execution_count": null,
   "metadata": {},
   "outputs": [],
   "source": [
    "# don't run this - sample"
   ]
  },
  {
   "cell_type": "markdown",
   "metadata": {},
   "source": [
    "## Inspect the data and remove the cities where the humidity > 100%.\n",
    "----\n",
    "Skip this step if there are no cities that have humidity > 100%. "
   ]
  },
  {
   "cell_type": "code",
   "execution_count": null,
   "metadata": {},
   "outputs": [],
   "source": [
    "# don't run this -s ample"
   ]
  },
  {
   "cell_type": "code",
   "execution_count": null,
   "metadata": {},
   "outputs": [],
   "source": [
    "#  Get the indices of cities that have humidity over 100%.\n"
   ]
  },
  {
   "cell_type": "code",
   "execution_count": null,
   "metadata": {},
   "outputs": [],
   "source": [
    "# Make a new DataFrame equal to the city data to drop all humidity outliers by index.\n",
    "# Passing \"inplace=False\" will make a copy of the city_data DataFrame, which we call \"clean_city_data\".\n"
   ]
  },
  {
   "cell_type": "code",
   "execution_count": null,
   "metadata": {},
   "outputs": [],
   "source": [
    "# don't run this = sample"
   ]
  },
  {
   "cell_type": "markdown",
   "metadata": {},
   "source": [
    "## Plotting the Data\n",
    "* Use proper labeling of the plots using plot titles (including date of analysis) and axes labels.\n",
    "* Save the plotted figures as .pngs."
   ]
  },
  {
   "cell_type": "markdown",
   "metadata": {},
   "source": [
    "## Latitude vs. Temperature Plot"
   ]
  },
  {
   "cell_type": "code",
   "execution_count": null,
   "metadata": {
    "scrolled": true
   },
   "outputs": [],
   "source": [
    "# don't run this - sample"
   ]
  },
  {
   "cell_type": "markdown",
   "metadata": {},
   "source": [
    "## Latitude vs. Humidity Plot"
   ]
  },
  {
   "cell_type": "code",
   "execution_count": null,
   "metadata": {},
   "outputs": [],
   "source": [
    "# don't run this - sample"
   ]
  },
  {
   "cell_type": "markdown",
   "metadata": {},
   "source": [
    "## Latitude vs. Cloudiness Plot"
   ]
  },
  {
   "cell_type": "code",
   "execution_count": null,
   "metadata": {},
   "outputs": [],
   "source": [
    "# don't rum this - sample"
   ]
  },
  {
   "cell_type": "markdown",
   "metadata": {},
   "source": [
    "## Latitude vs. Wind Speed Plot"
   ]
  },
  {
   "cell_type": "code",
   "execution_count": null,
   "metadata": {},
   "outputs": [],
   "source": [
    "# don't rum this - sample"
   ]
  },
  {
   "cell_type": "markdown",
   "metadata": {},
   "source": [
    "## Linear Regression"
   ]
  },
  {
   "cell_type": "code",
   "execution_count": null,
   "metadata": {},
   "outputs": [],
   "source": [
    "# don't rum this - sample"
   ]
  },
  {
   "cell_type": "markdown",
   "metadata": {},
   "source": [
    "####  Northern Hemisphere - Max Temp vs. Latitude Linear Regression"
   ]
  },
  {
   "cell_type": "code",
   "execution_count": null,
   "metadata": {},
   "outputs": [],
   "source": [
    "# don't rum this - sample"
   ]
  },
  {
   "cell_type": "markdown",
   "metadata": {},
   "source": [
    "####  Southern Hemisphere - Max Temp vs. Latitude Linear Regression"
   ]
  },
  {
   "cell_type": "code",
   "execution_count": null,
   "metadata": {},
   "outputs": [],
   "source": [
    "# don't rum this - sample"
   ]
  },
  {
   "cell_type": "markdown",
   "metadata": {},
   "source": [
    "####  Northern Hemisphere - Humidity (%) vs. Latitude Linear Regression"
   ]
  },
  {
   "cell_type": "code",
   "execution_count": null,
   "metadata": {},
   "outputs": [],
   "source": [
    "# don't rum this - sample"
   ]
  },
  {
   "cell_type": "markdown",
   "metadata": {},
   "source": [
    "####  Southern Hemisphere - Humidity (%) vs. Latitude Linear Regression"
   ]
  },
  {
   "cell_type": "code",
   "execution_count": null,
   "metadata": {},
   "outputs": [],
   "source": [
    "# don't rum this - sample"
   ]
  },
  {
   "cell_type": "markdown",
   "metadata": {},
   "source": [
    "####  Northern Hemisphere - Cloudiness (%) vs. Latitude Linear Regression"
   ]
  },
  {
   "cell_type": "code",
   "execution_count": null,
   "metadata": {},
   "outputs": [],
   "source": [
    "# don't rum this - sample"
   ]
  },
  {
   "cell_type": "markdown",
   "metadata": {},
   "source": [
    "####  Southern Hemisphere - Cloudiness (%) vs. Latitude Linear Regression"
   ]
  },
  {
   "cell_type": "code",
   "execution_count": null,
   "metadata": {},
   "outputs": [],
   "source": [
    "# don't rum this - sample"
   ]
  },
  {
   "cell_type": "markdown",
   "metadata": {},
   "source": [
    "####  Northern Hemisphere - Wind Speed (mph) vs. Latitude Linear Regression"
   ]
  },
  {
   "cell_type": "code",
   "execution_count": null,
   "metadata": {},
   "outputs": [],
   "source": [
    "# don't rum this - sample"
   ]
  },
  {
   "cell_type": "markdown",
   "metadata": {},
   "source": [
    "####  Southern Hemisphere - Wind Speed (mph) vs. Latitude Linear Regression"
   ]
  },
  {
   "cell_type": "code",
   "execution_count": null,
   "metadata": {},
   "outputs": [],
   "source": [
    "# don't rum this - sample"
   ]
  },
  {
   "cell_type": "code",
   "execution_count": null,
   "metadata": {},
   "outputs": [],
   "source": []
  }
 ],
 "metadata": {
  "anaconda-cloud": {},
  "kernel_info": {
   "name": "python3"
  },
  "kernelspec": {
   "display_name": "Python 3",
   "language": "python",
   "name": "python3"
  },
  "language_info": {
   "codemirror_mode": {
    "name": "ipython",
    "version": 3
   },
   "file_extension": ".py",
   "mimetype": "text/x-python",
   "name": "python",
   "nbconvert_exporter": "python",
   "pygments_lexer": "ipython3",
   "version": "3.8.5"
  },
  "latex_envs": {
   "LaTeX_envs_menu_present": true,
   "autoclose": false,
   "autocomplete": true,
   "bibliofile": "biblio.bib",
   "cite_by": "apalike",
   "current_citInitial": 1,
   "eqLabelWithNumbers": true,
   "eqNumInitial": 1,
   "hotkeys": {
    "equation": "Ctrl-E",
    "itemize": "Ctrl-I"
   },
   "labels_anchors": false,
   "latex_user_defs": false,
   "report_style_numbering": false,
   "user_envs_cfg": false
  },
  "nteract": {
   "version": "0.12.3"
  }
 },
 "nbformat": 4,
 "nbformat_minor": 2
}
